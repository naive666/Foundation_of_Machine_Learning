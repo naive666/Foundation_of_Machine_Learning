{
 "cells": [
  {
   "cell_type": "markdown",
   "metadata": {},
   "source": [
    "# Bias and Variance  \n",
    "- Suppose we have a probability distribution $P$.  \n",
    "  - Often we want to estimate some characteristic of $P$.  \n",
    "  - e.g. expected value, variance, kurtosis, median  \n",
    "- These things are called parameters of $P$.  \n",
    "- A parameter $\\mu = \\mu(P)$ is any function of the distribution $P$.  \n",
    "- Is $\\mu(P)$ random?  \n",
    "- No  \n",
    "\n",
    "# Statistics and Estimators\n",
    "- Suppose $D_n = (x_1,x_2,...,x_n)$ is an i.i.d. sample from $P$.  \n",
    "- A statistic $s = s(D_n)$ is any function of the data.  \n",
    "- A static $\\hat{\\mu} = \\hat{\\mu}(D_n)$ is a point estimator  \n",
    "Are statistics and/or point estimators random?   \n",
    "Answer: Yes, since we’re considering the data to be random.   \n",
    "\n",
    "## Examples of Statistics\n",
    "- Mean, Median, Sample Variance, A data histogram is a statistic, Confidence Interval  \n",
    "\n",
    "## Statistics are Random  \n",
    "- Statistics are random, so they have probability distributions  \n",
    "- The distribution of a statistic is called a sampling distribution  \n",
    "- We often want to know some parameters of the sampling distribution.  \n",
    "  - Most commonly the mean and the standard deviation.\n",
    "- The standard deviation of the sampling distribution is called the standard err  \n",
    "\n",
    "## Bias and Variance for Real-Valued Estimators\n",
    "- Let $\\mu : P \\mapsto R$ be a real-valued parameter.  \n",
    "- Let $\\hat{\\mu}: D_n \\mapsto R$ be an estimator of $\\mu$  \n",
    "- For short, write $\\mu = \\mu(P)$ and $\\hat{\\mu} =  \\hat{\\mu}(D_n)$.  \n",
    "- We deﬁne the bias of $\\hat{\\mu}$ to be $\\text{Bias}(\\hat{\\mu}) =E\\hat{\\mu}−\\mu$  \n",
    "- We deﬁne the variance of $\\hat{\\mu}$ to be $\\text{Var}(\\hat{\\mu}) = E\\hat{\\mu}^2 - (E\\hat{\\mu})^2$  \n",
    "- An estimator is unbiased if $\\text{Bias}(\\hat{\\mu}) = 0$  \n",
    "\n",
    "**Neither bias nor variance depend on a speciﬁc sample Dn. We are taking expectation over Dn.**  \n",
    "\n",
    "## Estimating Variance of an Estimator\n",
    "\n",
    "\n"
   ]
  },
  {
   "cell_type": "markdown",
   "metadata": {},
   "source": [
    "- Instead of a single sample $D_n$ of size $n$, suppose we had  \n",
    "  - $B$ independent samples of size $n$: $D_n^1,...,D_n^B$  \n",
    "$$\n",
    "E\\hat{\\mu} \\approx \\frac{1}{B}\\sum_{i=1}^B\\hat{\\mu}(D_n^i)\n",
    "$$  \n",
    "$$\n",
    "E\\hat{\\mu}^2 \\approx \\frac{1}{B}\\sum_{i=1}^B[\\hat{\\mu}(D_n^i)]^2\n",
    "$$  \n",
    "\n",
    "## Putting “Error Bars” on Estimator\n",
    "- Why do we even care about estimating variance?  \n",
    "- Would like to report a conﬁdence interval for our point estimate:\n",
    "$$\n",
    "\\hat{\\mu}\n",
    "$$"
   ]
  }
 ],
 "metadata": {
  "kernelspec": {
   "display_name": "Python 3",
   "language": "python",
   "name": "python3"
  },
  "language_info": {
   "codemirror_mode": {
    "name": "ipython",
    "version": 3
   },
   "file_extension": ".py",
   "mimetype": "text/x-python",
   "name": "python",
   "nbconvert_exporter": "python",
   "pygments_lexer": "ipython3",
   "version": "3.7.1"
  },
  "latex_envs": {
   "LaTeX_envs_menu_present": true,
   "autoclose": false,
   "autocomplete": false,
   "bibliofile": "biblio.bib",
   "cite_by": "apalike",
   "current_citInitial": 1,
   "eqLabelWithNumbers": true,
   "eqNumInitial": 1,
   "hotkeys": {
    "equation": "Ctrl-E",
    "itemize": "Ctrl-I"
   },
   "labels_anchors": false,
   "latex_user_defs": false,
   "report_style_numbering": false,
   "user_envs_cfg": false
  },
  "toc": {
   "base_numbering": 1,
   "nav_menu": {},
   "number_sections": true,
   "sideBar": true,
   "skip_h1_title": false,
   "title_cell": "Table of Contents",
   "title_sidebar": "Contents",
   "toc_cell": false,
   "toc_position": {},
   "toc_section_display": true,
   "toc_window_display": false
  },
  "varInspector": {
   "cols": {
    "lenName": 16,
    "lenType": 16,
    "lenVar": 40
   },
   "kernels_config": {
    "python": {
     "delete_cmd_postfix": "",
     "delete_cmd_prefix": "del ",
     "library": "var_list.py",
     "varRefreshCmd": "print(var_dic_list())"
    },
    "r": {
     "delete_cmd_postfix": ") ",
     "delete_cmd_prefix": "rm(",
     "library": "var_list.r",
     "varRefreshCmd": "cat(var_dic_list()) "
    }
   },
   "types_to_exclude": [
    "module",
    "function",
    "builtin_function_or_method",
    "instance",
    "_Feature"
   ],
   "window_display": false
  }
 },
 "nbformat": 4,
 "nbformat_minor": 2
}
