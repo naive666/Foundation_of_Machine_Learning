{
 "cells": [
  {
   "cell_type": "markdown",
   "metadata": {},
   "source": [
    "# Probability and Statistics for Machine Learning"
   ]
  },
  {
   "cell_type": "markdown",
   "metadata": {},
   "source": [
    "## Likelihood Function\n",
    "- **What is the Likelihood Function?**  \n",
    "  - The likelihood is a function of the parameters of a statistical model. Given some results of an observation, we estimate the parameters. \n",
    "  - Suppose we have a probability function: $P(x|\\theta)$, if $\\theta$ is known and fixed, x is the variable, then we say $P(x|\\theta)$ probability function. If $x$ is known and fixed, which means we know the result of the observation, and we would like to know about $\\theta$, we say $L(\\theta|x)$ likelihood function.\n",
    "  - For example, we now have an unfair coin, and we don't know either the probability of $P(head)$ or $P(tail)$, but we can flip the coins for several times, here we flip 2 times. Then we get the result---suppose we get 2 Heads. Let's denote $P(head) = \\theta$, then the likelihood $L(\\theta|HH) = P(HH|\\theta) = \\theta^2$, if the reuslt is $HHT$, then $L(\\theta|HHT) = \\theta^2(1-\\theta)$\n",
    "  - How can we choose the **\"Best Parameter\"** based on our experiment?  \n",
    "<br/>\n",
    "- **The Maximum Likelihood (ML) Estimator**\n",
    "  - We should choose a parameter that maximize the prbability of the outcomes\n",
    "  - $\\hat{\\theta} = \\arg\\max_{\\theta}P(x|\\theta)$\n",
    "  - In the above situation, if the result is $HHT$, $L(\\theta|HHT) = P(HHT|\\theta) = \\theta^2(1-\\theta)$, when $\\theta = \\frac{2}{3}$, we have the maximum likelihood. However, if the result is $HH$, then $L(\\theta|HH) = P(HH|\\theta) = \\theta^2$, we choose $\\theta = 1$ as the estimator, since $0 \\leq \\theta \\leq 1$, but this seems implausible.\n"
   ]
  },
  {
   "cell_type": "markdown",
   "metadata": {},
   "source": [
    "## The Maximum a Posteriori (MAP) Estimator\n",
    "- **Priori and Posteriori**  \n",
    "The **prior probability** $p(y)$ is the probability of the state before we have observed it. For example, we usually beleive a coin is fair, which means $P(head) = P(tail) = 0.5$, but in some cases, this is not the truth, and therefore we need to revise our estimator based on the experiment outcomes.The revised estimator is **Posteriori Estimator**.\n",
    "<br/>\n",
    "\n",
    "- **Example**  \n",
    "Suppose for a particular event, our intuition tells us the probablity of happen is $P(happen)$ (\"happen\" in this case is like parameter), and after some new external information comes(\"Information\" is like the outcome of observation), the revised probability of \"happen\" becomes $P(happen | information)$. In this case, we find $P(information | happen) = L(happen | inforamtion)$ is the Likelihood Function. If we combine the **Likelihood and Prior probability** and apply **Bayesian Rule**, we get: $$P(happen | information) = \\frac{P(information | happen)P(happen)}{p(information)}$$\n",
    "<br/>\n",
    "\n",
    "- **MAP**  \n",
    "  - Like the Maximum Likelihood, MAP is another method to estimate the parameters. But MAP believes $\\theta$ is a **Random Variable** while, in ML $\\theta$ is a fixed variable.\n",
    "  - Generally, **MAP** is: $$\\arg\\max_{\\theta}P(\\theta|x) = \\arg\\max_{\\theta} \\frac{P(x|\\theta)P(\\theta)}{p(x)}$$"
   ]
  },
  {
   "cell_type": "markdown",
   "metadata": {},
   "source": [
    "# Space, Decision Rules and Loss Function"
   ]
  },
  {
   "cell_type": "markdown",
   "metadata": {},
   "source": [
    "## Three Spaces\n",
    "- Input Space $X$\n",
    "- Action Space $A$\n",
    "- Outcome Space $Y$\n",
    "\n",
    "### The Differences of These Spaces\n",
    "It is easily understanble of **Input Space**, but the differences between **Action Space** and **Outcome Space** is confusing.  \n",
    "- Let's take an example: In a binary classification, we use Logistic Regression, but the final result should be 1 or 0. Thus, the action space is $\\mathcal{R}_{[0,1]}$, since the range of logistic function is $\\mathcal{R}_{[0,1]}$, but the outcome space is {0,1}\n",
    "<br/>\n",
    "\n",
    "## Decision Function:\n",
    "Let $x \\in \\mathcal{X}$, and $\\mathcal{A}$ is Action space, then $$\\mathcal{f} : \\mathcal{X} \\to \\mathcal{A}$$\n",
    "$$ x \\mapsto f(x) $$  \n",
    "is the decision function.  \n",
    "<br/>\n",
    "\n",
    "In some notations, we call it **Decision Rules**: A $\\textit{decision rule}$ $\\alpha(.)$ takes input x and outputs a decision $\\alpha(x)$. $\\mathcal{A}$ is sometimes called the hypothesis space. In Bayes Decision Theory there are usually no restrictions placed on $\\mathcal{A}$(i.e. all rules $\\alpha(.)$ are allowed). In Machine Learning, we will usually put restrictions on $\\mathcal{A}$ to ensure that we have have enough data to learn them\n",
    "\n",
    "## Loss Function:\n",
    "Loss function is used to evaluate an action, here $a \\in \\mathcal{A}$. Be careful that it is not used to evaluate the entire model.\n",
    "$$\\mathcal{l}: \\mathcal{A}x \\mathcal{Y} \\to \\mathcal{R}$$\n",
    "$$(a,y) \\mapsto \\mathcal{l}(a,y)$$"
   ]
  },
  {
   "cell_type": "markdown",
   "metadata": {},
   "source": [
    "# Risk and Bayes Decision Theory\n",
    "The risk function combines the loss function, the decision rule, and the probabilities. More precisely, the risk of a decision rule $\\alpha(.)$ is the expected loss $L(.,.)$ with respect to the probabilities $P(.,.)$:\n",
    "$$\\mathcal{R}(\\alpha) = \\sum_{x,y}L(\\alpha(x),y)P(x,y)$$ this is for discrete cases, if it is continuous, substitute $\\sum$ by $\\int$  \n",
    "<br/>\n",
    "\n",
    "**Bayesian Decision Rule**\n",
    "$$\\hat{\\alpha} = \\arg\\min_{\\alpha \\in \\mathcal{A}}\\mathcal{R}(\\alpha)$$  \n",
    "<br/>\n",
    "\n",
    "**Re-express the Risk function**  \n",
    "\n",
    "$$\n",
    "\\begin{aligned}\n",
    "\\mathcal{R}(\\alpha) =& \\sum_{x,y}L(\\alpha(x),y)P(x,y)\\\\\n",
    "=& \\sum_{x}\\sum_{y}L(\\alpha(x),y)P(y|x)P(x)\\\\\n",
    "=& \\sum_{x}P(x)\\sum_{y}L(\\alpha(x),y)P(y|x)\n",
    "\\end{aligned}\n",
    "$$\n",
    "Therefore, for each $x$, the best decision function $$\\hat{\\alpha}(x) = \\arg\\min_{\\alpha \\in \\mathcal{A}}\\sum_{y}L(\\alpha(x),y)P(y|x)$$\n",
    "\n",
    "**Example**:  \n",
    "Let's consider \"0-1 loss\":\n",
    "$$\n",
    "L(\\alpha(x),y) = \n",
    "\\begin{cases}\n",
    "1, \\alpha(x) \\neq y\\\\\n",
    "0, \\alpha(x) = y\n",
    "\\end{cases}\n",
    "$$\n",
    "where $y \\in \\{-1,1\\}$, what is $\\hat{\\alpha}(x)?$\n",
    "$$\n",
    "\\begin{aligned}\n",
    "\\hat{\\alpha}(x) &= \\arg\\min_{\\alpha \\in \\mathcal{A}}\\sum_{y}L(\\alpha(x),y)P(y|x)\\\\\n",
    "&= \\sum_{y \\neq \\alpha(x)}P(y \\neq \\alpha(x)|x) + \\sum_{y = \\alpha(x)}P(y = \\alpha(x)|x)*0\\\\\n",
    "&= \\sum_{y \\neq \\alpha(x)}P(y \\neq \\alpha(x)|x)\\\\\n",
    "&= 1 - \\sum_{y}P(y = \\alpha(x)|x)\n",
    "\\end{aligned}\n",
    "$$\n",
    "which means we need $$ \\sum_{y = \\alpha(x)}P(y = \\alpha(x)|x) = P(y = \\alpha(x)|x)$$\n",
    "to attain its maximum, that is we should find $$\\arg\\max_{\\alpha}P(y = \\alpha(x)|x) $$\n",
    "This is **MAP** estimate!"
   ]
  },
  {
   "cell_type": "markdown",
   "metadata": {},
   "source": [
    "# The Log-Likelihood Ratio and Thresholds\n",
    "- Suppose we have a binary classification problem, $y \\in \\{1,-1\\}$, and $x \\in \\mathcal{X}$, for any given $x$, we have $P(x|y=1)$ and $P(x|y=-1)$, which $y$ should we choose for a given $x$? We consider the Maximum Likelihood estimator, if $P(x|y=1) > P(x|y=-1)$ , we can choose $y = 1$, else we choose $y = -1$ \n",
    "- Hence for binary classification, we have $\\mathit{log-likelihood}$ $\\mathit{ratio}$ $\\log\\frac{P(x|y=1)}{P(x|y=-1)}$ and a threshold $T$, which is determinded by the prior and loss functions.  \n",
    "<br/>\n",
    "\n",
    "Now let's express the loss function as $2\\times2$ matrix, $\\{L_{a,i}: a = 1,-1, i = 1,-1 \\}$, where $L_{a,i} = L(\\alpha(x) = a, y = i)$  \n",
    "- For any **given $x$**, our goal is to find $\\alpha(x)$ such that it minimize the expected loss  \n",
    "<br/>\n",
    "\n",
    "The expected loss for decision $\\alpha(x) = 1$ is given by $L_{1,1}P(y = 1|x) + L_{1,-1}P(y = -1|x)$; The expected loss for decision $\\alpha(x) = -1$ is given by $L_{-1,1}P(y = 1|x) + L_{-1,-1}P(y = -1|x)$  \n",
    "<br/>\n",
    "\n",
    "- If $\\mathbb{E}[L(\\alpha(x) = 1|x)] > \\mathbb{E}[L(\\alpha(x) = -1|x)]$, then $\\hat{\\alpha}(x) = -1$, otherwise, $\\hat{\\alpha}(x) = 1$  \n",
    "After some algebra: we choose $\\alpha(x) = 1$ if \n",
    "\n",
    "$$\n",
    "\\begin{aligned}\n",
    "L_{1,1}P(y = 1|x) + L_{1,-1}P(y = -1|x) &< L_{-1,1}P(y = 1|x) + L_{-1,-1}P(y = -1|x)\\\\\n",
    "(L_{1,1} - L_{-1,1})P(y = 1|x) &< (L_{-1,-1} - L_{1,-1})P(y = -1|x)\\\\\n",
    "\\frac{P(y = 1|x)}{P(y = -1|x)} &< \\frac{L_{-1,-1} - L_{1,-1}}{L_{1,1} - L_{-1,1}} = T_{L}\n",
    "\\end{aligned}\n",
    "$$\n",
    "Apply Bayesian's Rule:  \n",
    "$$\n",
    "\\begin{aligned}\n",
    "\\log\\frac{P(y = 1|x)}{P(y = -1|x)} &= \\log\\frac{P(x|y = 1)}{P(x|y = -1)} + \\log\\frac{P(y = 1)}{P(y = -1)}\\\\\n",
    "\\log\\frac{P(x|y = 1)}{P(x|y = -1)} &= \\log\\frac{P(y = 1|x)}{P(y = -1|x)} - \\log\\frac{P(y = 1)}{P(y = -1)}\n",
    "\\end{aligned}\n",
    "$$\n",
    "which combine the log-likelihood ratio with the log ratio of the prior  \n",
    "Then $\\hat{\\alpha}(x) = 1$ provided \n",
    "$$\\log\\frac{P(x|y = 1)}{P(x|y = -1)} < T_{L} + T_{P}$$\n",
    "where $T_{P} = - \\log\\frac{P(y = 1)}{P(y = -1)}$\n",
    "\n",
    "**Example of Bayes Decision**  \n",
    "Let $P(x | y)=\\frac{1}{\\sqrt{2 \\pi} \\sigma_{y}} \\exp ^{-\\frac{\\left(x-\\mu_{y}\\right)^{2}}{2 \\sigma_{y}^{2}}}$, $y \\in \\{-1, 1\\}$, $P(y) = \\frac{1}{2}$,  \n",
    "$$\n",
    "L(\\alpha(x),y) = \n",
    "\\begin{cases}\n",
    "1, \\alpha(x) \\neq y\\\\\n",
    "0, \\alpha(x) = y\n",
    "\\end{cases}\n",
    "$$\n",
    "Bayes Rule:   \n",
    "$\\alpha(x)=\\underset{y \\in\\{-1,1\\}}{\\arg \\min }\\left(x-\\mu_{y}\\right)^{2}$,  \n",
    "we can draw $P(x | y = 1)$ and $P(x | y = -1)$ respectively.  \n",
    "<div align=\"center\"><img src = \"./bayes_example.jpg\" width = '500' height = '100' align = center /></div>\n",
    "<br/>\n",
    "\n",
    "As the figure shows, $x_{ml} = \\frac{\\mu_{1} + \\mu_{-1}}{2}$, if $x < x_{ml}$, decision rule is $\\hat{y}_{ml} = -1$, otherwise $\\hat{y}_{ml} = 1$  \n",
    "<br/>\n",
    "\n",
    "Now suppose $\\vec{x}$ is a vector in two dimension  \n",
    "$p(\\vec{x} | y)=\\frac{1}{2 \\pi \\sigma^{2}} \\exp ^{-\\frac{1}{2 \\sigma^{2}}\\left|\\vec{x}-\\mu_{y}\\right|^{2}}$,  \n",
    "To get the decision boundary, we solve:  \n",
    "\n",
    "$$\n",
    "\\begin{aligned}\n",
    "\\left(\\vec{x}-\\mu_{1}\\right)^{2}&=\\left(\\vec{x}-\\mu_{-1}\\right)^{2}\\\\\n",
    "2\\vec{x}\\cdot(\\mu_1 - \\mu_{-1}) &= (|\\mu_1|^2 - |\\mu_{-1}|^2)\n",
    "\\end{aligned}\n",
    "$$  \n",
    "The decision rule classiﬁes all points $\\vec{x}$ above the line (i.e.$2 \\vec{x} \\cdot\\left(\\mu_{1}-\\mu_{-1}\\right)>\\left|\\mu_{1}\\right|^{2}-\\left|\\mu_{2}\\right|^{2}$) as $\\hat{y} = 1$  \n",
    "<br/>\n",
    "\n",
    "Now suppose the distributions are Gaussian but with differenct covariances  \n",
    "$$p(\\vec{x} | y)=\\frac{1}{2 \\pi\\left|\\sum_{y}\\right|^{1 / 2}} \\exp(-\\frac{1}{2}\\left(x-\\mu_{y}\\right)^{T} \\sum_{y}^{-1}\\left(x-\\mu_{y}\\right))$$\n",
    "where $\\Sigma_y$ is the covariance matrix.  \n",
    "Then the decision boundary is deﬁned by a curved surface which obeys:\n",
    "$$\\frac{1}{2}\\left(x-\\mu_{1}\\right)^{T} \\sum_{1}^{-1}(x - \\left.\\mu_{1}\\right)-\\frac{1}{2}\\left(x-\\mu_{-1}\\right)^{T} \\sum_{-1}^{-1}\\left(x-\\mu_{-1}\\right)+\\frac{1}{2} \\log \\left|\\sum_{1}\\right|-\\frac{1}{2} \\log \\left|\\sum_{-1}\\right|=0$$"
   ]
  },
  {
   "cell_type": "markdown",
   "metadata": {},
   "source": [
    "## Bayes Decision Theory: multi-class and regression\n",
    "- $y \\in \\{-1,1\\}$ : binary classification\n",
    "- $y \\in \\{1,2,3,...M\\}$ : multi-class classification\n",
    "- $y \\in \\mathbb{R}$ : regression \n",
    "\n",
    "<font size=3>**Bayese Decision Rule also applies in the above cases.**</font>"
   ]
  },
  {
   "cell_type": "markdown",
   "metadata": {},
   "source": [
    "# The Strengths and Weaknesses of Bayes Decision Rule\n",
    "\n",
    "Bayes Decision Rule is a theoretically ideal decision procedure, but in practice it can be difficult to apply due to some limitations.\n",
    "You can apply Bayes Decision Rule if:\n",
    "- You know $P(x|y), P(y), L(..)$  \n",
    "- You can compute $\\hat{\\alpha} = \\arg\\min_{\\alpha}\\mathcal{R}(x)$\n",
    "- You can aﬀord the losses (e.g. gambling, poker) \n",
    "- The future is the same as the past\n",
    "\n",
    "However,  we usually do not know the distribution $P(x|y)P(y)$\n",
    "\n",
    "## Empirical Risk\n",
    "- Let $\\mathcal{X}_N = \\{(x_1, y_1), (x_2, y_2)..., (x_N, y_N)\\}$ be our data, we define **empirical risk** $R_{emp} = \\frac{1}{N}\\sum_{i = 1}^{N}L(\\alpha(x_i), y_i)$, which is the average loss of our dataset.  \n",
    "- A fundamental assumption of BDT and ML is that the observed data X consists of independent identically distributed i.i.d samples from an (unknown) distribution $P(x, y) = P(x|y)P(y)$, then as $N \\rightarrow \\infty$, $\\mathcal{R}_{emp}(\\alpha, \\mathcal{X}_N) \\to \\mathcal{R}(\\alpha)$\n",
    "\n",
    "## Memorization & Generalization\n",
    "It is possible $\\mathcal{R}_{emp}(\\alpha, \\mathcal{X}_N)$ is small while $\\mathcal{R}(\\alpha)$ is big, which means the model fit well in the given dataset but it does not generalize well. \n",
    "<br/>\n",
    "\n",
    "Let's make a analogy, it seems like a student who work very hard in passing exam by reciting every questions he has met, but he does not know the answer to the questions that he never met. If he has recited sufficient many questions (i.e. $N \\to \\infty$), he will perform well in the exam, because almost every question in the exam he has met before and knows the answer. But if he does not recite so many questions, he might perform well because the question in the exam are what he has never seen.  \n",
    "<br/>\n",
    "\n",
    "To solve this type of problem, we will discuss later."
   ]
  }
 ],
 "metadata": {
  "kernelspec": {
   "display_name": "Python 3",
   "language": "python",
   "name": "python3"
  },
  "language_info": {
   "codemirror_mode": {
    "name": "ipython",
    "version": 3
   },
   "file_extension": ".py",
   "mimetype": "text/x-python",
   "name": "python",
   "nbconvert_exporter": "python",
   "pygments_lexer": "ipython3",
   "version": "3.7.1"
  },
  "toc": {
   "base_numbering": 1,
   "nav_menu": {},
   "number_sections": true,
   "sideBar": true,
   "skip_h1_title": false,
   "title_cell": "Table of Contents",
   "title_sidebar": "Contents",
   "toc_cell": false,
   "toc_position": {},
   "toc_section_display": true,
   "toc_window_display": false
  },
  "varInspector": {
   "cols": {
    "lenName": 16,
    "lenType": 16,
    "lenVar": 40
   },
   "kernels_config": {
    "python": {
     "delete_cmd_postfix": "",
     "delete_cmd_prefix": "del ",
     "library": "var_list.py",
     "varRefreshCmd": "print(var_dic_list())"
    },
    "r": {
     "delete_cmd_postfix": ") ",
     "delete_cmd_prefix": "rm(",
     "library": "var_list.r",
     "varRefreshCmd": "cat(var_dic_list()) "
    }
   },
   "types_to_exclude": [
    "module",
    "function",
    "builtin_function_or_method",
    "instance",
    "_Feature"
   ],
   "window_display": false
  }
 },
 "nbformat": 4,
 "nbformat_minor": 2
}
