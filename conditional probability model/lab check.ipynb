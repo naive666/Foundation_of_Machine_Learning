{
 "cells": [
  {
   "cell_type": "markdown",
   "metadata": {},
   "source": [
    "(1)(a) The Likelihood $L$ is given by  \n",
    "$$L\\left(p ; x_{1}, \\ldots, x_{n}\\right)=\\prod_{i=1}^{n}(1-p)^{x_{i}-1} p$$  \n",
    "then the log likelihood is  \n",
    "$$\\log L\\left(p ; x_{1}, \\ldots, x_{n}\\right)=n \\log p+\\left(\\sum_{i=1}^{n} x_{i}-1\\right) \\log (1-p)$$  \n",
    "Differentiate it,  \n",
    "$$\\frac{d}{d p} \\log L\\left(p ; x_{1}, \\ldots, x_{n}\\right)=\\frac{n}{p}-\\frac{\\sum_{i=1}^{n} x_{i}-1}{1-p}$$  \n",
    "then we have  \n",
    "$$\\frac{d}{d p} \\log L\\left(p ; x_{1}, \\ldots, x_{n}\\right)=0 \\Longleftrightarrow \\frac{1}{n} \\sum_{i=1}^{n} x_{i}=\\frac{1}{p} \\Longleftrightarrow p=\\frac{n}{\\sum_{i=1}^{n} x_{i}}$$  \n",
    "thus  \n",
    "$$\\hat{p}_{\\mathrm{MLE}}=\\frac{n}{\\sum_{i=1}^{n} x_{i}}$$  \n",
    "(b)  \n",
    "The likelihood is  \n",
    "$$L\\left(\\lambda ; x_{1}, \\ldots, x_{n}\\right)=\\prod_{i=1}^{n} \\lambda e^{-\\lambda x_{i}}$$  \n",
    "the log-likelihood is  \n",
    "$$\\log L\\left(\\lambda ; x_{1}, \\ldots, x_{n}\\right)=n \\log \\lambda-\\lambda \\sum_{i=1}^{n} x_{i}$$  \n",
    "differentiate we get  \n",
    "$$\\frac{d}{d p} \\log L\\left(p ; x_{1}, \\ldots, x_{n}\\right)=\\frac{n}{\\lambda}-\\sum_{i=1}^{n} x_{i}$$  \n",
    "solve  \n",
    "$$\\frac{d}{d p} \\log L\\left(p ; x_{1}, \\ldots, x_{n}\\right)=0 \\Longleftrightarrow \\lambda=\\frac{1}{n} \\sum_{i=1}^{n} x_{i}$$  \n",
    "thus  \n",
    "$$\\hat{\\lambda}_{\\mathrm{MLE}}=\\frac{n}{\\sum_{i=1}^{n} x_{i}}$$  \n"
   ]
  },
  {
   "cell_type": "markdown",
   "metadata": {},
   "source": [
    "2.  \n",
    "The likelihood is  \n",
    "$$L\\left(w ; x_{1}, y_{1}, \\ldots, x_{n}, y_{n}\\right)=\\prod_{i=1}^{n} \\frac{\\mathbf{1}\\left(y_{i} \\leq e^{w^{T} x_{i}}\\right)}{e^{w^{T} x_{i}}}$$  \n",
    "log-likelihood is  \n",
    "$$-\\sum_{i=1}^{n} w^{T} x_{i}=-w^{T}\\left(\\sum_{i=1}^{n} x_{i}\\right)$$  \n",
    "if $y_{i} \\leq \\exp \\left(w^{T} x_{i}\\right)$, or $-\\infty$ otherwise, thus we get a program  \n",
    "$$\\begin{aligned}\n",
    "&\\operatorname{minimize} \\quad w^{T}\\left(\\sum_{i=1}^{n} x_{i}\\right)\\\\\n",
    "&\\text { subject to } \\log \\left(y_{i}\\right) \\leq w^{T} x_{i} \\quad \\text { for } i=1, \\ldots, n\n",
    "\\end{aligned}$$  \n",
    "\n",
    "5.  \n",
    "\n",
    "$$\\begin{aligned}\n",
    "p(\\theta \\mid x) & \\propto p(x \\mid \\theta) p(\\theta) \\\\\n",
    "& \\propto\\left(\\theta^{x} \\exp (-\\theta)\\right)\\left(\\theta^{\\alpha-1} \\exp (-\\beta \\theta)\\right) \\\\\n",
    "&\\left.=\\theta^{x+\\alpha-1} \\exp (-(\\beta+1) \\theta)\\right) \\\\\n",
    "& \\propto \\mathcal{G}(\\alpha+x, \\beta+1)\n",
    "\\end{aligned}$$  \n",
    "This shows that the gamma is the conjugate prior to the Poisson. Also, note here we exploit a common trick: we manipulate the numerator, ignoring constants independent of $\\theta$. If we can recognize the functional form as belonging to a distribution family we know, we can simply identify the parameters and trust that the distribution normalizes!\n"
   ]
  }
 ],
 "metadata": {
  "kernelspec": {
   "display_name": "Python 3",
   "language": "python",
   "name": "python3"
  },
  "language_info": {
   "codemirror_mode": {
    "name": "ipython",
    "version": 3
   },
   "file_extension": ".py",
   "mimetype": "text/x-python",
   "name": "python",
   "nbconvert_exporter": "python",
   "pygments_lexer": "ipython3",
   "version": "3.7.1"
  },
  "latex_envs": {
   "LaTeX_envs_menu_present": true,
   "autoclose": false,
   "autocomplete": false,
   "bibliofile": "biblio.bib",
   "cite_by": "apalike",
   "current_citInitial": 1,
   "eqLabelWithNumbers": true,
   "eqNumInitial": 1,
   "hotkeys": {
    "equation": "Ctrl-E",
    "itemize": "Ctrl-I"
   },
   "labels_anchors": false,
   "latex_user_defs": false,
   "report_style_numbering": false,
   "user_envs_cfg": false
  },
  "toc": {
   "base_numbering": 1,
   "nav_menu": {},
   "number_sections": true,
   "sideBar": true,
   "skip_h1_title": false,
   "title_cell": "Table of Contents",
   "title_sidebar": "Contents",
   "toc_cell": false,
   "toc_position": {},
   "toc_section_display": true,
   "toc_window_display": false
  },
  "varInspector": {
   "cols": {
    "lenName": 16,
    "lenType": 16,
    "lenVar": 40
   },
   "kernels_config": {
    "python": {
     "delete_cmd_postfix": "",
     "delete_cmd_prefix": "del ",
     "library": "var_list.py",
     "varRefreshCmd": "print(var_dic_list())"
    },
    "r": {
     "delete_cmd_postfix": ") ",
     "delete_cmd_prefix": "rm(",
     "library": "var_list.r",
     "varRefreshCmd": "cat(var_dic_list()) "
    }
   },
   "types_to_exclude": [
    "module",
    "function",
    "builtin_function_or_method",
    "instance",
    "_Feature"
   ],
   "window_display": false
  }
 },
 "nbformat": 4,
 "nbformat_minor": 2
}
