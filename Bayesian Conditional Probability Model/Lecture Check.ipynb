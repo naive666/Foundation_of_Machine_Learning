{
 "cells": [
  {
   "cell_type": "markdown",
   "metadata": {},
   "source": [
    "1.  \n",
    "\n",
    "(a)\n",
    "$$P(\\theta | D) \\propto P(D|\\theta)\\xi_{A}(\\theta) = 2\\theta^{710}(1-\\theta)^{290}\\theta = 2\\theta^{711}(1-\\theta)^{290}$$  \n",
    "$$P(\\theta | D) \\propto P(D|\\theta)\\xi_{B}(\\theta) = 4\\theta^{710}(1-\\theta)^{290}\\theta^3 = 4\\theta^{713}(1-\\theta)^{290}$$  \n",
    "Thus the posteriors from A and B are both **Beta** with parameters (712,291) and (714,291), respectively.  \n",
    "(b)  \n",
    "The Bayesian optimizer based on squared loss is the mean, and the mean of $Beta(\\alpha,\\beta) = \\frac{\\alpha}{\\alpha + \\beta}$. The MAP is $\\frac{712}{1003}$ and $\\frac{714}{1005}$  \n",
    "(c)  \n",
    "In general the two means are given by\n",
    "$$\n",
    "\\frac{a+2}{1003} \\text { and } \\frac{a+4}{1005}\n",
    "$$  \n",
    "the difference is less than 0.002  \n",
    "\n",
    "2.  \n",
    "The frequentist student is totally incorrect, since they have misunderstood what a **frequentist conﬁdence interval is**. Using frequentist methodology, $\\theta$ is not a random variable(it is a fixed number), so it doesn’t make sense to say it lies in some ﬁxed interval [LF,RF]. The correct interpretation is that if independent experiments like this were repeated, then at least 95% of the time [LF,RF] will contain $\\theta$. That is, the interval is random not $\\theta$.   \n",
    "We can say that the Bayesian student is consistent. Recall that to compute the credible set, the Bayesian student had to introduce some prior distribution $\\pi$ on $\\theta$. What we can say is if someone believes $\\pi$ is correct, then it is rational, given the data, to conclude that $\\theta$ will lie in the posterior credible set with probability 95%.  \n",
    "\n",
    "3. The posterior follows $Beta(\\alpha + n_h, \\beta + n_t)$, thus let’s try $a = 10$, $b = 1$ and $9$ coin ﬂips all landing tails   \n",
    "\n",
    "4.  \n",
    "(a)  \n",
    "$\\hat{y}$ is the mean of $y'$, which is $\\mu_1^Tx$, and the expected loss is the variance $x^T\\Sigma_1 x + \\sigma^2$   \n",
    "(b)  \n",
    "High $\\sigma$ meaning low certainty in data  \n",
    "Small $\\Sigma_0$ meaning high certainty in prior. A covariance matrix is small if its eigenvalues are small.  \n",
    "Small $n$ meaning not a lot of data to learn from.  \n",
    "\n"
   ]
  }
 ],
 "metadata": {
  "kernelspec": {
   "display_name": "Python 3",
   "language": "python",
   "name": "python3"
  },
  "language_info": {
   "codemirror_mode": {
    "name": "ipython",
    "version": 3
   },
   "file_extension": ".py",
   "mimetype": "text/x-python",
   "name": "python",
   "nbconvert_exporter": "python",
   "pygments_lexer": "ipython3",
   "version": "3.7.1"
  },
  "latex_envs": {
   "LaTeX_envs_menu_present": true,
   "autoclose": false,
   "autocomplete": false,
   "bibliofile": "biblio.bib",
   "cite_by": "apalike",
   "current_citInitial": 1,
   "eqLabelWithNumbers": true,
   "eqNumInitial": 1,
   "hotkeys": {
    "equation": "Ctrl-E",
    "itemize": "Ctrl-I"
   },
   "labels_anchors": false,
   "latex_user_defs": false,
   "report_style_numbering": false,
   "user_envs_cfg": false
  },
  "toc": {
   "base_numbering": 1,
   "nav_menu": {},
   "number_sections": true,
   "sideBar": true,
   "skip_h1_title": false,
   "title_cell": "Table of Contents",
   "title_sidebar": "Contents",
   "toc_cell": false,
   "toc_position": {},
   "toc_section_display": true,
   "toc_window_display": false
  },
  "varInspector": {
   "cols": {
    "lenName": 16,
    "lenType": 16,
    "lenVar": 40
   },
   "kernels_config": {
    "python": {
     "delete_cmd_postfix": "",
     "delete_cmd_prefix": "del ",
     "library": "var_list.py",
     "varRefreshCmd": "print(var_dic_list())"
    },
    "r": {
     "delete_cmd_postfix": ") ",
     "delete_cmd_prefix": "rm(",
     "library": "var_list.r",
     "varRefreshCmd": "cat(var_dic_list()) "
    }
   },
   "types_to_exclude": [
    "module",
    "function",
    "builtin_function_or_method",
    "instance",
    "_Feature"
   ],
   "window_display": false
  }
 },
 "nbformat": 4,
 "nbformat_minor": 2
}
