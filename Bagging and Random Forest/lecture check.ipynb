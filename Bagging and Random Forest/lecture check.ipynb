{
 "cells": [
  {
   "cell_type": "markdown",
   "metadata": {},
   "source": [
    "1.  \n",
    "\n",
    "(a) How many regions (leaves) will a tree with $k$ node splits have?  \n",
    "For a fixed tree, if we split a leaf node, we will add a single leaf. Therefore, $k$ splits corresponds $k + 1$ leaves.  \n",
    "\n",
    "(b) $2^k$  \n",
    "\n",
    "(c) $\\text{log}_2 n$  \n",
    "\n",
    "3.  \n",
    "(a) Left: $0.5$; Right: $\\frac{1}{3}$, Total: $6 \\times 0.5 + 3 \\times \\frac{1}{3} = 4$   \n",
    "(b) Left: $\\frac{1}{6} \\times \\frac{5}{6} + \\frac{1}{3} \\times \\frac{2}{3} + \\frac{1}{2} \\times \\frac{1}{2} = \\frac{11}{18}$; Right: $\\frac{4}{9}$ Total: 5   \n",
    "(c) Left: −3/6log(3/6)−2/6log(2/6)−1/6log(1/6), Right: −1/3log(1/3)−2/3log(2/3)  \n",
    "\n",
    "4. $\\sigma / \\sqrt{n}<.01 \\Longleftrightarrow n>10000 \\sigma^{2}$  \n",
    "\n",
    "5.   \n",
    "(a)  \n",
    "i. Draw $B$ bootstrap samples $D^1,...,D^B$ each of size $2n + 1$. The samples are formed by drawing uniformly with replacement from the original data set $X_1,...,X_{2n+1}$(有放回的抽样)  \n",
    "ii.  For each $D_i$ compute the corresponding median $m_i$.   \n",
    "iii.  Compute the sample variance of the $m_1, m_2, ..., m_B$  \n",
    "\n",
    "(b)  \n",
    "i. Same as before  \n",
    "ii. Same as before  \n",
    "iii. Compute the $2.5%$ and $97.5%$ sample quantiles of the list $\\hat{m}_1,..., \\hat{m}_B. Use these as the estimates of the left and right endpoints of the conﬁdence interval, respectively.\n"
   ]
  }
 ],
 "metadata": {
  "kernelspec": {
   "display_name": "Python 3",
   "language": "python",
   "name": "python3"
  },
  "language_info": {
   "codemirror_mode": {
    "name": "ipython",
    "version": 3
   },
   "file_extension": ".py",
   "mimetype": "text/x-python",
   "name": "python",
   "nbconvert_exporter": "python",
   "pygments_lexer": "ipython3",
   "version": "3.7.1"
  },
  "latex_envs": {
   "LaTeX_envs_menu_present": true,
   "autoclose": false,
   "autocomplete": false,
   "bibliofile": "biblio.bib",
   "cite_by": "apalike",
   "current_citInitial": 1,
   "eqLabelWithNumbers": true,
   "eqNumInitial": 1,
   "hotkeys": {
    "equation": "Ctrl-E",
    "itemize": "Ctrl-I"
   },
   "labels_anchors": false,
   "latex_user_defs": false,
   "report_style_numbering": false,
   "user_envs_cfg": false
  },
  "toc": {
   "base_numbering": 1,
   "nav_menu": {},
   "number_sections": true,
   "sideBar": true,
   "skip_h1_title": false,
   "title_cell": "Table of Contents",
   "title_sidebar": "Contents",
   "toc_cell": false,
   "toc_position": {},
   "toc_section_display": true,
   "toc_window_display": false
  },
  "varInspector": {
   "cols": {
    "lenName": 16,
    "lenType": 16,
    "lenVar": 40
   },
   "kernels_config": {
    "python": {
     "delete_cmd_postfix": "",
     "delete_cmd_prefix": "del ",
     "library": "var_list.py",
     "varRefreshCmd": "print(var_dic_list())"
    },
    "r": {
     "delete_cmd_postfix": ") ",
     "delete_cmd_prefix": "rm(",
     "library": "var_list.r",
     "varRefreshCmd": "cat(var_dic_list()) "
    }
   },
   "types_to_exclude": [
    "module",
    "function",
    "builtin_function_or_method",
    "instance",
    "_Feature"
   ],
   "window_display": false
  }
 },
 "nbformat": 4,
 "nbformat_minor": 2
}
