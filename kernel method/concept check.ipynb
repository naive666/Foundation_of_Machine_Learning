{
 "cells": [
  {
   "cell_type": "markdown",
   "metadata": {},
   "source": [
    "1. \n",
    "$\\varphi(x)=(1(x \\geq 1), 1(x \\geq 2), \\ldots, 1(x \\geq n))$  \n",
    "\n",
    "2.  \n",
    "As we know $k_1(x,y) = x^Ty$ is a psd kernel, then $k(x,y) = k_1(x,y)^4$ is psd as well.  \n",
    "\n",
    "3. \n",
    "To show $k(x,y) = x^TAy$ is equal to show $k(x_i, x_j) = x_i^T A x_j = K_{i,j}$  since $x, y \\in X$, the corresponding kernel matrix of $k(x_i,x_j)$ is $K = XAX^T$, and we need to show $K$ is psd: for some $\\alpha \\in R^d$, we have $\\alpha^T K \\alpha = \\alpha^T XAX^T \\alpha = (X^T\\alpha)^T A (X^T \\alpha) \\geqslant 0$, since $X$ is psd  \n",
    "\n",
    "4.   \n",
    "\n",
    "(1) $J(\\alpha) = \\|K\\alpha  - y\\| + \\lambda (\\alpha^T K \\alpha)$   \n",
    "(2) $f_{\\alpha}=\\sum_{i=1}^{n} \\alpha_{i} k\\left(x_{i}, x\\right)$"
   ]
  },
  {
   "cell_type": "markdown",
   "metadata": {},
   "source": [
    "5.  \n",
    "$$\\begin{aligned}\n",
    "\\|x-y\\|_{2}^{2}+\\|x+y\\|_{2}^{2} &=\\left(\\|x\\|_{2}^{2}-2 x^{T} y+\\|y\\|_{2}^{2}\\right)+\\left(\\|x\\|_{2}^{2}+2 x^{T} y+\\|y\\|_{2}^{2}\\right) \\\\\n",
    "&=2\\|x\\|_{2}^{2}+2\\|y\\|_{2}^{2}\n",
    "\\end{aligned}$$   \n",
    "\n",
    "6.  \n",
    "By selecting sufficiently small $\\sigma$, and use $\\alpha_i = y_i$.  \n",
    "RBF kernel is $k(x,x') = e^{-\\frac{\\|x - x'\\|^2}{2\\sigma^2}}$, if $\\sigma$ is sufficiently small, $k(x,x')$ tends to be 0 if $x \\ne x'$. \n",
    "$f(x) = \\sum_{i =1}^n y_i e^{-\\frac{\\|x - x_i\\|^2}{2\\sigma^2}}$, $f(x_j) = y_j + \\sum_{i \\ne j} y_i e^{-\\frac{\\|x_j - x_i\\|^2}  \n",
    "{2\\sigma^2}}$  \n",
    "Note: This is not possible if any repeated points have diﬀerent labels, which is not unusual in real data.\n",
    "  \n",
    "7.  \n",
    "since $f_{\\alpha}=\\sum_{i=1}^{n} \\alpha_{i} k\\left(x_{i}, x\\right)$  \n",
    "$$\\lim _{\\|x\\|_{2} \\rightarrow \\infty} f_{\\alpha}(x)=\\lim _{\\|x\\|_{2} \\rightarrow \\infty} \\sum_{i=1}^{n} \\alpha_{i} \\exp \\left(-\\frac{\\left\\|x_{i}-x\\right\\|_{2}^{2}}{2 \\sigma^{2}}\\right)=\\sum_{i=1}^{n} \\alpha_{i} \\lim _{\\|x\\|_{2} \\rightarrow \\infty} \\exp \\left(-\\frac{\\left\\|x_{i}-x\\right\\|_{2}^{2}}{2 \\sigma^{2}}\\right)=0$$"
   ]
  },
  {
   "cell_type": "markdown",
   "metadata": {},
   "source": [
    "8. \n",
    "(1) $\\{w^* +v| v \\in Ker\\{X\\} \\}$  \n",
    "(2) $w^*$ lies in the row space of $X$"
   ]
  }
 ],
 "metadata": {
  "kernelspec": {
   "display_name": "Python 3",
   "language": "python",
   "name": "python3"
  },
  "language_info": {
   "codemirror_mode": {
    "name": "ipython",
    "version": 3
   },
   "file_extension": ".py",
   "mimetype": "text/x-python",
   "name": "python",
   "nbconvert_exporter": "python",
   "pygments_lexer": "ipython3",
   "version": "3.7.1"
  },
  "toc": {
   "base_numbering": 1,
   "nav_menu": {},
   "number_sections": true,
   "sideBar": true,
   "skip_h1_title": false,
   "title_cell": "Table of Contents",
   "title_sidebar": "Contents",
   "toc_cell": false,
   "toc_position": {},
   "toc_section_display": true,
   "toc_window_display": false
  },
  "varInspector": {
   "cols": {
    "lenName": 16,
    "lenType": 16,
    "lenVar": 40
   },
   "kernels_config": {
    "python": {
     "delete_cmd_postfix": "",
     "delete_cmd_prefix": "del ",
     "library": "var_list.py",
     "varRefreshCmd": "print(var_dic_list())"
    },
    "r": {
     "delete_cmd_postfix": ") ",
     "delete_cmd_prefix": "rm(",
     "library": "var_list.r",
     "varRefreshCmd": "cat(var_dic_list()) "
    }
   },
   "types_to_exclude": [
    "module",
    "function",
    "builtin_function_or_method",
    "instance",
    "_Feature"
   ],
   "window_display": false
  }
 },
 "nbformat": 4,
 "nbformat_minor": 2
}
