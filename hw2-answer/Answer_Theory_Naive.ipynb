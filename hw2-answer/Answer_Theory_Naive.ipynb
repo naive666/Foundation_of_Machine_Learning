{
 "cells": [
  {
   "cell_type": "markdown",
   "metadata": {},
   "source": [
    "## Lasso Regression\n",
    "- Lasso is also a commonly used linear regression model, and it shows several differences from Ridge regression. The most obvious one is the penalty term applies $\\mathit{l}_{1}$ regularization while the remaining parts are almost the same as the other linear models  \n",
    " \n",
    " \n",
    "- **Advantages of Lasso**  \n",
    "  The weights parameter in the final result shows an impressive sparsity. This is because the characters of $\\mathit{l}_{1}$ regularization. Shown in the graph in the easiest 2 dimension case, we can observe that the optimal solution always intersect the coordinate axis. If we generate to higher dimension, it is always true that the optimal solution intersect several coordinate axes. Therefore, the weight matrix from Lasso Regression is sparse. We can figure out it directly in the homework  \n",
    "  \n",
    "  \n",
    "- **Disadvantages of Lasso**\n",
    "  One core problem of lasso is it can hardly calculate its gradient, and thus gradient descent method are not as useful as Ridge case. To get over it, it is suggested to apply stochastic gradient descent which avoid to calculate the gradient of the whole dataset in one time, and shooting algorithm is another effective way to solve this problem"
   ]
  },
  {
   "cell_type": "markdown",
   "metadata": {},
   "source": [
    "## Comparision between Ridge and Lasso in correlated features\n",
    "- Correlated features are those show strong connection to each other. For example, some features are exactly identical to the others or a linear combination of some other features.  \n",
    "\n",
    "- Geometrically, we observe that Ridge regression is more stable while Lasso might be largely affected by small change of features. "
   ]
  },
  {
   "cell_type": "markdown",
   "metadata": {},
   "source": [
    "In each step of shooting algorithm, we would like to find $w_j$ minimizing\n",
    "$$\n",
    "\\begin{split}\n",
    "f(w_j)&=\\sum\\limits_{i=1}^{n}(w^Tx_i-y_i)^2+\\lambda|w|_1\\\\\n",
    "&=\\sum\\limits_{i=1}^{n}[w_jx_{ij}+\\sum\\limits_{k\\neq j}w_k x_{ik}-y_j]^2+\\lambda|w_j|+\\lambda\\sum\\limits_{k\\neq j}|w_k|\\\\\n",
    "\\end{split}\n",
    "$$\n",
    "if $ x_{ij}=0,\\;for\\;i=1,2,3,4,5...n$\n",
    "$$\n",
    "\\begin{split}\n",
    "f(w_j)=\\sum\\limits_{i=1}^n(\\sum\\limits_{k\\neq j}w_kx_{ik}-y_i)^2+\\lambda|w_j|+\\lambda\\sum\\limits_{k\\neq j}|w_k|\n",
    "\\end{split}\n",
    "$$\n",
    "To minimize $f(w_j)$, we choose $w_j=0$"
   ]
  },
  {
   "cell_type": "markdown",
   "metadata": {},
   "source": [
    "$$\n",
    "\\begin{split}\n",
    "df(w_j)&=\\sum\\limits_{i=1}^n d[w_jx_{ij}+\\sum\\limits_{k \\neq j}w_kx_{ik}-y_i]^2+d\\lambda|w_j| \\\\\n",
    "&=\\sum\\limits_{i=1}^n[2(w_jx_{ij}+\\sum\\limits_{k \\neq j}w_kx_{ik}-y_i)*x_{ij}]+\\lambda sign(w_j)\\\\\n",
    "&=\\sum\\limits_{i=1}^n[2w_jx_{ij}^2+2x_{ij}\\sum\\limits_{k \\neq j}w_kx_{ik}-2y_ix_{ij}]+\\lambda sign(w_j)\\\\\n",
    "&=a_j-c_j+\\lambda sign(w_j)\n",
    "\\end{split}\n",
    "$$"
   ]
  }
 ],
 "metadata": {
  "kernelspec": {
   "display_name": "Python 3",
   "language": "python",
   "name": "python3"
  },
  "language_info": {
   "codemirror_mode": {
    "name": "ipython",
    "version": 3
   },
   "file_extension": ".py",
   "mimetype": "text/x-python",
   "name": "python",
   "nbconvert_exporter": "python",
   "pygments_lexer": "ipython3",
   "version": "3.7.1"
  },
  "toc": {
   "base_numbering": 1,
   "nav_menu": {},
   "number_sections": true,
   "sideBar": true,
   "skip_h1_title": false,
   "title_cell": "Table of Contents",
   "title_sidebar": "Contents",
   "toc_cell": false,
   "toc_position": {},
   "toc_section_display": true,
   "toc_window_display": false
  },
  "varInspector": {
   "cols": {
    "lenName": 16,
    "lenType": 16,
    "lenVar": 40
   },
   "kernels_config": {
    "python": {
     "delete_cmd_postfix": "",
     "delete_cmd_prefix": "del ",
     "library": "var_list.py",
     "varRefreshCmd": "print(var_dic_list())"
    },
    "r": {
     "delete_cmd_postfix": ") ",
     "delete_cmd_prefix": "rm(",
     "library": "var_list.r",
     "varRefreshCmd": "cat(var_dic_list()) "
    }
   },
   "types_to_exclude": [
    "module",
    "function",
    "builtin_function_or_method",
    "instance",
    "_Feature"
   ],
   "window_display": false
  }
 },
 "nbformat": 4,
 "nbformat_minor": 2
}
