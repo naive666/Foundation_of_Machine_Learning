{
 "cells": [
  {
   "cell_type": "code",
   "execution_count": 2,
   "metadata": {
    "ExecuteTime": {
     "end_time": "2019-10-03T22:15:03.389649Z",
     "start_time": "2019-10-03T22:15:03.336830Z"
    }
   },
   "outputs": [],
   "source": [
    "# %load generate_data.py\n",
    "import numpy\n",
    "\n",
    "# Start by creating a design matrix for regression with m = 150 examples, each of dimension d = 75.\n",
    "# We will choose a true weight vector theta that has only a few non-zero components:\n",
    "\n",
    "# 1. Construct a random design matrix X \n",
    "X = numpy.random.rand(150,75)\n",
    "\n",
    "# 2. Construct a true weight vector theta. Set the first 10 component of theta to 10 or -10 arbitrarily and all the other components to zero.\n",
    "t = [-1,1]\n",
    "theta_1 = numpy.random.choice(t,10)*10\n",
    "theta_2 = numpy.zeros(65)\n",
    "theta = numpy.concatenate((theta_1,theta_2), axis=0)\n",
    "\n",
    "# 3. Construct a vector y = X theta + epsilon, where epsilon is a random noise vector\n",
    "epsilon = 0.1*numpy.random.randn(150)\n",
    "y = numpy.dot(X,theta)+epsilon\n",
    "\n",
    "# 4. Split the dataset by taking the first 80 points for training, the next 20 points for validation,\n",
    "# and the last 50 points for testing\n",
    "X_training = X[0:80,:]\n",
    "y_training = y[0:80]\n",
    "X_validation = X[80:100,:]\n",
    "y_validation = y[80:100]\n",
    "X_testing = X[100:150,:]\n",
    "y_testing = y[100:150]\n",
    "\n",
    "# 5. Save six files to local\n",
    "numpy.savetxt('X_train.txt', X_training) \n",
    "numpy.savetxt('y_train.txt', y_training) \n",
    "numpy.savetxt('X_valid.txt', X_validation)\n",
    "numpy.savetxt('y_valid.txt', y_validation) \n",
    "numpy.savetxt('X_test.txt', X_testing) \n",
    "numpy.savetxt('y_test.txt', y_testing) "
   ]
  }
 ],
 "metadata": {
  "kernelspec": {
   "display_name": "Python 3",
   "language": "python",
   "name": "python3"
  },
  "language_info": {
   "codemirror_mode": {
    "name": "ipython",
    "version": 3
   },
   "file_extension": ".py",
   "mimetype": "text/x-python",
   "name": "python",
   "nbconvert_exporter": "python",
   "pygments_lexer": "ipython3",
   "version": "3.7.1"
  },
  "toc": {
   "base_numbering": 1,
   "nav_menu": {},
   "number_sections": true,
   "sideBar": true,
   "skip_h1_title": false,
   "title_cell": "Table of Contents",
   "title_sidebar": "Contents",
   "toc_cell": false,
   "toc_position": {},
   "toc_section_display": true,
   "toc_window_display": false
  },
  "varInspector": {
   "cols": {
    "lenName": 16,
    "lenType": 16,
    "lenVar": 40
   },
   "kernels_config": {
    "python": {
     "delete_cmd_postfix": "",
     "delete_cmd_prefix": "del ",
     "library": "var_list.py",
     "varRefreshCmd": "print(var_dic_list())"
    },
    "r": {
     "delete_cmd_postfix": ") ",
     "delete_cmd_prefix": "rm(",
     "library": "var_list.r",
     "varRefreshCmd": "cat(var_dic_list()) "
    }
   },
   "types_to_exclude": [
    "module",
    "function",
    "builtin_function_or_method",
    "instance",
    "_Feature"
   ],
   "window_display": false
  }
 },
 "nbformat": 4,
 "nbformat_minor": 2
}
