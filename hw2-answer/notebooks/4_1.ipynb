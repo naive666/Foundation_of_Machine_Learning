{
 "cells": [
  {
   "cell_type": "markdown",
   "metadata": {},
   "source": [
    "# 4_1_1)"
   ]
  },
  {
   "cell_type": "markdown",
   "metadata": {},
   "source": [
    "$$\n",
    "\\begin{split}\n",
    "L'(0:v) &= \\lim_{h \\to 0^+} \\frac{L(hv)-L(0)}{h} \\\\\n",
    "&= \\lim_{h \\to 0^+} \\frac{\\lvert \\lvert hxv-y \\rvert \\rvert^2+\\lambda h \\lvert \\lvert v \\rvert \\rvert_1-\\lvert \\lvert y \\rvert \\rvert^2}{h}\n",
    "\\end{split}\n",
    "$$\n",
    "\n",
    "Apply L'Hopital Rule:\n",
    "$$\n",
    "\\begin{split}\n",
    "L'(0:v) &= (\\lim_{h \\to 0^+} 2(hxv - y)^Txv) +\\lambda \\lvert \\lvert v \\rvert \\rvert_1\\\\\n",
    "&= -2y^Txv + \\lambda \\lvert \\lvert v \\rvert \\rvert_1\n",
    "\\end{split}\n",
    "$$"
   ]
  },
  {
   "cell_type": "markdown",
   "metadata": {},
   "source": [
    "\\newpage"
   ]
  },
  {
   "cell_type": "markdown",
   "metadata": {},
   "source": [
    "# 4_1_2)"
   ]
  },
  {
   "cell_type": "markdown",
   "metadata": {},
   "source": [
    "If $L'(0:v) \\geq 0$ we must have $\\lambda \\geq \\frac{2y^Txv}{\\lvert \\lvert v \\rvert \\rvert_1}$. Hence the lower bound of $\\lambda$ is $\\frac{2y^Txv}{\\lvert \\lvert v \\rvert \\rvert_1}$"
   ]
  },
  {
   "cell_type": "markdown",
   "metadata": {},
   "source": [
    "\\newpage"
   ]
  },
  {
   "cell_type": "markdown",
   "metadata": {},
   "source": [
    "# 4_1_3)"
   ]
  },
  {
   "cell_type": "markdown",
   "metadata": {
    "collapsed": true
   },
   "source": [
    " The lower bound is equal to $\\frac{\\sum \\limits_i 2 y_i x_i v_i}{\\sum \\limits_i \\lvert v \\rvert} \\leq  \\frac{\\sum \\limits_i 2 \\lvert y_i x_i \\rvert \\lvert v_i \\rvert}{\\sum \\limits_i \\lvert v \\rvert}$. This is a weighted sum of $2 \\lvert y_i x_i \\rvert$, which is smaller than the largest component of $2 \\lvert y_i x_i \\rvert$ "
   ]
  }
 ],
 "metadata": {
  "anaconda-cloud": {},
  "kernelspec": {
   "display_name": "Python 3",
   "language": "python",
   "name": "python3"
  },
  "language_info": {
   "codemirror_mode": {
    "name": "ipython",
    "version": 3
   },
   "file_extension": ".py",
   "mimetype": "text/x-python",
   "name": "python",
   "nbconvert_exporter": "python",
   "pygments_lexer": "ipython3",
   "version": "3.7.1"
  },
  "toc": {
   "base_numbering": 1,
   "nav_menu": {},
   "number_sections": true,
   "sideBar": true,
   "skip_h1_title": false,
   "title_cell": "Table of Contents",
   "title_sidebar": "Contents",
   "toc_cell": false,
   "toc_position": {},
   "toc_section_display": true,
   "toc_window_display": false
  },
  "varInspector": {
   "cols": {
    "lenName": 16,
    "lenType": 16,
    "lenVar": 40
   },
   "kernels_config": {
    "python": {
     "delete_cmd_postfix": "",
     "delete_cmd_prefix": "del ",
     "library": "var_list.py",
     "varRefreshCmd": "print(var_dic_list())"
    },
    "r": {
     "delete_cmd_postfix": ") ",
     "delete_cmd_prefix": "rm(",
     "library": "var_list.r",
     "varRefreshCmd": "cat(var_dic_list()) "
    }
   },
   "types_to_exclude": [
    "module",
    "function",
    "builtin_function_or_method",
    "instance",
    "_Feature"
   ],
   "window_display": false
  }
 },
 "nbformat": 4,
 "nbformat_minor": 1
}
