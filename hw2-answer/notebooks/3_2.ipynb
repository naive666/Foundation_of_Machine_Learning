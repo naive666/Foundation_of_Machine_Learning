{
 "cells": [
  {
   "cell_type": "markdown",
   "metadata": {},
   "source": [
    "1) If $x_{ij}=0$ then $f(w_j)=(\\sum\\limits_{k\\neq j}w_k x_{ik}-y_i)^2 +\\lambda \\lvert w_j \\rvert+\\lambda\\sum\\limits_{k \\neq j}\\lvert w_k \\rvert$. The loss function reach minimun when $w_j = 0$"
   ]
  },
  {
   "cell_type": "markdown",
   "metadata": {},
   "source": [
    "2) we have:\n",
    "$$\n",
    "\\begin{split}\n",
    "f(w_j) &= \\sum\\limits_{i = 1}^n [w_j x_{ij} + \\sum\\limits_{k \\neq j} w_k x_{ik} - y_i ]^2 + \\lambda  w_j  + \\lambda \\sum\\limits_{k \\neq j} \\lvert w_k \\rvert  \\\\\n",
    "\\frac{d f(w_j)}{w_j} &= 2 \\sum\\limits_{i = 1}^n [w_j x_{ij} + \\sum\\limits_{k \\neq j} w_k x_{ik} - y_i] x_{ij} + sign(w_j)\\lambda \\\\\n",
    "&=2 \\sum\\limits_{i = 1}^n \\hat{w_j} x_{ij}^2 + 2 \\sum\\limits_{i = 1}^n x_{ij} (\\sum\\limits_{k \\neq j} w_k x_{ik} - y_i)  + sign(w_j) \\lambda \\\\\n",
    "& = a_j w_j - c_j + sign(w_j) \\lambda\n",
    "\\end{split}\n",
    "$$"
   ]
  },
  {
   "cell_type": "markdown",
   "metadata": {},
   "source": [
    "2) we have:\n",
    "$$\n",
    "\\begin{split}\n",
    "f(w_j) &= \\sum\\limits_{i = 1}^n [w_j x_{ij} + \\sum\\limits_{k \\neq j} w_k x_{ik} - y_i ]^2 + \\lambda  w_j  + \\lambda \\sum\\limits_{k \\neq j} \\lvert w_k \\rvert  \\\\\n",
    "\\frac{d f(w_j)}{w_j} &= 2 \\sum\\limits_{i = 1}^n [w_j x_{ij} + \\sum\\limits_{k \\neq j} w_k x_{ik} - y_i] x_{ij} + sign(w_j)\\lambda \\\\\n",
    "&=2 \\sum\\limits_{i = 1}^n \\hat{w_j} x_{ij}^2 + 2 \\sum\\limits_{i = 1}^n x_{ij} (\\sum\\limits_{k \\neq j} w_k x_{ik} - y_i)  + sign(w_j) \\lambda \\\\\n",
    "& = a_j w_j - c_j + sign(w_j) \\lambda\n",
    "\\end{split}\n",
    "$$"
   ]
  },
  {
   "cell_type": "markdown",
   "metadata": {},
   "source": [
    "3) If $w_j > 0$, the minimizer $\\hat{w_j}$ must satisfy $a_j \\hat{w_j} - c_j + \\lambda = 0$, then $\\hat{w_j} = \\frac{c_j - \\lambda}{a_j}$. Similarly if $w_j < 0$, the minimizer $\\hat{w_j}$ must satisfy $a_j \\hat{w_j} - c_j - \\lambda = 0$, then $\\hat{w_j} = \\frac{c_j + \\lambda}{a_j}$. \n",
    "\n",
    "Since we have $aj=2\\sum\\limits_{i=1}^n x_{ij}^2$ always positive, when $c_j >\\lambda$, if $w_j <0$, $w_j=\\frac{c_j-sign(w_j)\\lambda}{a_j}$ will result in contradiction, then $w_j$ must be positive. Similarly when $c_j<-\\lambda$, $w_j$ must be negative."
   ]
  },
  {
   "cell_type": "markdown",
   "metadata": {},
   "source": [
    "\\newpage"
   ]
  },
  {
   "cell_type": "markdown",
   "metadata": {},
   "source": [
    "4) Let $\\alpha =\\sum\\limits_{k \\neq j} w_k x_{ik}-y_i$ (Notice that $-2\\alpha x_{ij} = c_j$) we have:\n",
    "$$\n",
    "\\begin{split}\n",
    "\\lim_{\\epsilon \\to 0^+} \\frac{f(\\epsilon)-f(0)}{\\epsilon} &= \\lim_{\\epsilon \\to 0^+} \\frac{(\\epsilon x_{ij} + \\alpha)^2 - \\alpha^2 + \\lambda \\epsilon}{\\epsilon}\n",
    "\\end{split}\n",
    "$$\n",
    "Apply L'Hopital rule,\n",
    "\n",
    "$$\n",
    "\\begin{split}\n",
    "\\lim_{\\epsilon \\to 0^+} \\frac{f(\\epsilon)-f(0)}{\\epsilon} &= \\lim_{\\epsilon \\to 0^+} 2 (\\epsilon x_{ij} + \\alpha) x_{ij} + \\lambda \\\\\n",
    "& =\\lim_{\\epsilon \\to 0^+}  2 \\epsilon x_{ij}^2 + 2 \\alpha x_{ij} + \\lambda\\\\\n",
    "& = -c_j + \\lambda\n",
    "\\end{split}\n",
    "$$\n",
    "Similarly\n",
    "$$\n",
    "\\begin{split}\n",
    "\\lim_{\\epsilon \\to 0^+} \\frac{f(-\\epsilon)-f(0)}{\\epsilon}  & = c_j + \\lambda\n",
    "\\end{split}\n",
    "$$\n",
    "It shows that when $-\\lambda < c_j < \\lambda$ the two-side derivative at f(0) is positive and $\\hat{w_j}$\n",
    "comebined with the conclusions of part 3, we shows that when $c_j \\in [-\\lambda,\\lambda]$, $\\hat{w_j} = 0$"
   ]
  },
  {
   "cell_type": "markdown",
   "metadata": {},
   "source": [
    "4) Let $\\alpha =\\sum\\limits_{k \\neq j} w_k x_{ik}-y_i$ (Notice that $-2\\alpha x_{ij} = c_j$) we have:\n",
    "$$\n",
    "\\begin{split}\n",
    "\\lim_{\\epsilon \\to 0^+} \\frac{f(\\epsilon)-f(0)}{\\epsilon} &= \\lim_{\\epsilon \\to 0^+} \\frac{(\\epsilon x_{ij} + \\alpha)^2 - \\alpha^2 + \\lambda \\epsilon}{\\epsilon}\n",
    "\\end{split}\n",
    "$$\n",
    "Apply L'Hopital rule,\n",
    "\n",
    "$$\n",
    "\\begin{split}\n",
    "\\lim_{\\epsilon \\to 0^+} \\frac{f(\\epsilon)-f(0)}{\\epsilon} &= \\lim_{\\epsilon \\to 0^+} 2 (\\epsilon x_{ij} + \\alpha) x_{ij} + \\lambda \\\\\n",
    "& =\\lim_{\\epsilon \\to 0^+}  2 \\epsilon x_{ij}^2 + 2 \\alpha x_{ij} + \\lambda\\\\\n",
    "& = -c_j + \\lambda\n",
    "\\end{split}\n",
    "$$\n",
    "Similarly\n",
    "$$\n",
    "\\begin{split}\n",
    "\\lim_{\\epsilon \\to 0^+} \\frac{f(-\\epsilon)-f(0)}{\\epsilon}  & = c_j + \\lambda\n",
    "\\end{split}\n",
    "$$\n",
    "It shows that when $-\\lambda < c_j < \\lambda$ the two-side derivative at f(0) is positive and $\\hat{w_j}$\n",
    "comebined with the conclusions of part 3, we shows that when $c_j \\in [-\\lambda,\\lambda]$, $\\hat{w_j} = 0$"
   ]
  },
  {
   "cell_type": "markdown",
   "metadata": {},
   "source": [
    "\\newpage"
   ]
  },
  {
   "cell_type": "markdown",
   "metadata": {},
   "source": [
    "5) From part 3, we know tha when $c_j > \\lambda$, $w_j$ must be positive and $\\hat{w_j}=\\frac{c_j-\\lambda}{a_j}$; when $c_j < -\\lambda$, $w_j$ must be negative and $\\hat{w_j}=\\frac{c_j+\\lambda}{a_j}$; From part 4 we know, When $-\\lambda<c_j<\\lambda$, $\\hat{w_j}=0$."
   ]
  }
 ],
 "metadata": {
  "kernelspec": {
   "display_name": "Python 3",
   "language": "python",
   "name": "python3"
  },
  "language_info": {
   "codemirror_mode": {
    "name": "ipython",
    "version": 3
   },
   "file_extension": ".py",
   "mimetype": "text/x-python",
   "name": "python",
   "nbconvert_exporter": "python",
   "pygments_lexer": "ipython3",
   "version": "3.7.1"
  },
  "toc": {
   "base_numbering": 1,
   "nav_menu": {},
   "number_sections": true,
   "sideBar": true,
   "skip_h1_title": false,
   "title_cell": "Table of Contents",
   "title_sidebar": "Contents",
   "toc_cell": false,
   "toc_position": {},
   "toc_section_display": true,
   "toc_window_display": false
  },
  "varInspector": {
   "cols": {
    "lenName": 16,
    "lenType": 16,
    "lenVar": 40
   },
   "kernels_config": {
    "python": {
     "delete_cmd_postfix": "",
     "delete_cmd_prefix": "del ",
     "library": "var_list.py",
     "varRefreshCmd": "print(var_dic_list())"
    },
    "r": {
     "delete_cmd_postfix": ") ",
     "delete_cmd_prefix": "rm(",
     "library": "var_list.r",
     "varRefreshCmd": "cat(var_dic_list()) "
    }
   },
   "types_to_exclude": [
    "module",
    "function",
    "builtin_function_or_method",
    "instance",
    "_Feature"
   ],
   "window_display": false
  }
 },
 "nbformat": 4,
 "nbformat_minor": 1
}
