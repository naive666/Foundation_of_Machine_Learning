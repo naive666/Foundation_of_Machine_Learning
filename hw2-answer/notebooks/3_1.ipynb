{
 "cells": [
  {
   "cell_type": "code",
   "execution_count": 1,
   "metadata": {
    "ExecuteTime": {
     "end_time": "2019-10-06T18:52:16.599449Z",
     "start_time": "2019-10-06T18:52:16.302303Z"
    }
   },
   "outputs": [],
   "source": [
    "# Import dataset\n",
    "import numpy as np\n",
    "#import pandas as pd\n",
    "from scipy.optimize import minimize\n",
    "# train_X = pd.read_csv('../p1Data/train_X.csv',header=None)\n",
    "# train_y = pd.read_csv('../p1Data/train_y.csv',header=None)\n",
    "# validation_X = pd.read_csv('../p1Data/validation_X.csv',header=None)\n",
    "# validation_y = pd.read_csv('../p1Data/validation_y.csv',header=None)\n",
    "train_X = np.genfromtxt('../p1Data/train_X.csv',delimiter=',')\n",
    "train_y = np.genfromtxt('../p1Data/train_y.csv',delimiter=',')\n",
    "validation_X = np.genfromtxt('../p1Data/validation_X.csv',delimiter=',')\n",
    "validation_y = np.genfromtxt('../p1Data/validation_y.csv',delimiter=',')\n",
    "test_X = np.genfromtxt('../p1Data/test_X.csv',delimiter=',')\n",
    "test_y = np.genfromtxt('../p1Data/test_y.csv',delimiter=',')"
   ]
  },
  {
   "cell_type": "markdown",
   "metadata": {},
   "source": [
    "\\newpage"
   ]
  },
  {
   "cell_type": "markdown",
   "metadata": {},
   "source": [
    "# 3_1_1"
   ]
  },
  {
   "cell_type": "code",
   "execution_count": 2,
   "metadata": {
    "ExecuteTime": {
     "end_time": "2019-10-06T18:52:17.855414Z",
     "start_time": "2019-10-06T18:52:17.851387Z"
    }
   },
   "outputs": [],
   "source": [
    "import time"
   ]
  },
  {
   "cell_type": "code",
   "execution_count": 3,
   "metadata": {
    "ExecuteTime": {
     "end_time": "2019-10-06T18:53:31.300665Z",
     "start_time": "2019-10-06T18:53:31.282713Z"
    }
   },
   "outputs": [],
   "source": [
    "# Calculate closed form solution for lasso regression using Shooting Algorithm\n",
    "def lasso_shooting(X,y,lambda_reg=0.1,max_steps = 1000,tolerence = 1e-5):\n",
    "    start_time = time.time()\n",
    "    converge = False\n",
    "    steps = 0\n",
    "    #Get dimension info\n",
    "    n = X.shape[0]\n",
    "    d = X.shape[1]\n",
    "    #initializing theta\n",
    "    w = np.linalg.inv(X.T.dot(X)+lambda_reg*np.identity(d)).dot(X.T).dot(y) # result w dimension: d\n",
    "    def soft(a,delta):\n",
    "        sign_a = np.sign(a)\n",
    "        if np.abs(a)-delta <0:\n",
    "            return 0 \n",
    "        else:\n",
    "            return sign_a*(abs(a)-delta)\n",
    "    while converge==False and steps<max_steps:\n",
    "        a = []\n",
    "        c = []\n",
    "        old_w = w\n",
    "    ####For loop for computing aj cj w\n",
    "        for j in range(d):\n",
    "            aj = 0\n",
    "            cj = 0\n",
    "            for i in range(n):\n",
    "                xij = X[i,j]\n",
    "                aj += 2*xij*xij\n",
    "                cj += 2*xij*(y[i]-w.T.dot(X[i,:])+w[j]*xij)\n",
    "            w[j] = soft(cj/aj,lambda_reg/aj)\n",
    "            convergence = np.sum(np.abs(w-old_w))<tolerence\n",
    "            a.append(aj)\n",
    "            c.append(cj)\n",
    "        steps +=1\n",
    "        a = np.array(a)\n",
    "        c = np.array(c)\n",
    "    run_time = time.time()-start_time\n",
    "    #print('lambda:',lambda_reg,'run_time:',run_time,'steps_taken:',steps)\n",
    "#    return w,a,c\n",
    "    return w,steps"
   ]
  },
  {
   "cell_type": "code",
   "execution_count": 4,
   "metadata": {
    "ExecuteTime": {
     "end_time": "2019-10-06T18:54:23.940372Z",
     "start_time": "2019-10-06T18:54:07.426136Z"
    }
   },
   "outputs": [],
   "source": [
    "w,steps = lasso_shooting(train_X,train_y,0.1)"
   ]
  },
  {
   "cell_type": "code",
   "execution_count": 5,
   "metadata": {
    "ExecuteTime": {
     "end_time": "2019-10-06T18:54:28.488045Z",
     "start_time": "2019-10-06T18:54:28.471091Z"
    }
   },
   "outputs": [
    {
     "data": {
      "text/plain": [
       "array([-9.97576206e+00, -1.00666806e+01,  9.88251270e+00, -9.99566475e+00,\n",
       "        9.73198487e+00, -9.84390513e+00, -1.01011157e+01, -1.00704567e+01,\n",
       "       -1.00212942e+01,  1.01166010e+01, -1.86406504e-01, -3.05670082e-02,\n",
       "       -5.77289585e-02, -1.69199305e-01, -2.08096652e-01, -1.36196358e-02,\n",
       "       -8.54987959e-02,  5.00285436e-03,  0.00000000e+00, -7.78515730e-02,\n",
       "        6.12953988e-02, -2.73721235e-02,  9.32470389e-02, -1.84971652e-02,\n",
       "        3.87694549e-02,  9.40818449e-02,  1.88722458e-01, -5.14523754e-02,\n",
       "       -5.95606164e-03,  3.11321731e-02,  4.40920080e-02,  1.83413759e-03,\n",
       "        0.00000000e+00,  0.00000000e+00,  1.03036727e-01,  1.79204132e-04,\n",
       "        1.20058368e-01,  1.84910157e-01,  5.37077185e-02,  4.64751109e-02,\n",
       "        1.82843847e-01,  1.32424539e-01,  1.69279326e-01,  4.56472195e-02,\n",
       "        2.94960581e-02, -5.93683775e-02,  1.58246220e-01, -1.16142200e-01,\n",
       "        6.84185473e-02,  1.48876702e-02, -1.27497563e-01,  1.06526240e-01,\n",
       "        3.09134192e-02,  2.05514365e-02,  4.03045490e-02, -7.76728051e-02,\n",
       "        1.61431049e-01,  9.34254999e-02, -8.78311064e-02,  1.42601639e-02,\n",
       "       -7.30587410e-02,  1.64242843e-01,  2.52490363e-01,  4.21705673e-02,\n",
       "        1.42927261e-01, -3.96194249e-02,  5.83406322e-03, -1.48877969e-01,\n",
       "       -1.51171913e-01,  0.00000000e+00, -2.95305184e-01, -2.21568424e-01,\n",
       "       -2.62525081e-01, -4.08757162e-04,  1.10094890e-01])"
      ]
     },
     "execution_count": 5,
     "metadata": {},
     "output_type": "execute_result"
    }
   ],
   "source": [
    "w"
   ]
  },
  {
   "cell_type": "code",
   "execution_count": 6,
   "metadata": {
    "ExecuteTime": {
     "end_time": "2019-10-06T18:54:42.908964Z",
     "start_time": "2019-10-06T18:54:42.902980Z"
    }
   },
   "outputs": [
    {
     "data": {
      "text/plain": [
       "1000"
      ]
     },
     "execution_count": 6,
     "metadata": {},
     "output_type": "execute_result"
    }
   ],
   "source": [
    "steps"
   ]
  },
  {
   "cell_type": "code",
   "execution_count": 54,
   "metadata": {},
   "outputs": [
    {
     "name": "stdout",
     "output_type": "stream",
     "text": [
      "lambda: 0.1 run_time: 16.355605602264404 steps_taken: 1000\n",
      "lambda: 0.2 run_time: 17.021519422531128 steps_taken: 1000\n",
      "lambda: 0.3 run_time: 17.161158084869385 steps_taken: 1000\n",
      "lambda: 0.4 run_time: 17.454284191131592 steps_taken: 1000\n",
      "lambda: 0.5 run_time: 17.41083812713623 steps_taken: 1000\n",
      "lambda: 0.6 run_time: 17.356815814971924 steps_taken: 1000\n",
      "lambda: 0.7 run_time: 17.236926794052124 steps_taken: 1000\n",
      "lambda: 0.8 run_time: 17.2065269947052 steps_taken: 1000\n",
      "lambda: 0.9 run_time: 17.269866466522217 steps_taken: 1000\n",
      "lambda: 1.0 run_time: 17.64631462097168 steps_taken: 1000\n"
     ]
    },
    {
     "data": {
      "image/png": "[encoded data removed]",
      "text/plain": [
       "<matplotlib.figure.Figure at 0x1905b3e0780>"
      ]
     },
     "metadata": {},
     "output_type": "display_data"
    }
   ],
   "source": [
    "sqr_loss = []\n",
    "for lambda_reg in np.arange(0.1,1.1,0.1):\n",
    "    w,a,c = lasso_shooting(train_X,train_y,lambda_reg)\n",
    "    validation_predict = validation_X.dot(w)\n",
    "    diff = validation_predict - validation_y\n",
    "    sqr_loss.append(1/validation_y.shape[0]*np.dot(diff,diff.T))\n",
    "import matplotlib.pyplot as plt\n",
    "plt.plot(np.arange(0.1,1.1,0.1),sqr_loss)\n",
    "plt.show()"
   ]
  },
  {
   "cell_type": "markdown",
   "metadata": {},
   "source": [
    "The sqaure loss on validation set reach minimun when $\\lambda = 0.5$."
   ]
  },
  {
   "cell_type": "markdown",
   "metadata": {},
   "source": [
    "\\newpage"
   ]
  },
  {
   "cell_type": "markdown",
   "metadata": {},
   "source": [
    "# 3_1_2"
   ]
  },
  {
   "cell_type": "code",
   "execution_count": 36,
   "metadata": {},
   "outputs": [
    {
     "name": "stdout",
     "output_type": "stream",
     "text": [
      "lambda: 0.5 run_time: 18.43110227584839 steps_taken: 1000\n"
     ]
    }
   ],
   "source": [
    "w,a,c = lasso_shooting(train_X,train_y,lambda_reg=0.5)"
   ]
  },
  {
   "cell_type": "code",
   "execution_count": 37,
   "metadata": {},
   "outputs": [
    {
     "data": {
      "text/plain": [
       "11"
      ]
     },
     "execution_count": 37,
     "metadata": {},
     "output_type": "execute_result"
    }
   ],
   "source": [
    "threshold = 0.001\n",
    "w[(w<threshold)&(w>-threshold)] = 0\n",
    "# Measure the sparsity of result\n",
    "len(w[10:][w[10:]!=0])"
   ]
  },
  {
   "cell_type": "markdown",
   "metadata": {},
   "source": [
    "11 out of 65 zero values have been estimated to be non-zero. (threshold = 0.001)"
   ]
  },
  {
   "cell_type": "markdown",
   "metadata": {},
   "source": [
    "\\newpage"
   ]
  },
  {
   "cell_type": "markdown",
   "metadata": {},
   "source": [
    "# 3_1_3"
   ]
  },
  {
   "cell_type": "code",
   "execution_count": 20,
   "metadata": {},
   "outputs": [],
   "source": [
    "# Warstarting\n",
    "lambda_max = max(2*np.abs(train_X.T.dot(train_y)))\n",
    "def warm_start(X,y,lambda_reg=0.1,steps = 1000):\n",
    "    #Get dimension info\n",
    "    n = X.shape[0]\n",
    "    d = X.shape[1]\n",
    "    #initializing theta\n",
    "    w = np.zeros(d) # result w dimension: d\n",
    "    def soft(a,delta):\n",
    "        sign_a = np.sign(a)\n",
    "        if np.abs(a)-delta <0:\n",
    "            return 0 \n",
    "        else:\n",
    "            return sign_a*(abs(a)-delta)\n",
    "    for step in range(steps):\n",
    "        a = []\n",
    "        c = []\n",
    "    ####For loop for computing aj cj wj\n",
    "        for j in range(d):\n",
    "            aj = 0\n",
    "            cj = 0\n",
    "            for i in range(n):\n",
    "                xij = X[i,j]\n",
    "                aj += 2*xij*xij\n",
    "                cj += 2*xij*(y[i]-w.T.dot(X[i,:])+w[j]*xij)\n",
    "            w[j] = soft(cj/aj,lambda_reg/aj)\n",
    "            a.append(aj)\n",
    "            c.append(cj)\n",
    "        a = np.array(a)\n",
    "        c = np.array(c)\n",
    "    return w,a,c"
   ]
  },
  {
   "cell_type": "code",
   "execution_count": 23,
   "metadata": {},
   "outputs": [
    {
     "data": {
      "text/plain": [
       "array([ 0.,  0.,  0.,  0.,  0.,  0.,  0.,  0.,  0.,  0.,  0.,  0.,  0.,\n",
       "        0.,  0.,  0.,  0.,  0.,  0.,  0.,  0.,  0.,  0.,  0.,  0.,  0.,\n",
       "        0.,  0., -0.,  0.,  0.,  0.,  0.,  0.,  0.,  0.,  0.,  0.,  0.,\n",
       "        0.,  0.,  0.,  0.,  0.,  0.,  0.,  0.,  0.,  0.,  0.,  0.,  0.,\n",
       "        0.,  0.,  0.,  0.,  0.,  0.,  0.,  0.,  0.,  0.,  0.,  0.,  0.,\n",
       "        0.,  0.,  0.,  0.,  0.,  0.,  0.,  0.,  0.,  0.])"
      ]
     },
     "execution_count": 23,
     "metadata": {},
     "output_type": "execute_result"
    }
   ],
   "source": [
    "w_start,_,_ = warm_start(train_X,train_y,lambda_reg=lambda_max)\n",
    "w_start"
   ]
  },
  {
   "cell_type": "markdown",
   "metadata": {},
   "source": [
    "My warmstart meets error."
   ]
  },
  {
   "cell_type": "markdown",
   "metadata": {},
   "source": [
    "\\newpage"
   ]
  },
  {
   "cell_type": "markdown",
   "metadata": {},
   "source": [
    "# 3_1_4"
   ]
  },
  {
   "cell_type": "code",
   "execution_count": 49,
   "metadata": {
    "collapsed": true
   },
   "outputs": [],
   "source": [
    "def lasso_shooting_vectorize(X,y,lambda_reg=0.1,max_steps = 1000,tolerence = 1e-5):\n",
    "    start_time = time.time()\n",
    "    n = X.shape[0]\n",
    "    d = X.shape[1]\n",
    "    #initializing theta\n",
    "    w = np.linalg.inv(X.T.dot(X)+lambda_reg*np.identity(d)).dot(X.T).dot(y) # result w dimension: d\n",
    "    steps = 0\n",
    "    converge = False\n",
    "    def soft(a,delta):\n",
    "        sign_a = np.sign(a)\n",
    "        pos_part = np.abs(a)-delta\n",
    "        pos_part[pos_part<0] = 0  \n",
    "        return sign_a*pos_part\n",
    "    # Instead of loop calculate a c w using matrix operation\n",
    "    # Store a c w into three d-dimension vector\n",
    "    # a can be calculated using the diagonal elements of XT.X\n",
    "    while converge==False and steps<max_steps:\n",
    "        steps+=1\n",
    "        old_w = w\n",
    "        a = 2*X.T.dot(X).diagonal()\n",
    "        # steps for calculating c\n",
    "        # duplicate y-wx d times\n",
    "        y_wx = np.tile(y-X.dot(w),(d,1))\n",
    "        # duplicate w n times\n",
    "        w_n = np.tile(w,(n,1))\n",
    "        # elementwise multiplication of w_n and x\n",
    "        wjxij =w_n*X\n",
    "        # elementwise addition \n",
    "        right = y_wx.T + wjxij\n",
    "        # return c\n",
    "        c = 2*(X.T.dot(right).diagonal())\n",
    "        w = soft(a/c,lambda_reg/a)\n",
    "        convergence = np.sum(np.abs(w-old_w))<tolerence\n",
    "        run_time = time.time()-start_time\n",
    "    print('lambda:',lambda_reg,'run_time:',run_time,'steps_taken:',steps)\n",
    "    return w"
   ]
  },
  {
   "cell_type": "code",
   "execution_count": 51,
   "metadata": {},
   "outputs": [
    {
     "name": "stdout",
     "output_type": "stream",
     "text": [
      "lambda: 0.1 run_time: 0.3244040012359619 steps_taken: 1000\n"
     ]
    }
   ],
   "source": [
    "w = lasso_shooting_vectorize(train_X,train_y)"
   ]
  },
  {
   "cell_type": "markdown",
   "metadata": {},
   "source": [
    "Observe that the regularization path is significantly faster than using for_loop."
   ]
  }
 ],
 "metadata": {
  "anaconda-cloud": {},
  "kernelspec": {
   "display_name": "Python 3",
   "language": "python",
   "name": "python3"
  },
  "language_info": {
   "codemirror_mode": {
    "name": "ipython",
    "version": 3
   },
   "file_extension": ".py",
   "mimetype": "text/x-python",
   "name": "python",
   "nbconvert_exporter": "python",
   "pygments_lexer": "ipython3",
   "version": "3.7.1"
  },
  "toc": {
   "base_numbering": 1,
   "nav_menu": {},
   "number_sections": true,
   "sideBar": true,
   "skip_h1_title": false,
   "title_cell": "Table of Contents",
   "title_sidebar": "Contents",
   "toc_cell": false,
   "toc_position": {},
   "toc_section_display": true,
   "toc_window_display": false
  },
  "varInspector": {
   "cols": {
    "lenName": 16,
    "lenType": 16,
    "lenVar": 40
   },
   "kernels_config": {
    "python": {
     "delete_cmd_postfix": "",
     "delete_cmd_prefix": "del ",
     "library": "var_list.py",
     "varRefreshCmd": "print(var_dic_list())"
    },
    "r": {
     "delete_cmd_postfix": ") ",
     "delete_cmd_prefix": "rm(",
     "library": "var_list.r",
     "varRefreshCmd": "cat(var_dic_list()) "
    }
   },
   "types_to_exclude": [
    "module",
    "function",
    "builtin_function_or_method",
    "instance",
    "_Feature"
   ],
   "window_display": false
  }
 },
 "nbformat": 4,
 "nbformat_minor": 1
}
