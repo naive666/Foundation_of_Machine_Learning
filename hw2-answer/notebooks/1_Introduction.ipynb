{
 "cells": [
  {
   "cell_type": "markdown",
   "metadata": {},
   "source": [
    "# 1.1 Dataset Construction"
   ]
  },
  {
   "cell_type": "code",
   "execution_count": 1,
   "metadata": {
    "collapsed": true
   },
   "outputs": [],
   "source": [
    "import numpy as np\n",
    "import pandas as pd\n",
    "m = 150 #number of examples\n",
    "d = 75 # dimension of features"
   ]
  },
  {
   "cell_type": "markdown",
   "metadata": {},
   "source": [
    "1) Construct a random design matrix"
   ]
  },
  {
   "cell_type": "code",
   "execution_count": 2,
   "metadata": {
    "collapsed": false
   },
   "outputs": [],
   "source": [
    "X = np.random.rand(m*d).reshape(m,d) # Construct random design matrix X"
   ]
  },
  {
   "cell_type": "markdown",
   "metadata": {},
   "source": [
    "2) Constructa true weight vector"
   ]
  },
  {
   "cell_type": "code",
   "execution_count": 3,
   "metadata": {
    "collapsed": false
   },
   "outputs": [],
   "source": [
    "#Initialize zeros theta with dimension d+1\n",
    "theta = np.zeros(d)\n",
    "#Arbituary replace the first 10 elements to 10 or -10\n",
    "theta[:10] = np.random.choice([-10,10],10)"
   ]
  },
  {
   "cell_type": "markdown",
   "metadata": {},
   "source": [
    "3) Construct response variable y"
   ]
  },
  {
   "cell_type": "code",
   "execution_count": 4,
   "metadata": {
    "collapsed": false
   },
   "outputs": [],
   "source": [
    "# Episolon: normal noice\n",
    "epsilon = np.random.normal(0,0.1,m)\n",
    "# Compute y\n",
    "y = np.dot(X,theta)+epsilon"
   ]
  },
  {
   "cell_type": "markdown",
   "metadata": {},
   "source": [
    "4) Split Training validation and testing set."
   ]
  },
  {
   "cell_type": "code",
   "execution_count": 5,
   "metadata": {
    "collapsed": false
   },
   "outputs": [],
   "source": [
    "train_X = X[0:80,:]\n",
    "train_y = y[0:80]\n",
    "validation_X = X[80:100,:]\n",
    "validation_y = y[80:100]\n",
    "test_X = X[100:150,:]\n",
    "test_y = y[100:150]"
   ]
  },
  {
   "cell_type": "code",
   "execution_count": 6,
   "metadata": {
    "collapsed": false
   },
   "outputs": [],
   "source": [
    "# Save data to local folder name p1Data\n",
    "np.savetxt('../p1Data/test_X.csv',test_X,delimiter=',')\n",
    "np.savetxt('../p1Data/test_y.csv',test_y,delimiter=',')\n",
    "np.savetxt('../p1Data/train_X.csv',train_X,delimiter=',')\n",
    "np.savetxt('../p1Data/train_y.csv',train_y,delimiter=',')\n",
    "np.savetxt('../p1Data/validation_X.csv',validation_X,delimiter=',')\n",
    "np.savetxt('../p1Data/validation_y.csv',validation_y,delimiter=',')"
   ]
  }
 ],
 "metadata": {
  "anaconda-cloud": {},
  "kernelspec": {
   "display_name": "Python [conda root]",
   "language": "python",
   "name": "conda-root-py"
  },
  "language_info": {
   "codemirror_mode": {
    "name": "ipython",
    "version": 3
   },
   "file_extension": ".py",
   "mimetype": "text/x-python",
   "name": "python",
   "nbconvert_exporter": "python",
   "pygments_lexer": "ipython3",
   "version": "3.5.2"
  }
 },
 "nbformat": 4,
 "nbformat_minor": 1
}
