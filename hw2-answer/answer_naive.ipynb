{
 "cells": [
  {
   "cell_type": "markdown",
   "metadata": {},
   "source": [
    "# Ridge Regression "
   ]
  },
  {
   "cell_type": "code",
   "execution_count": 1,
   "metadata": {
    "ExecuteTime": {
     "end_time": "2019-10-06T18:43:21.631230Z",
     "start_time": "2019-10-06T18:43:20.705463Z"
    }
   },
   "outputs": [],
   "source": [
    "import numpy as np\n",
    "from scipy.optimize import minimize\n",
    "\n",
    "X_train=np.loadtxt('../hw2-answer/data_naive/X_train.txt')\n",
    "X_valid=np.loadtxt('../hw2-answer/data_naive/X_valid.txt')\n",
    "X_test=np.loadtxt('../hw2-answer/data_naive/X_test.txt')\n",
    "y_train=np.loadtxt('../hw2-answer/data_naive/y_train.txt')\n",
    "y_valid=np.loadtxt('../hw2-answer/data_naive/y_valid.txt')\n",
    "y_test=np.loadtxt('../hw2-answer/data_naive/y_test.txt')\n",
    "\n",
    "num_instance, dimension=X_train.shape\n",
    "W=np.random.rand(dimension,1)\n",
    "\n",
    "    "
   ]
  },
  {
   "cell_type": "code",
   "execution_count": 2,
   "metadata": {
    "ExecuteTime": {
     "end_time": "2019-10-06T18:43:26.529978Z",
     "start_time": "2019-10-06T18:43:24.795342Z"
    }
   },
   "outputs": [],
   "source": [
    "from sklearn.preprocessing import MinMaxScaler\n",
    "X_train=MinMaxScaler().fit_transform(X_train)\n",
    "X_test=MinMaxScaler().fit_transform(X_test)\n",
    "X_valid=MinMaxScaler().fit_transform(X_valid)"
   ]
  },
  {
   "cell_type": "markdown",
   "metadata": {},
   "source": [
    "$ L=\\frac{1}{n}(X\\theta-Y)^{2}+\\lambda||\\theta|| $"
   ]
  },
  {
   "cell_type": "markdown",
   "metadata": {},
   "source": [
    "下段代码要编写一个ridge regression,并且验证不同的 $\\lambda$ 对优化结果的影响\n",
    "我们不仅要给出对应每个 $\\lambda$, 最优的 $\\theta$, 还要求出每个 $\\lambda$ 所对应的loss"
   ]
  },
  {
   "cell_type": "code",
   "execution_count": 4,
   "metadata": {
    "ExecuteTime": {
     "end_time": "2019-10-06T18:43:34.521885Z",
     "start_time": "2019-10-06T18:43:34.515901Z"
    }
   },
   "outputs": [],
   "source": [
    "def ridge_regression(X,Y,lambda_):\n",
    "    def ridge_obj(theta):\n",
    "        num_instance, dimension=X.shape\n",
    "        risk=(1/num_instance)*np.linalg.norm(np.dot(X,theta)-Y)+lambda_*np.linalg.norm(theta)**2\n",
    "        return risk\n",
    "    \n",
    "    return ridge_obj\n",
    "\n",
    "def compute_loss(X,Y,theta,lambda_):\n",
    "        num_instance, dimension=X.shape\n",
    "        loss=(1/num_instance)*np.linalg.norm(np.dot(X,theta)-Y)\n",
    "        return loss"
   ]
  },
  {
   "cell_type": "code",
   "execution_count": 5,
   "metadata": {
    "ExecuteTime": {
     "end_time": "2019-10-06T18:43:36.001161Z",
     "start_time": "2019-10-06T18:43:35.992186Z"
    }
   },
   "outputs": [],
   "source": [
    "def train(X,Y):\n",
    "    theta0=W\n",
    "    lambda_list=[10**i for i in range(-5,6)]\n",
    "    loss_list=[]\n",
    "    theta_list=[]\n",
    "    for i in range(-5,6):\n",
    "        lambda_=10**i\n",
    "        mini=minimize(ridge_regression(X,Y,lambda_),theta0)\n",
    "        loss_list.append(compute_loss(X,Y,mini.x,lambda_))\n",
    "        theta_list.append(mini.x)\n",
    "        print('lambda: {}'.format(lambda_)+'\\n'+'corrsponding theta: {}'.format(mini.x)+'\\n'+'corresponding loss: {}'.format(compute_loss(X,Y,mini.x,lambda_)))\n",
    "    \n",
    "    index=np.argmin(loss_list)\n",
    "    theta_min=theta_list[index]\n",
    "    lambda_min=lambda_list[index]\n",
    "    return lambda_list,loss_list,(theta_min,lambda_min)"
   ]
  },
  {
   "cell_type": "code",
   "execution_count": 49,
   "metadata": {
    "ExecuteTime": {
     "end_time": "2019-10-06T19:30:26.342363Z",
     "start_time": "2019-10-06T19:30:26.334384Z"
    }
   },
   "outputs": [],
   "source": [
    "%matplotlib inline\n",
    "import matplotlib.pyplot as plt\n",
    "def show_fig(lambda_list,loss_list):\n",
    "    fig=plt.figure()\n",
    "    plt.semilogx(lambda_list,loss_list)\n",
    "    plt.title('Loss for Regression')\n",
    "    plt.xlim(10**(-5),10**5)\n",
    "    plt.show()"
   ]
  },
  {
   "cell_type": "code",
   "execution_count": 7,
   "metadata": {
    "ExecuteTime": {
     "end_time": "2019-10-06T18:43:42.096845Z",
     "start_time": "2019-10-06T18:43:40.194817Z"
    }
   },
   "outputs": [
    {
     "name": "stdout",
     "output_type": "stream",
     "text": [
      "lambda: 1e-05\n",
      "corrsponding theta: [ 9.85020802e+00 -9.82326076e+00 -9.81020101e+00  9.82088820e+00\n",
      " -9.73456992e+00  9.80230537e+00 -9.81648614e+00  9.44470516e+00\n",
      " -9.77113754e+00  9.86002848e+00  3.47759385e-01  1.13409571e-01\n",
      " -1.95253295e-01 -1.23173187e-01  8.64598477e-02 -1.31915707e-01\n",
      "  2.96499084e-01  2.82387177e-01  4.12059453e-01 -1.91645667e-01\n",
      " -6.85483490e-02 -2.76215212e-01  1.21381049e-01 -2.44502349e-01\n",
      "  2.54865005e-01  1.19286527e-01  2.17121341e-01  1.58796241e-01\n",
      "  1.39894334e-01  3.46303830e-02 -4.50858151e-02 -4.70899875e-02\n",
      " -4.04230876e-01  1.99291033e-01 -7.69211083e-03  3.51488679e-02\n",
      " -2.92609228e-02  1.22868854e-01  1.11890406e-01 -2.87490895e-01\n",
      " -2.31280660e-03  1.42033247e-01 -1.27043373e-01 -3.61163412e-02\n",
      " -3.87776395e-02 -4.66753587e-01  1.56362959e-01 -7.67300686e-02\n",
      " -1.41899280e-01  7.24674614e-02 -3.67922997e-01  1.32276999e-01\n",
      "  3.74147658e-01  3.83401916e-01  3.85154763e-01  7.17631437e-02\n",
      "  3.77036031e-01 -3.14842701e-01  2.74326871e-01  2.51216329e-01\n",
      "  1.18790372e-01 -5.20917548e-01 -2.95328498e-01 -4.57789337e-02\n",
      "  2.12557584e-01  2.57038911e-01 -2.15772963e-01  6.29274548e-02\n",
      "  5.73051288e-03  6.39399546e-02  9.45708386e-02 -4.97101277e-01\n",
      " -1.15577784e-01 -1.41383762e-01 -3.63439999e-01]\n",
      "corresponding loss: 0.002303729890984149\n",
      "lambda: 0.0001\n",
      "corrsponding theta: [ 9.76105140e+00 -9.69802999e+00 -9.66139064e+00  9.75957011e+00\n",
      " -9.77936781e+00  9.69859150e+00 -9.72598096e+00  9.23270038e+00\n",
      " -9.63994899e+00  9.78429223e+00  4.68798824e-01  4.63146502e-02\n",
      " -1.65208208e-01 -1.37566970e-01 -6.58333369e-02 -1.59261010e-01\n",
      "  2.71180002e-01  2.66596844e-01  3.34768280e-01 -2.60183221e-01\n",
      " -4.85734665e-03 -2.36405127e-01  1.65273313e-01 -2.94765457e-01\n",
      "  1.97432135e-01  5.78077267e-02  2.06906376e-01  8.37357283e-02\n",
      "  1.80076266e-01  1.40181954e-01 -1.61770928e-01 -2.68429927e-02\n",
      " -4.48415692e-01  2.44277342e-01  1.08183267e-02  1.04332845e-01\n",
      " -7.32753133e-02  3.77410244e-02  2.29790675e-01 -2.50007741e-01\n",
      "  2.99614510e-02  3.02329454e-01 -9.92990846e-02 -4.09436056e-02\n",
      " -6.19010562e-03 -5.28000653e-01  1.24457682e-01 -3.68053657e-02\n",
      " -2.21773752e-01  6.62317501e-02 -3.91222308e-01  9.02632955e-02\n",
      "  3.11158032e-01  4.22531553e-01  4.80646840e-01  1.24294367e-01\n",
      "  2.13281350e-01 -3.60171947e-01  3.38900317e-01  2.68798156e-01\n",
      "  2.04023349e-01 -5.45471520e-01 -3.44625644e-01 -8.96958464e-02\n",
      "  3.28215041e-01  3.60192669e-01 -1.03180000e-01 -6.93547515e-02\n",
      "  9.61983715e-02  1.24299444e-01  5.36093996e-02 -6.53793866e-01\n",
      " -3.59770924e-02 -7.41046082e-02 -3.16475230e-01]\n",
      "corresponding loss: 0.0034644273796468057\n",
      "lambda: 0.001\n",
      "corrsponding theta: [ 4.98033795 -3.09661456 -4.81362815  3.50174418 -6.5509929   5.07211936\n",
      " -4.74733251  3.43846702 -4.80437373  3.35222586  2.06616566  1.32092222\n",
      "  0.95583922 -0.60824897 -1.59464418 -0.33120821 -0.06762347 -2.09035181\n",
      " -1.12790376 -1.02413873  1.23196616  1.36678569 -0.94770343  0.57658515\n",
      " -1.62625662 -1.35467644 -0.33087141 -1.20649819  1.33521272  1.78973287\n",
      " -0.35727282  0.68752586  0.12942196  1.08995937  0.99712179  1.56198119\n",
      " -0.59259469 -0.65121588  0.2797326   0.21667798 -0.08370484  1.41606957\n",
      "  0.19953305  0.46231767  1.86368661  0.87816828 -0.95828472  1.20645886\n",
      " -1.60205591 -1.09234526 -0.16747677  0.41578145 -0.75667165  1.03328412\n",
      "  0.59389359 -0.36360209 -1.12732994 -1.34275199  1.25115832  0.80274433\n",
      "  0.45138133 -1.28479765 -0.91163275 -0.67512954  1.69933043 -0.33047732\n",
      "  1.25681022 -1.03279782 -0.06694123 -0.8684071  -1.40537073 -1.28871886\n",
      "  1.77309988  0.20717028  1.52804286]\n",
      "corresponding loss: 0.298006944848649\n",
      "lambda: 0.01\n",
      "corrsponding theta: [ 0.50568015 -0.3005287  -0.60614878  0.32067156 -0.89379499  0.58608756\n",
      " -0.52845278  0.45841519 -0.61601728  0.29485987  0.29102213  0.23486776\n",
      "  0.11597571 -0.11071144 -0.12077621 -0.17783798 -0.01321456 -0.39412367\n",
      " -0.19466533 -0.16914819  0.32583609  0.13181447 -0.20572779  0.25260614\n",
      " -0.26764135 -0.30091731 -0.16157439 -0.17681677  0.24986296  0.350341\n",
      "  0.08630635  0.20673363 -0.1427153   0.1432678   0.16964187  0.12186015\n",
      " -0.16404704 -0.0085405  -0.0248269   0.07949727 -0.08718072  0.26670193\n",
      " -0.06501706  0.14004662  0.24153556  0.24365759 -0.23343405  0.2213988\n",
      " -0.18906291 -0.22381626 -0.06935486  0.11187707 -0.0822415   0.16485417\n",
      "  0.05809078 -0.04168047 -0.02305836 -0.22787207  0.08777145  0.13062904\n",
      " -0.05902198 -0.29065255 -0.10850874 -0.19031738  0.21960018 -0.21309628\n",
      "  0.09397694 -0.27538642 -0.09952369 -0.12553628 -0.27482025 -0.21883474\n",
      "  0.35812925 -0.07821908  0.12384226]\n",
      "corresponding loss: 0.8923815708520625\n",
      "lambda: 0.1\n",
      "corrsponding theta: [ 0.03901007 -0.04000691 -0.07189201  0.0216631  -0.10099624  0.04829306\n",
      " -0.06251257  0.0372382  -0.07268939  0.01958004  0.02084831  0.01349866\n",
      "  0.00036958 -0.02061338 -0.02093334 -0.02942826 -0.01087832 -0.05235616\n",
      " -0.02946826 -0.0271967   0.02498291  0.0032856  -0.03098276  0.01795316\n",
      " -0.03719155 -0.04224512 -0.0278634  -0.02889734  0.0158206   0.02597513\n",
      "  0.000198    0.01257972 -0.02686851  0.00360499  0.0073416   0.00088555\n",
      " -0.02678533 -0.00903033 -0.01253881 -0.00022069 -0.01975354  0.01897256\n",
      " -0.01728228  0.00508283  0.01417813  0.01679367 -0.03375609  0.01410646\n",
      " -0.02902438 -0.03323436 -0.01735405  0.0005279  -0.01849405  0.00640903\n",
      " -0.00381705 -0.01358956 -0.01097228 -0.03430465 -0.00233835  0.00240206\n",
      " -0.01826953 -0.04014836 -0.01939059 -0.03074312  0.01188501 -0.03280564\n",
      " -0.00053178 -0.03933516 -0.02084776 -0.02068068 -0.03782355 -0.03361605\n",
      "  0.02775094 -0.01875054  0.00208407]\n",
      "corresponding loss: 0.989100366445213\n",
      "lambda: 1\n",
      "corrsponding theta: [ 2.67107139e-03 -5.15943854e-03 -8.37576843e-03  1.03308688e-03\n",
      " -1.12607541e-02  3.66121987e-03 -7.42724853e-03  2.58936651e-03\n",
      " -8.43275792e-03  9.30007665e-04  1.00572939e-03  2.11123280e-04\n",
      " -1.19898895e-03 -3.13483342e-03 -3.20374987e-03 -4.11192421e-03\n",
      " -2.19944592e-03 -6.55156603e-03 -4.01868505e-03 -3.90283908e-03\n",
      "  1.40029038e-03 -7.41702183e-04 -4.27767505e-03  6.99620470e-04\n",
      " -4.82302603e-03 -5.42452855e-03 -3.90347725e-03 -4.09156434e-03\n",
      "  4.49178250e-04  1.34355318e-03 -1.17059315e-03  1.23099412e-04\n",
      " -3.95391318e-03 -8.53253937e-04 -4.19928971e-04 -1.17011033e-03\n",
      " -3.79436166e-03 -1.97877220e-03 -2.34108570e-03 -1.09471398e-03\n",
      " -3.14009822e-03  8.66003226e-04 -2.85156610e-03 -6.14825028e-04\n",
      "  2.81283825e-04  6.61551858e-04 -4.51793664e-03  3.14822436e-04\n",
      " -4.08965741e-03 -4.43173464e-03 -2.86187238e-03 -1.23820243e-03\n",
      " -3.00918989e-03 -5.84121255e-04 -1.52403747e-03 -2.50680882e-03\n",
      " -2.27428630e-03 -4.69088124e-03 -1.38224010e-03 -9.84088202e-04\n",
      " -3.12924325e-03 -5.07961016e-03 -2.99155809e-03 -4.23336777e-03\n",
      "  2.36877665e-05 -4.47165865e-03 -1.12691122e-03 -5.09067736e-03\n",
      " -3.20643173e-03 -3.10032265e-03 -4.87752635e-03 -4.64518589e-03\n",
      "  1.66263037e-03 -3.00811515e-03 -8.54386713e-04]\n",
      "corresponding loss: 1.0016582915863086\n",
      "lambda: 10\n",
      "corrsponding theta: [ 2.40899017e-04 -5.40201151e-04 -8.62236703e-04  7.92500275e-05\n",
      " -1.15000388e-03  3.41156146e-04 -7.67391593e-04  2.34579936e-04\n",
      " -8.67410208e-04  7.12451942e-05  7.73940968e-05 -2.96652340e-06\n",
      " -1.46009817e-04 -3.36189983e-04 -3.43910613e-04 -4.35711320e-04\n",
      " -2.43461033e-04 -6.82608456e-04 -4.24336438e-04 -4.15341258e-04\n",
      "  1.16404713e-04 -9.68129795e-05 -4.52748565e-04  4.63723145e-05\n",
      " -5.05491560e-04 -5.67527525e-04 -4.13582937e-04 -4.34285418e-04\n",
      "  2.07550843e-05  1.07437277e-04 -1.42583746e-04 -1.20006000e-05\n",
      " -4.22018264e-04 -1.10956616e-04 -6.65260844e-05 -1.43747536e-04\n",
      " -4.02992536e-04 -2.20723372e-04 -2.57091661e-04 -1.32369136e-04\n",
      " -3.38498019e-04  6.45541944e-05 -3.08673548e-04 -8.53731394e-05\n",
      "  4.00941416e-06  4.43448496e-05 -4.75875671e-04  7.91572817e-06\n",
      " -4.34012434e-04 -4.66291427e-04 -3.09913730e-04 -1.51253746e-04\n",
      " -3.25410130e-04 -8.44086176e-05 -1.76711180e-04 -2.75127314e-04\n",
      " -2.52556269e-04 -4.95479473e-04 -1.62385594e-04 -1.24256309e-04\n",
      " -3.40342495e-04 -5.30072967e-04 -3.21486774e-04 -4.47562429e-04\n",
      " -2.23764108e-05 -4.72223607e-04 -1.35393004e-04 -5.33209050e-04\n",
      " -3.44133451e-04 -3.31965943e-04 -5.10744063e-04 -4.91437095e-04\n",
      "  1.42310711e-04 -3.24598011e-04 -1.07836525e-04]\n",
      "corresponding loss: 1.0034364214432947\n",
      "lambda: 100\n",
      "corrsponding theta: [ 2.37965854e-05 -5.43130674e-05 -8.65032513e-05  7.65603314e-06\n",
      " -1.15288484e-04  3.38226458e-05 -7.70282802e-05  2.31738387e-05\n",
      " -8.70214425e-05  6.87081045e-06  7.47459628e-06 -5.81780810e-07\n",
      " -1.49104130e-05 -3.38840930e-05 -3.46647871e-05 -4.38485532e-05\n",
      " -2.45995357e-05 -6.85855263e-05 -4.26983693e-05 -4.18237445e-05\n",
      "  1.13782336e-05 -9.93307136e-06 -4.55640901e-05  4.36151648e-06\n",
      " -5.08118547e-05 -5.70257701e-05 -4.16389002e-05 -4.37251131e-05\n",
      "  1.80652538e-06  1.04299721e-05 -1.45467216e-05 -1.49004623e-06\n",
      " -4.24893089e-05 -1.13872900e-05 -6.93713763e-06 -1.46785639e-05\n",
      " -4.05787845e-05 -2.23330949e-05 -2.59847131e-05 -1.35041720e-05\n",
      " -3.41389777e-05  6.19041204e-06 -3.11306111e-05 -8.81056764e-06\n",
      "  1.31181379e-07  4.18802243e-06 -4.78744407e-05  5.25229152e-07\n",
      " -4.36913257e-05 -4.68906206e-05 -3.12777626e-05 -1.54473446e-05\n",
      " -3.28251230e-05 -8.74238527e-06 -1.79500874e-05 -2.77830861e-05\n",
      " -2.55253983e-05 -4.98402449e-05 -1.65086585e-05 -1.27249605e-05\n",
      " -3.43541811e-05 -5.32666439e-05 -3.23888038e-05 -4.50327262e-05\n",
      " -2.52133148e-06 -4.74994888e-05 -1.37927029e-05 -5.35936216e-05\n",
      " -3.46821597e-05 -3.34317753e-05 -5.13227025e-05 -4.94479209e-05\n",
      "  1.39590248e-05 -3.27369027e-05 -1.10473100e-05]\n",
      "corresponding loss: 1.003627884513356\n",
      "lambda: 1000\n",
      "corrsponding theta: [ 2.37256642e-06 -5.44252777e-06 -8.66003830e-06  7.56920041e-07\n",
      " -1.15383394e-05  3.37713454e-06 -7.71472739e-06  2.31140731e-06\n",
      " -8.71250714e-06  6.78112583e-07  7.42891848e-07 -6.77310943e-08\n",
      " -1.49866615e-06 -3.39315149e-06 -3.47486604e-06 -4.39374253e-06\n",
      " -2.47079054e-06 -6.86843010e-06 -4.28218463e-06 -4.18982432e-06\n",
      "  1.12948258e-06 -1.00108302e-06 -4.56523595e-06  4.27077745e-07\n",
      " -5.08815726e-06 -5.71512376e-06 -4.17280481e-06 -4.38078649e-06\n",
      "  1.73019664e-07  1.03568867e-06 -1.46325493e-06 -1.55204933e-07\n",
      " -4.25965646e-06 -1.14670990e-06 -7.00844978e-07 -1.47543607e-06\n",
      " -4.06576695e-06 -2.24497697e-06 -2.60616077e-06 -1.35790318e-06\n",
      " -3.42149228e-06  6.10330436e-07 -3.12599046e-06 -8.89728955e-07\n",
      "  1.56455931e-09  4.10418735e-07 -4.79375081e-06  4.56620508e-08\n",
      " -4.37902854e-06 -4.70062451e-06 -3.13396062e-06 -1.55141847e-06\n",
      " -3.29094559e-06 -8.83107694e-07 -1.80254293e-06 -2.78478099e-06\n",
      " -2.56338361e-06 -4.99487214e-06 -1.66144048e-06 -1.28017367e-06\n",
      " -3.44167432e-06 -5.33671775e-06 -3.24759037e-06 -4.51380612e-06\n",
      " -2.60009883e-07 -4.76132156e-06 -1.38830728e-06 -5.36927770e-06\n",
      " -3.47947658e-06 -3.35552181e-06 -5.14293821e-06 -4.95708862e-06\n",
      "  1.39059557e-06 -3.28508877e-06 -1.11059985e-06]\n",
      "corresponding loss: 1.0036471891331595\n"
     ]
    },
    {
     "name": "stdout",
     "output_type": "stream",
     "text": [
      "lambda: 10000\n",
      "corrsponding theta: [ 2.37095625e-07 -5.48746489e-07 -8.75128619e-07  7.47352930e-08\n",
      " -1.16221058e-06  3.34338279e-07 -7.78768046e-07  2.30308948e-07\n",
      " -8.75698829e-07  6.36081088e-08  7.44526819e-08 -1.33428477e-08\n",
      " -1.53266374e-07 -3.36659257e-07 -3.46761839e-07 -4.39521862e-07\n",
      " -2.53592967e-07 -6.90573717e-07 -4.27382396e-07 -4.18397832e-07\n",
      "  1.13646830e-07 -9.53685503e-08 -4.55777308e-07  3.46334981e-08\n",
      " -5.06608404e-07 -5.73298575e-07 -4.24890515e-07 -4.43622226e-07\n",
      "  1.28756680e-08  9.90384792e-08 -1.44249340e-07 -2.39858816e-08\n",
      " -4.20017644e-07 -1.20657418e-07 -7.31631626e-08 -1.43050515e-07\n",
      " -4.08280946e-07 -2.27759157e-07 -2.65480233e-07 -1.35179769e-07\n",
      " -3.38689142e-07  5.55932107e-08 -3.20186991e-07 -8.91928988e-08\n",
      " -5.44514983e-09  3.74654298e-08 -4.81520625e-07  2.87036897e-09\n",
      " -4.43382822e-07 -4.74237405e-07 -3.15366683e-07 -1.54422509e-07\n",
      " -3.28754557e-07 -9.40410639e-08 -1.81207805e-07 -2.77232418e-07\n",
      " -2.56516699e-07 -4.99364069e-07 -1.70202266e-07 -1.33010148e-07\n",
      " -3.42105367e-07 -5.38102536e-07 -3.23839716e-07 -4.55772517e-07\n",
      " -2.72011900e-08 -4.74277110e-07 -1.36148959e-07 -5.34665546e-07\n",
      " -3.56243307e-07 -3.40243427e-07 -5.17011299e-07 -5.02880318e-07\n",
      "  1.42909154e-07 -3.25956342e-07 -1.14983522e-07]\n",
      "corresponding loss: 1.0036491229211455\n",
      "lambda: 100000\n",
      "corrsponding theta: [ 1.53553837e-08 -6.19078518e-08 -9.39783235e-08 -2.54460830e-10\n",
      " -1.23160096e-07  2.59539545e-08 -8.50367546e-08  1.50609602e-08\n",
      " -9.51831638e-08 -7.59625609e-10 -4.82958185e-10 -7.56249324e-09\n",
      " -2.34039734e-08 -4.23614254e-08 -4.32278070e-08 -5.21100187e-08\n",
      " -3.16868388e-08 -7.59473031e-08 -5.04250522e-08 -5.01680018e-08\n",
      "  3.63347434e-09 -1.91245447e-08 -5.36440476e-08 -3.55899733e-09\n",
      " -5.94064260e-08 -6.46642567e-08 -4.92551229e-08 -5.09257211e-08\n",
      " -5.94147936e-09  2.55337602e-09 -2.30574779e-08 -9.48130538e-09\n",
      " -5.13667314e-08 -1.87729676e-08 -1.50236717e-08 -2.32742731e-08\n",
      " -4.92057911e-08 -3.01753956e-08 -3.39856612e-08 -2.15952946e-08\n",
      " -4.21154194e-08 -1.14422108e-09 -3.93473519e-08 -1.70329702e-08\n",
      " -7.32554781e-09 -3.24868186e-09 -5.65865551e-08 -7.57542257e-09\n",
      " -5.06788759e-08 -5.49017806e-08 -3.92307565e-08 -2.42162596e-08\n",
      " -4.04213615e-08 -1.60827770e-08 -2.64289499e-08 -3.64593435e-08\n",
      " -3.39834261e-08 -5.69914804e-08 -2.42183381e-08 -1.94350607e-08\n",
      " -4.26496639e-08 -6.09743329e-08 -4.04179610e-08 -5.26370929e-08\n",
      " -1.10246211e-08 -5.58998562e-08 -2.16010053e-08 -6.18498851e-08\n",
      " -4.22742659e-08 -4.23801765e-08 -5.93223443e-08 -5.71711931e-08\n",
      "  4.97082548e-09 -4.21127393e-08 -1.85475355e-08]\n",
      "corresponding loss: 1.0036493143840453\n"
     ]
    }
   ],
   "source": [
    "lambda_list,loss_list,(theta_min,lambda_min)=train(X_train,y_train)"
   ]
  },
  {
   "cell_type": "code",
   "execution_count": 8,
   "metadata": {
    "ExecuteTime": {
     "end_time": "2019-10-06T18:43:52.873992Z",
     "start_time": "2019-10-06T18:43:52.480300Z"
    }
   },
   "outputs": [
    {
     "data": {
      "image/png": "[encoded data removed]",
      "text/plain": [
       "<Figure size 432x288 with 1 Axes>"
      ]
     },
     "metadata": {
      "needs_background": "light"
     },
     "output_type": "display_data"
    }
   ],
   "source": [
    "show_fig(lambda_list,loss_list)"
   ]
  },
  {
   "cell_type": "markdown",
   "metadata": {},
   "source": [
    "In both train set and validation set, the best $\\lambda$ is $10^{-5}$, so we use this to predict"
   ]
  },
  {
   "cell_type": "code",
   "execution_count": 9,
   "metadata": {
    "ExecuteTime": {
     "end_time": "2019-10-06T18:43:55.214308Z",
     "start_time": "2019-10-06T18:43:55.210319Z"
    }
   },
   "outputs": [],
   "source": [
    "def prediction(X):\n",
    "    predict=np.dot(X,theta_min)\n",
    "    return predict"
   ]
  },
  {
   "cell_type": "code",
   "execution_count": 10,
   "metadata": {
    "ExecuteTime": {
     "end_time": "2019-10-06T18:43:56.535197Z",
     "start_time": "2019-10-06T18:43:56.526239Z"
    }
   },
   "outputs": [
    {
     "data": {
      "text/plain": [
       "array([ -2.47964235,   0.58161358,  12.87718011,  -1.61929466,\n",
       "         5.10290661, -13.439506  ,   7.47740409,  -5.88966667,\n",
       "       -16.25649827,  -0.26193508, -13.99698505, -10.61909821,\n",
       "         1.93161988,  -1.89272334,  -4.94007786, -21.45870626,\n",
       "         6.32512154,  -2.8240893 ,   4.11193394,  15.64937273,\n",
       "        -0.94168297,   7.54914969,   2.61910263,  17.25558908,\n",
       "         3.10124001,   1.23908035,  -5.41386377,   0.5346276 ,\n",
       "        -3.40758964,  -2.48700142,   8.02819362,  -3.25632901,\n",
       "         9.07054617,  -9.98560907, -15.2027608 ,   9.51850996,\n",
       "        11.97389206,  -1.08893365,  -1.57225896, -15.28762208,\n",
       "        10.17490783,  -5.4359884 ,  -5.64587222,  -3.48047608,\n",
       "       -12.16258117, -25.92712629,  -0.06256873,   6.71826157,\n",
       "         5.70104446,   2.66826549])"
      ]
     },
     "execution_count": 10,
     "metadata": {},
     "output_type": "execute_result"
    }
   ],
   "source": [
    "prediction(X_test)"
   ]
  },
  {
   "cell_type": "code",
   "execution_count": 11,
   "metadata": {
    "ExecuteTime": {
     "end_time": "2019-10-06T18:43:59.278488Z",
     "start_time": "2019-10-06T18:43:59.272505Z"
    }
   },
   "outputs": [
    {
     "data": {
      "text/plain": [
       "array([ -2.8309324 ,   0.69417108,  12.67029779,  -0.92954206,\n",
       "         4.58592049, -13.02585408,   7.94966951,  -5.4844889 ,\n",
       "       -15.7896344 ,  -0.16921939, -12.82399642,  -9.74589714,\n",
       "         0.51709585,  -1.30080086,  -5.58152774, -22.21952411,\n",
       "         7.02226482,  -2.22587996,   3.40414019,  15.62068452,\n",
       "        -0.11831958,   6.86229863,   2.08357708,  16.52142514,\n",
       "         3.92641279,   1.15249962,  -5.07174144,   0.60719744,\n",
       "        -2.35151992,  -2.82710073,   7.55320658,  -2.99938146,\n",
       "         9.57426518,  -9.79102779, -15.2208669 ,  10.00414485,\n",
       "        11.7180808 ,  -0.93641037,  -0.36346696, -14.32001204,\n",
       "        10.01599198,  -4.71982977,  -6.52190128,  -3.28548183,\n",
       "       -12.26731454, -25.32145858,   0.70120268,   7.1650268 ,\n",
       "         5.35200776,   2.71890428])"
      ]
     },
     "execution_count": 11,
     "metadata": {},
     "output_type": "execute_result"
    }
   ],
   "source": [
    "y_test"
   ]
  },
  {
   "cell_type": "code",
   "execution_count": 12,
   "metadata": {
    "ExecuteTime": {
     "end_time": "2019-10-06T18:44:01.937889Z",
     "start_time": "2019-10-06T18:44:01.934937Z"
    }
   },
   "outputs": [],
   "source": [
    "loss_test=np.linalg.norm(prediction(X_test)-y_test)"
   ]
  },
  {
   "cell_type": "code",
   "execution_count": 13,
   "metadata": {
    "ExecuteTime": {
     "end_time": "2019-10-06T18:44:03.173486Z",
     "start_time": "2019-10-06T18:44:03.166272Z"
    }
   },
   "outputs": [
    {
     "data": {
      "text/plain": [
       "4.299278082837052"
      ]
     },
     "execution_count": 13,
     "metadata": {},
     "output_type": "execute_result"
    }
   ],
   "source": [
    "loss_test"
   ]
  },
  {
   "cell_type": "markdown",
   "metadata": {
    "heading_collapsed": true
   },
   "source": [
    "# Compare with sklearn.Ridge"
   ]
  },
  {
   "cell_type": "code",
   "execution_count": 14,
   "metadata": {
    "ExecuteTime": {
     "end_time": "2019-10-06T18:44:11.171113Z",
     "start_time": "2019-10-06T18:44:10.538550Z"
    },
    "hidden": true
   },
   "outputs": [
    {
     "data": {
      "text/plain": [
       "Ridge(alpha=1e-05, copy_X=True, fit_intercept=True, max_iter=None,\n",
       "   normalize=False, random_state=None, solver='auto', tol=0.001)"
      ]
     },
     "execution_count": 14,
     "metadata": {},
     "output_type": "execute_result"
    }
   ],
   "source": [
    "from sklearn.linear_model import Ridge\n",
    "ridge=Ridge(alpha=10**-5)\n",
    "ridge.fit(X_train,y_train)"
   ]
  },
  {
   "cell_type": "code",
   "execution_count": 15,
   "metadata": {
    "ExecuteTime": {
     "end_time": "2019-10-06T18:44:13.631423Z",
     "start_time": "2019-10-06T18:44:13.625407Z"
    },
    "hidden": true
   },
   "outputs": [
    {
     "data": {
      "text/plain": [
       "array([ 9.87020627e+00, -9.79727717e+00, -9.82731339e+00,  9.74704585e+00,\n",
       "       -9.69191211e+00,  9.80092097e+00, -9.79772935e+00,  9.46019822e+00,\n",
       "       -9.82235180e+00,  9.82253347e+00,  2.76784134e-01,  1.15264472e-01,\n",
       "       -1.89642505e-01, -8.73741923e-02,  9.88353725e-02, -1.04151956e-01,\n",
       "        2.43092280e-01,  2.14025385e-01,  3.41998141e-01, -1.85793674e-01,\n",
       "       -5.49731265e-02, -2.50946341e-01,  6.94001225e-02, -2.22349927e-01,\n",
       "        2.15305587e-01,  6.55153170e-02,  2.21498966e-01,  1.07139642e-01,\n",
       "        1.14091172e-01, -5.38528157e-03, -3.03939047e-02, -7.04910788e-02,\n",
       "       -3.67939879e-01,  1.85939928e-01, -3.42605122e-02,  4.81393337e-02,\n",
       "       -5.15621597e-02,  1.15820678e-01,  6.25165409e-02, -2.38765214e-01,\n",
       "       -1.80620960e-02,  1.11760123e-01, -1.10265569e-01, -6.11469063e-02,\n",
       "       -1.96539559e-04, -3.99269080e-01,  1.21152529e-01, -5.99449716e-02,\n",
       "       -1.88102766e-01,  6.39373322e-02, -3.62123205e-01,  5.16368958e-02,\n",
       "        3.29911381e-01,  3.27623003e-01,  2.81769696e-01,  9.08638134e-02,\n",
       "        3.93307123e-01, -2.88502113e-01,  2.75121136e-01,  1.97280911e-01,\n",
       "        1.26197586e-01, -5.51113930e-01, -2.65475292e-01, -5.64106852e-02,\n",
       "        1.91174382e-01,  2.14293554e-01, -2.00097282e-01,  7.97721951e-02,\n",
       "        2.27074281e-02,  3.06030638e-02,  5.56395267e-02, -4.65272260e-01,\n",
       "       -1.29895681e-01, -1.32245144e-01, -3.19939284e-01])"
      ]
     },
     "execution_count": 15,
     "metadata": {},
     "output_type": "execute_result"
    }
   ],
   "source": [
    "ridge.coef_"
   ]
  },
  {
   "cell_type": "code",
   "execution_count": 16,
   "metadata": {
    "ExecuteTime": {
     "end_time": "2019-10-06T18:44:16.172778Z",
     "start_time": "2019-10-06T18:44:16.165797Z"
    },
    "hidden": true
   },
   "outputs": [
    {
     "data": {
      "text/plain": [
       "array([-2.47178599e+00,  6.52678385e-01,  1.28774788e+01, -1.55974818e+00,\n",
       "        5.02010975e+00, -1.34083191e+01,  7.61273738e+00, -5.79933218e+00,\n",
       "       -1.62910896e+01, -2.09674226e-01, -1.39768263e+01, -1.05594751e+01,\n",
       "        1.71944965e+00, -1.86741084e+00, -5.14150848e+00, -2.15562861e+01,\n",
       "        6.28971821e+00, -2.76248468e+00,  4.05737389e+00,  1.55138211e+01,\n",
       "       -7.66799208e-01,  7.39464833e+00,  2.70623714e+00,  1.71891609e+01,\n",
       "        3.22902406e+00,  1.16294830e+00, -5.47883191e+00,  5.32188085e-01,\n",
       "       -3.31800024e+00, -2.46140145e+00,  7.98062004e+00, -3.31346071e+00,\n",
       "        9.31913438e+00, -1.01051438e+01, -1.50694998e+01,  9.59239058e+00,\n",
       "        1.20605002e+01, -1.07999610e+00, -1.52079788e+00, -1.52629035e+01,\n",
       "        1.02206507e+01, -5.45774762e+00, -5.68398040e+00, -3.61589273e+00,\n",
       "       -1.20664536e+01, -2.59703445e+01,  2.09576200e-03,  6.53974022e+00,\n",
       "        5.77976121e+00,  2.73154542e+00])"
      ]
     },
     "execution_count": 16,
     "metadata": {},
     "output_type": "execute_result"
    }
   ],
   "source": [
    "ridge.predict(X_test)"
   ]
  },
  {
   "cell_type": "code",
   "execution_count": 17,
   "metadata": {
    "ExecuteTime": {
     "end_time": "2019-10-06T18:44:18.600705Z",
     "start_time": "2019-10-06T18:44:18.597727Z"
    },
    "hidden": true
   },
   "outputs": [],
   "source": [
    "loss_ridge_test=np.linalg.norm(ridge.predict(X_test)-y_test)"
   ]
  },
  {
   "cell_type": "code",
   "execution_count": 18,
   "metadata": {
    "ExecuteTime": {
     "end_time": "2019-10-06T18:44:19.853728Z",
     "start_time": "2019-10-06T18:44:19.846711Z"
    },
    "hidden": true
   },
   "outputs": [
    {
     "data": {
      "text/plain": [
       "4.026676001372937"
      ]
     },
     "execution_count": 18,
     "metadata": {},
     "output_type": "execute_result"
    }
   ],
   "source": [
    "loss_ridge_test"
   ]
  },
  {
   "cell_type": "markdown",
   "metadata": {},
   "source": [
    "# Lasso Regression(Shooting Algorithm)"
   ]
  },
  {
   "cell_type": "code",
   "execution_count": 19,
   "metadata": {
    "ExecuteTime": {
     "end_time": "2019-10-06T18:44:28.939962Z",
     "start_time": "2019-10-06T18:44:28.937004Z"
    }
   },
   "outputs": [],
   "source": [
    "import time"
   ]
  },
  {
   "cell_type": "code",
   "execution_count": 29,
   "metadata": {
    "ExecuteTime": {
     "end_time": "2019-10-06T18:51:35.072954Z",
     "start_time": "2019-10-06T18:51:35.066941Z"
    }
   },
   "outputs": [],
   "source": [
    "def soft(a,delta):\n",
    "    sign_a = np.sign(a)\n",
    "    if np.abs(a)-delta <0:\n",
    "        return 0 \n",
    "    else:\n",
    "        return sign_a*(abs(a)-delta)"
   ]
  },
  {
   "cell_type": "code",
   "execution_count": 42,
   "metadata": {
    "ExecuteTime": {
     "end_time": "2019-10-06T19:09:20.975889Z",
     "start_time": "2019-10-06T19:09:20.963930Z"
    }
   },
   "outputs": [],
   "source": [
    "def Lasso_reg(X,Y,lambda_,max_iteration=1000,threshold=1e-5):\n",
    "    start_time=time.time()\n",
    "    #initialize W, the parameter\n",
    "    num_instance,dimension=X.shape\n",
    "    init_w=np.linalg.inv((np.dot(X.T,X)+lambda_*np.identity(dimension))).dot(X.T).dot(Y)\n",
    "    converge=False\n",
    "    a=np.zeros(dimension)\n",
    "    c=np.zeros(dimension)\n",
    "    w_list=[]\n",
    "    count=0\n",
    "    w_list.append(init_w)\n",
    "    \n",
    "    while (converge==False) and (count<=max_iteration):\n",
    "        w=w_list[count].copy()\n",
    "        \n",
    "        for j in range(dimension):\n",
    "            temp1=0\n",
    "            temp2=0\n",
    "            for i in range(num_instance):\n",
    "                temp1+=X[i,j]**2\n",
    "                temp2+=X[i,j]*(Y[i]-np.dot(w.T,X[i,:])+w[j]*X[i,j])\n",
    "                \n",
    "            a[j]=2*temp1\n",
    "            c[j]=2*temp2\n",
    "            if a[j]!=0:\n",
    "                w[j]=soft(c[j]/a[j],lambda_/a[j])\n",
    "            else:\n",
    "                w[j]=0\n",
    "        w_list.append(w)\n",
    "        converge=(np.linalg.norm(w_list[count+1]-w_list[count])<=threshold)\n",
    "        diff=np.linalg.norm(w_list[count+1]-w_list[count])\n",
    "       # print('differece: {}'.format(np.linalg.norm(w_list[count+1]-w_list[count])))\n",
    "        count+=1\n",
    "    run_time = time.time()-start_time\n",
    "    #print('lambda: {}'.format(lambda_)+' '+ 'w: {}'.format(w_list[len(w_list)-1])+\"\\n\"+'a: {}'.format(a)+ '\\n '+ 'c: {}'.format(c))\n",
    "    \n",
    "    return w_list[len(w_list)-1],run_time,count,diff"
   ]
  },
  {
   "cell_type": "code",
   "execution_count": 43,
   "metadata": {
    "ExecuteTime": {
     "end_time": "2019-10-06T19:09:39.984378Z",
     "start_time": "2019-10-06T19:09:23.145359Z"
    }
   },
   "outputs": [
    {
     "data": {
      "text/plain": [
       "(array([ 9.88483960e+00, -9.78937809e+00, -9.77615311e+00,  9.84754528e+00,\n",
       "        -9.85378018e+00,  9.81553607e+00, -9.85846890e+00,  9.49397562e+00,\n",
       "        -9.77371158e+00,  9.73098906e+00,  2.63248949e-01,  1.86833102e-02,\n",
       "        -1.28294951e-01, -2.05369580e-02,  5.60309999e-02, -9.96630045e-02,\n",
       "         2.69450208e-01,  2.46260772e-01,  3.13995607e-01, -1.11213618e-01,\n",
       "        -3.00025662e-02, -2.01173084e-01,  8.16041659e-02, -1.89462523e-01,\n",
       "         2.56252071e-01,  1.44717357e-01,  1.06455524e-01,  1.81280189e-01,\n",
       "         1.28104678e-01,  2.83593800e-02,  3.00673513e-02, -2.21576421e-02,\n",
       "        -2.93793419e-01,  1.36130309e-01,  1.43982350e-02, -6.40254421e-02,\n",
       "        -2.74635233e-02,  5.95199842e-02,  5.04486535e-02, -1.67124898e-01,\n",
       "         1.73140367e-02,  9.57057109e-02, -1.16354754e-01, -2.21701803e-03,\n",
       "        -7.23398045e-02, -3.35055583e-01,  1.19271788e-01, -8.28683905e-02,\n",
       "        -5.89442662e-02,  5.58291678e-02, -2.70444005e-01,  1.39080867e-01,\n",
       "         3.12765333e-01,  2.86021136e-01,  2.65537258e-01,  5.81591425e-02,\n",
       "         1.99114551e-01, -2.48126604e-01,  1.43731796e-01,  1.71575372e-01,\n",
       "         4.78069211e-02, -2.66851681e-01, -2.01395414e-01, -2.94902132e-02,\n",
       "         1.05699269e-01,  1.81915138e-01, -1.35807555e-01,  8.12459946e-02,\n",
       "        -1.37568753e-02,  5.24078494e-02,  5.44700111e-02, -3.37449028e-01,\n",
       "        -7.49968988e-02, -1.47737847e-01, -2.20595557e-01]),\n",
       " 16.832996368408203,\n",
       " 1001,\n",
       " 0.000740345390649486)"
      ]
     },
     "execution_count": 43,
     "metadata": {},
     "output_type": "execute_result"
    }
   ],
   "source": [
    "Lasso_reg(X_train,y_train,lambda_=1e-2,max_iteration=1000,threshold=1e-5)"
   ]
  },
  {
   "cell_type": "markdown",
   "metadata": {},
   "source": [
    "**Sparsity**"
   ]
  },
  {
   "cell_type": "code",
   "execution_count": 46,
   "metadata": {
    "ExecuteTime": {
     "end_time": "2019-10-06T19:24:11.857562Z",
     "start_time": "2019-10-06T19:24:05.760864Z"
    }
   },
   "outputs": [
    {
     "data": {
      "text/plain": [
       "(array([ 9.76140862e+00, -9.23379110e+00, -9.34827186e+00,  9.39907542e+00,\n",
       "        -9.73195868e+00,  9.68412401e+00, -9.43084236e+00,  9.34508841e+00,\n",
       "        -9.54977978e+00,  9.22101065e+00,  3.00964104e-02,  0.00000000e+00,\n",
       "         4.00909092e-02,  0.00000000e+00,  0.00000000e+00,  0.00000000e+00,\n",
       "         0.00000000e+00,  0.00000000e+00,  0.00000000e+00,  0.00000000e+00,\n",
       "         1.88218044e-02,  0.00000000e+00,  0.00000000e+00,  0.00000000e+00,\n",
       "         0.00000000e+00,  0.00000000e+00,  0.00000000e+00,  0.00000000e+00,\n",
       "         0.00000000e+00,  7.81989932e-02,  1.57787935e-02,  0.00000000e+00,\n",
       "         0.00000000e+00,  0.00000000e+00,  0.00000000e+00,  0.00000000e+00,\n",
       "         0.00000000e+00,  0.00000000e+00,  0.00000000e+00,  0.00000000e+00,\n",
       "         0.00000000e+00,  5.69007908e-02,  0.00000000e+00,  0.00000000e+00,\n",
       "         0.00000000e+00,  0.00000000e+00,  0.00000000e+00,  3.98760957e-03,\n",
       "         0.00000000e+00,  0.00000000e+00,  0.00000000e+00,  0.00000000e+00,\n",
       "         0.00000000e+00,  0.00000000e+00,  0.00000000e+00,  0.00000000e+00,\n",
       "         0.00000000e+00,  0.00000000e+00,  0.00000000e+00,  4.65739352e-03,\n",
       "         0.00000000e+00,  0.00000000e+00,  0.00000000e+00,  0.00000000e+00,\n",
       "         0.00000000e+00,  0.00000000e+00,  0.00000000e+00,  0.00000000e+00,\n",
       "         0.00000000e+00,  0.00000000e+00,  0.00000000e+00,  0.00000000e+00,\n",
       "         1.01194693e-01,  0.00000000e+00,  0.00000000e+00]),\n",
       " 6.0907158851623535,\n",
       " 385,\n",
       " 9.527672085791685e-06)"
      ]
     },
     "execution_count": 46,
     "metadata": {},
     "output_type": "execute_result"
    }
   ],
   "source": [
    "Lasso_reg(X_train,y_train,lambda_=3,max_iteration=1000,threshold=1e-5)"
   ]
  },
  {
   "cell_type": "code",
   "execution_count": 47,
   "metadata": {
    "ExecuteTime": {
     "end_time": "2019-10-06T19:29:58.307396Z",
     "start_time": "2019-10-06T19:28:33.875339Z"
    }
   },
   "outputs": [],
   "source": [
    "lambda_list_lasso=[10**i for i in range(-5,6)]\n",
    "diff_list=[]\n",
    "w_list_list=[]\n",
    "for lambda_lasso in lambda_list_lasso:\n",
    "    w_list,run_time,count,diff=Lasso_reg(X_train,y_train,lambda_lasso,max_iteration=1000,threshold=1e-5)\n",
    "    diff_list.append(diff)\n",
    "    w_list_list.append(w_list)"
   ]
  },
  {
   "cell_type": "code",
   "execution_count": 50,
   "metadata": {
    "ExecuteTime": {
     "end_time": "2019-10-06T19:30:31.721316Z",
     "start_time": "2019-10-06T19:30:31.507099Z"
    }
   },
   "outputs": [
    {
     "data": {
      "image/png": "[encoded data removed]",
      "text/plain": [
       "<Figure size 432x288 with 1 Axes>"
      ]
     },
     "metadata": {
      "needs_background": "light"
     },
     "output_type": "display_data"
    }
   ],
   "source": [
    "show_fig(lambda_list_lasso,diff_list)"
   ]
  },
  {
   "cell_type": "code",
   "execution_count": 51,
   "metadata": {
    "ExecuteTime": {
     "end_time": "2019-10-06T19:34:47.082726Z",
     "start_time": "2019-10-06T19:32:23.928400Z"
    }
   },
   "outputs": [],
   "source": [
    "lambda_list_lasso2=np.arange(0.1,1,0.1)\n",
    "diff_list2=[]\n",
    "w_list_list2=[]\n",
    "for lambda_lasso in lambda_list_lasso2:\n",
    "    w_list,run_time,count,diff=Lasso_reg(X_train,y_train,lambda_lasso,max_iteration=1000,threshold=1e-5)\n",
    "    diff_list2.append(diff)\n",
    "    w_list_list2.append(w_list)"
   ]
  },
  {
   "cell_type": "code",
   "execution_count": 52,
   "metadata": {
    "ExecuteTime": {
     "end_time": "2019-10-06T19:34:51.558633Z",
     "start_time": "2019-10-06T19:34:51.432223Z"
    }
   },
   "outputs": [
    {
     "data": {
      "image/png": "[encoded data removed]",
      "text/plain": [
       "<Figure size 432x288 with 1 Axes>"
      ]
     },
     "metadata": {
      "needs_background": "light"
     },
     "output_type": "display_data"
    }
   ],
   "source": [
    "plt.plot(lambda_list_lasso2,diff_list2)\n",
    "plt.title('Lasso Regresson2')\n",
    "plt.show()"
   ]
  },
  {
   "cell_type": "code",
   "execution_count": 53,
   "metadata": {
    "ExecuteTime": {
     "end_time": "2019-10-06T19:37:59.707670Z",
     "start_time": "2019-10-06T19:37:59.703680Z"
    }
   },
   "outputs": [],
   "source": [
    "index_min=np.argmin(diff_list2)\n",
    "theta_min_lasso=w_list_list2[index_min]"
   ]
  },
  {
   "cell_type": "code",
   "execution_count": 54,
   "metadata": {
    "ExecuteTime": {
     "end_time": "2019-10-06T19:38:01.835797Z",
     "start_time": "2019-10-06T19:38:01.830809Z"
    }
   },
   "outputs": [],
   "source": [
    "def predict_lasso(X,theta_min):\n",
    "    prediction=np.dot(X,theta_min)\n",
    "    return prediction"
   ]
  },
  {
   "cell_type": "code",
   "execution_count": 56,
   "metadata": {
    "ExecuteTime": {
     "end_time": "2019-10-06T19:38:53.611705Z",
     "start_time": "2019-10-06T19:38:53.605749Z"
    }
   },
   "outputs": [],
   "source": [
    "prediction_lasso=predict_lasso(X_test,theta_min_lasso)"
   ]
  },
  {
   "cell_type": "code",
   "execution_count": 58,
   "metadata": {
    "ExecuteTime": {
     "end_time": "2019-10-06T19:39:21.720878Z",
     "start_time": "2019-10-06T19:39:21.716890Z"
    }
   },
   "outputs": [],
   "source": [
    "loss_lasso=np.linalg.norm(y_test-prediction_lasso)"
   ]
  },
  {
   "cell_type": "code",
   "execution_count": 59,
   "metadata": {
    "ExecuteTime": {
     "end_time": "2019-10-06T19:39:29.338865Z",
     "start_time": "2019-10-06T19:39:29.333843Z"
    }
   },
   "outputs": [
    {
     "data": {
      "text/plain": [
       "2.45314717472669"
      ]
     },
     "execution_count": 59,
     "metadata": {},
     "output_type": "execute_result"
    }
   ],
   "source": [
    "loss_lasso"
   ]
  },
  {
   "cell_type": "markdown",
   "metadata": {},
   "source": [
    "# Homotopy Method"
   ]
  },
  {
   "cell_type": "code",
   "execution_count": 66,
   "metadata": {
    "ExecuteTime": {
     "end_time": "2019-10-06T20:01:29.451227Z",
     "start_time": "2019-10-06T20:01:29.435293Z"
    }
   },
   "outputs": [],
   "source": [
    "def homotopy(X,Y,max_iteration=1000,threshold=1e-5):\n",
    "    start_time=time.time()\n",
    "    #initialize W, the parameter\n",
    "    num_instance,dimension=X.shape\n",
    "    lambda_init=np.max(np.abs(np.dot(X.T,Y)))\n",
    "    init_w=np.zeros((dimension,1))\n",
    "    #np.linalg.inv((np.dot(X.T,X)+lambda_*np.identity(dimension))).dot(X.T).dot(Y)\n",
    "    converge=False\n",
    "    a=np.zeros(dimension)\n",
    "    c=np.zeros(dimension)\n",
    "    w_list=[]\n",
    "    lambda_list=[]\n",
    "    count=0\n",
    "    w_list.append(init_w)\n",
    "    lambda_list.append(lambda_init)\n",
    "    while (converge==False) and (count<=max_iteration):\n",
    "        w=w_list[count].copy()\n",
    "        lambda_=lambda_list[count].copy()\n",
    "        for j in range(dimension):\n",
    "            temp1=0\n",
    "            temp2=0\n",
    "            for i in range(num_instance):\n",
    "                temp1+=X[i,j]**2\n",
    "                temp2+=X[i,j]*(Y[i]-np.dot(w.T,X[i,:])+w[j]*X[i,j])\n",
    "                \n",
    "            a[j]=2*temp1\n",
    "            c[j]=2*temp2\n",
    "            if a[j]!=0:\n",
    "                w[j]=soft(c[j]/a[j],lambda_/a[j])\n",
    "            else:\n",
    "                w[j]=0\n",
    "        lambda_/=2\n",
    "        w_list.append(w)\n",
    "        lambda_list.append(lambda_)\n",
    "        converge=(np.linalg.norm(w_list[count+1]-w_list[count])<=threshold)\n",
    "        diff=np.linalg.norm(w_list[count+1]-w_list[count])\n",
    "        count+=1\n",
    "    run_time = time.time()-start_time\n",
    "    #print('lambda: {}'.format(lambda_)+' '+ 'w: {}'.format(w_list[len(w_list)-1])+\"\\n\"+'a: {}'.format(a)+ '\\n '+ 'c: {}'.format(c))\n",
    "    \n",
    "    return w_list[len(w_list)-1],run_time,count,diff,lambda_list"
   ]
  },
  {
   "cell_type": "code",
   "execution_count": 67,
   "metadata": {
    "ExecuteTime": {
     "end_time": "2019-10-06T20:02:21.288562Z",
     "start_time": "2019-10-06T20:01:31.424859Z"
    }
   },
   "outputs": [],
   "source": [
    "w,run_time,count,diff,lambda_list=homotopy(X_train,y_train,max_iteration=1000,threshold=1e-5)"
   ]
  },
  {
   "cell_type": "code",
   "execution_count": 68,
   "metadata": {
    "ExecuteTime": {
     "end_time": "2019-10-06T20:05:38.191060Z",
     "start_time": "2019-10-06T20:05:38.185119Z"
    }
   },
   "outputs": [
    {
     "data": {
      "text/plain": [
       "array([[ 9.82346104e+00],\n",
       "       [-9.84590879e+00],\n",
       "       [-9.85277061e+00],\n",
       "       [ 9.78895646e+00],\n",
       "       [-9.73804356e+00],\n",
       "       [ 9.79452631e+00],\n",
       "       [-9.83046504e+00],\n",
       "       [ 9.44531132e+00],\n",
       "       [-9.77328584e+00],\n",
       "       [ 9.88676121e+00],\n",
       "       [ 3.53506732e-01],\n",
       "       [ 1.38504818e-01],\n",
       "       [-1.90160695e-01],\n",
       "       [-1.70851629e-01],\n",
       "       [ 1.17856804e-01],\n",
       "       [-9.84329357e-02],\n",
       "       [ 3.13194282e-01],\n",
       "       [ 3.00277848e-01],\n",
       "       [ 4.37039708e-01],\n",
       "       [-2.41734135e-01],\n",
       "       [-9.05391049e-02],\n",
       "       [-2.97030940e-01],\n",
       "       [ 1.56532081e-01],\n",
       "       [-2.58148935e-01],\n",
       "       [ 2.57724089e-01],\n",
       "       [ 1.02021650e-01],\n",
       "       [ 2.91580629e-01],\n",
       "       [ 1.24184295e-01],\n",
       "       [ 1.65703607e-01],\n",
       "       [ 4.35605786e-02],\n",
       "       [-2.44886020e-02],\n",
       "       [-4.48371647e-02],\n",
       "       [-3.42523983e-01],\n",
       "       [ 2.37034056e-01],\n",
       "       [-5.62396674e-02],\n",
       "       [ 8.34637847e-02],\n",
       "       [ 8.90726769e-03],\n",
       "       [ 1.85188206e-01],\n",
       "       [ 9.92931635e-02],\n",
       "       [-3.28630132e-01],\n",
       "       [-2.54239473e-02],\n",
       "       [ 8.47515926e-02],\n",
       "       [-1.32224898e-01],\n",
       "       [-6.28858101e-02],\n",
       "       [-1.01194977e-02],\n",
       "       [-4.74886646e-01],\n",
       "       [ 1.66240885e-01],\n",
       "       [-5.74104185e-02],\n",
       "       [-1.30751075e-01],\n",
       "       [ 5.49709129e-02],\n",
       "       [-4.39876916e-01],\n",
       "       [ 1.23413999e-01],\n",
       "       [ 4.16493439e-01],\n",
       "       [ 3.91306377e-01],\n",
       "       [ 4.44548039e-01],\n",
       "       [ 3.23360059e-02],\n",
       "       [ 4.41274499e-01],\n",
       "       [-3.41975508e-01],\n",
       "       [ 2.97240400e-01],\n",
       "       [ 2.89497207e-01],\n",
       "       [ 6.60789807e-02],\n",
       "       [-6.13580766e-01],\n",
       "       [-2.74074718e-01],\n",
       "       [-1.37449818e-02],\n",
       "       [ 2.22961554e-01],\n",
       "       [ 2.40425485e-01],\n",
       "       [-2.76741359e-01],\n",
       "       [ 6.63931352e-02],\n",
       "       [ 8.34060261e-03],\n",
       "       [ 3.26623326e-02],\n",
       "       [ 1.19302512e-01],\n",
       "       [-4.75411410e-01],\n",
       "       [-1.53781835e-01],\n",
       "       [-1.24774140e-01],\n",
       "       [-3.94002895e-01]])"
      ]
     },
     "execution_count": 68,
     "metadata": {},
     "output_type": "execute_result"
    }
   ],
   "source": [
    "w"
   ]
  },
  {
   "cell_type": "code",
   "execution_count": 69,
   "metadata": {
    "ExecuteTime": {
     "end_time": "2019-10-06T20:05:45.332757Z",
     "start_time": "2019-10-06T20:05:45.323782Z"
    }
   },
   "outputs": [
    {
     "name": "stdout",
     "output_type": "stream",
     "text": [
      "run_time: 49.85776090621948\n",
      "count: 1001\n",
      "diff: 0.0008476072407860893\n",
      "lambda_list: [148.12321714486916, 74.06160857243458, 37.03080428621729, 18.515402143108645, 9.257701071554322, 4.628850535777161, 2.3144252678885806, 1.1572126339442903, 0.5786063169721452, 0.2893031584860726, 0.1446515792430363, 0.07232578962151814, 0.03616289481075907, 0.018081447405379536, 0.009040723702689768, 0.004520361851344884, 0.002260180925672442, 0.001130090462836221, 0.0005650452314181105, 0.00028252261570905525, 0.00014126130785452762, 7.063065392726381e-05, 3.5315326963631906e-05, 1.7657663481815953e-05, 8.828831740907977e-06, 4.414415870453988e-06, 2.207207935226994e-06, 1.103603967613497e-06, 5.518019838067485e-07, 2.7590099190337427e-07, 1.3795049595168713e-07, 6.897524797584357e-08, 3.4487623987921783e-08, 1.7243811993960892e-08, 8.621905996980446e-09, 4.310952998490223e-09, 2.1554764992451115e-09, 1.0777382496225557e-09, 5.388691248112779e-10, 2.6943456240563893e-10, 1.3471728120281947e-10, 6.735864060140973e-11, 3.3679320300704867e-11, 1.6839660150352433e-11, 8.419830075176217e-12, 4.209915037588108e-12, 2.104957518794054e-12, 1.052478759397027e-12, 5.262393796985135e-13, 2.6311968984925677e-13, 1.3155984492462839e-13, 6.577992246231419e-14, 3.2889961231157096e-14, 1.6444980615578548e-14, 8.222490307789274e-15, 4.111245153894637e-15, 2.0556225769473185e-15, 1.0278112884736593e-15, 5.139056442368296e-16, 2.569528221184148e-16, 1.284764110592074e-16, 6.42382055296037e-17, 3.211910276480185e-17, 1.6059551382400926e-17, 8.029775691200463e-18, 4.0148878456002315e-18, 2.0074439228001157e-18, 1.0037219614000579e-18, 5.018609807000289e-19, 2.5093049035001447e-19, 1.2546524517500723e-19, 6.273262258750362e-20, 3.136631129375181e-20, 1.5683155646875904e-20, 7.841577823437952e-21, 3.920788911718976e-21, 1.960394455859488e-21, 9.80197227929744e-22, 4.90098613964872e-22, 2.45049306982436e-22, 1.22524653491218e-22, 6.1262326745609e-23, 3.06311633728045e-23, 1.531558168640225e-23, 7.657790843201125e-24, 3.8288954216005626e-24, 1.9144477108002813e-24, 9.572238554001406e-25, 4.786119277000703e-25, 2.3930596385003516e-25, 1.1965298192501758e-25, 5.982649096250879e-26, 2.9913245481254395e-26, 1.4956622740627197e-26, 7.478311370313599e-27, 3.7391556851567994e-27, 1.8695778425783997e-27, 9.347889212891998e-28, 4.673944606445999e-28, 2.3369723032229996e-28, 1.1684861516114998e-28, 5.842430758057499e-29, 2.9212153790287495e-29, 1.4606076895143748e-29, 7.303038447571874e-30, 3.651519223785937e-30, 1.8257596118929684e-30, 9.128798059464842e-31, 4.564399029732421e-31, 2.2821995148662106e-31, 1.1410997574331053e-31, 5.705498787165526e-32, 2.852749393582763e-32, 1.4263746967913816e-32, 7.131873483956908e-33, 3.565936741978454e-33, 1.782968370989227e-33, 8.914841854946135e-34, 4.4574209274730675e-34, 2.2287104637365337e-34, 1.1143552318682669e-34, 5.571776159341334e-35, 2.785888079670667e-35, 1.3929440398353336e-35, 6.964720199176668e-36, 3.482360099588334e-36, 1.741180049794167e-36, 8.705900248970835e-37, 4.3529501244854175e-37, 2.1764750622427087e-37, 1.0882375311213544e-37, 5.441187655606772e-38, 2.720593827803386e-38, 1.360296913901693e-38, 6.801484569508465e-39, 3.4007422847542324e-39, 1.7003711423771162e-39, 8.501855711885581e-40, 4.2509278559427905e-40, 2.1254639279713952e-40, 1.0627319639856976e-40, 5.313659819928488e-41, 2.656829909964244e-41, 1.328414954982122e-41, 6.64207477491061e-42, 3.321037387455305e-42, 1.6605186937276525e-42, 8.302593468638263e-43, 4.151296734319131e-43, 2.0756483671595657e-43, 1.0378241835797828e-43, 5.189120917898914e-44, 2.594560458949457e-44, 1.2972802294747285e-44, 6.486401147373643e-45, 3.2432005736868214e-45, 1.6216002868434107e-45, 8.108001434217053e-46, 4.054000717108527e-46, 2.0270003585542634e-46, 1.0135001792771317e-46, 5.067500896385658e-47, 2.533750448192829e-47, 1.2668752240964146e-47, 6.334376120482073e-48, 3.1671880602410365e-48, 1.5835940301205182e-48, 7.917970150602591e-49, 3.9589850753012956e-49, 1.9794925376506478e-49, 9.897462688253239e-50, 4.9487313441266195e-50, 2.4743656720633098e-50, 1.2371828360316549e-50, 6.185914180158274e-51, 3.092957090079137e-51, 1.5464785450395686e-51, 7.732392725197843e-52, 3.8661963625989215e-52, 1.9330981812994607e-52, 9.665490906497304e-53, 4.832745453248652e-53, 2.416372726624326e-53, 1.208186363312163e-53, 6.040931816560815e-54, 3.0204659082804074e-54, 1.5102329541402037e-54, 7.551164770701019e-55, 3.775582385350509e-55, 1.8877911926752546e-55, 9.438955963376273e-56, 4.719477981688137e-56, 2.3597389908440683e-56, 1.1798694954220341e-56, 5.899347477110171e-57, 2.9496737385550854e-57, 1.4748368692775427e-57, 7.374184346387713e-58, 3.687092173193857e-58, 1.8435460865969284e-58, 9.217730432984642e-59, 4.608865216492321e-59, 2.3044326082461604e-59, 1.1522163041230802e-59, 5.761081520615401e-60, 2.8805407603077006e-60, 1.4402703801538503e-60, 7.201351900769251e-61, 3.600675950384626e-61, 1.800337975192313e-61, 9.001689875961564e-62, 4.500844937980782e-62, 2.250422468990391e-62, 1.1252112344951955e-62, 5.626056172475978e-63, 2.813028086237989e-63, 1.4065140431189944e-63, 7.032570215594972e-64, 3.516285107797486e-64, 1.758142553898743e-64, 8.790712769493715e-65, 4.3953563847468575e-65, 2.1976781923734288e-65, 1.0988390961867144e-65, 5.494195480933572e-66, 2.747097740466786e-66, 1.373548870233393e-66, 6.867744351166965e-67, 3.4338721755834824e-67, 1.7169360877917412e-67, 8.584680438958706e-68, 4.292340219479353e-68, 2.1461701097396765e-68, 1.0730850548698383e-68, 5.365425274349191e-69, 2.6827126371745957e-69, 1.3413563185872978e-69, 6.706781592936489e-70, 3.3533907964682446e-70, 1.6766953982341223e-70, 8.383476991170611e-71, 4.191738495585306e-71, 2.095869247792653e-71, 1.0479346238963264e-71, 5.239673119481632e-72, 2.619836559740816e-72, 1.309918279870408e-72, 6.54959139935204e-73, 3.27479569967602e-73, 1.63739784983801e-73, 8.18698924919005e-74, 4.093494624595025e-74, 2.0467473122975126e-74, 1.0233736561487563e-74, 5.116868280743781e-75, 2.5584341403718907e-75, 1.2792170701859454e-75, 6.396085350929727e-76, 3.1980426754648634e-76, 1.5990213377324317e-76, 7.995106688662158e-77, 3.997553344331079e-77, 1.9987766721655396e-77, 9.993883360827698e-78, 4.996941680413849e-78, 2.4984708402069245e-78, 1.2492354201034623e-78, 6.246177100517311e-79, 3.1230885502586556e-79, 1.5615442751293278e-79, 7.807721375646639e-80, 3.9038606878233196e-80, 1.9519303439116598e-80, 9.759651719558299e-81, 4.879825859779149e-81, 2.4399129298895747e-81, 1.2199564649447874e-81, 6.099782324723937e-82, 3.0498911623619684e-82, 1.5249455811809842e-82, 7.624727905904921e-83, 3.8123639529524605e-83, 1.9061819764762302e-83, 9.530909882381151e-84, 4.765454941190576e-84, 2.382727470595288e-84, 1.191363735297644e-84, 5.95681867648822e-85, 2.97840933824411e-85, 1.489204669122055e-85, 7.446023345610274e-86, 3.723011672805137e-86, 1.8615058364025686e-86, 9.307529182012843e-87, 4.6537645910064215e-87, 2.3268822955032108e-87, 1.1634411477516054e-87, 5.817205738758027e-88, 2.9086028693790134e-88, 1.4543014346895067e-88, 7.271507173447534e-89, 3.635753586723767e-89, 1.8178767933618834e-89, 9.089383966809417e-90, 4.5446919834047085e-90, 2.2723459917023543e-90, 1.1361729958511771e-90, 5.680864979255886e-91, 2.840432489627943e-91, 1.4202162448139714e-91, 7.101081224069857e-92, 3.5505406120349285e-92, 1.7752703060174643e-92, 8.876351530087321e-93, 4.438175765043661e-93, 2.2190878825218303e-93, 1.1095439412609152e-93, 5.547719706304576e-94, 2.773859853152288e-94, 1.386929926576144e-94, 6.93464963288072e-95, 3.46732481644036e-95, 1.73366240822018e-95, 8.6683120411009e-96, 4.33415602055045e-96, 2.167078010275225e-96, 1.0835390051376125e-96, 5.417695025688062e-97, 2.708847512844031e-97, 1.3544237564220156e-97, 6.772118782110078e-98, 3.386059391055039e-98, 1.6930296955275195e-98, 8.465148477637597e-99, 4.232574238818799e-99, 2.1162871194093993e-99, 1.0581435597046997e-99, 5.290717798523498e-100, 2.645358899261749e-100, 1.3226794496308746e-100, 6.613397248154373e-101, 3.3066986240771865e-101, 1.6533493120385932e-101, 8.266746560192966e-102, 4.133373280096483e-102, 2.0666866400482415e-102, 1.0333433200241208e-102, 5.166716600120604e-103, 2.583358300060302e-103, 1.291679150030151e-103, 6.458395750150755e-104, 3.2291978750753774e-104, 1.6145989375376887e-104, 8.072994687688444e-105, 4.036497343844222e-105, 2.018248671922111e-105, 1.0091243359610554e-105, 5.045621679805277e-106, 2.5228108399026386e-106, 1.2614054199513193e-106, 6.307027099756597e-107, 3.153513549878298e-107, 1.576756774939149e-107, 7.883783874695746e-108, 3.941891937347873e-108, 1.9709459686739364e-108, 9.854729843369682e-109, 4.927364921684841e-109, 2.4636824608424205e-109, 1.2318412304212103e-109, 6.159206152106051e-110, 3.0796030760530256e-110, 1.5398015380265128e-110, 7.699007690132564e-111, 3.849503845066282e-111, 1.924751922533141e-111, 9.623759612665705e-112, 4.811879806332853e-112, 2.4059399031664263e-112, 1.2029699515832131e-112, 6.014849757916066e-113, 3.007424878958033e-113, 1.5037124394790164e-113, 7.518562197395082e-114, 3.759281098697541e-114, 1.8796405493487705e-114, 9.398202746743853e-115, 4.699101373371926e-115, 2.349550686685963e-115, 1.1747753433429816e-115, 5.873876716714908e-116, 2.936938358357454e-116, 1.468469179178727e-116, 7.342345895893635e-117, 3.6711729479468174e-117, 1.8355864739734087e-117, 9.177932369867044e-118, 4.588966184933522e-118, 2.294483092466761e-118, 1.1472415462333805e-118, 5.736207731166902e-119, 2.868103865583451e-119, 1.4340519327917256e-119, 7.170259663958628e-120, 3.585129831979314e-120, 1.792564915989657e-120, 8.962824579948285e-121, 4.481412289974142e-121, 2.240706144987071e-121, 1.1203530724935356e-121, 5.601765362467678e-122, 2.800882681233839e-122, 1.4004413406169195e-122, 7.002206703084597e-123, 3.501103351542299e-123, 1.7505516757711494e-123, 8.752758378855747e-124, 4.3763791894278734e-124, 2.1881895947139367e-124, 1.0940947973569684e-124, 5.470473986784842e-125, 2.735236993392421e-125, 1.3676184966962104e-125, 6.838092483481052e-126, 3.419046241740526e-126, 1.709523120870263e-126, 8.547615604351315e-127, 4.273807802175658e-127, 2.136903901087829e-127, 1.0684519505439144e-127, 5.342259752719572e-128, 2.671129876359786e-128, 1.335564938179893e-128, 6.677824690899465e-129, 3.3389123454497325e-129, 1.6694561727248663e-129, 8.347280863624331e-130, 4.173640431812166e-130, 2.086820215906083e-130, 1.0434101079530414e-130, 5.217050539765207e-131, 2.6085252698826035e-131, 1.3042626349413018e-131, 6.521313174706509e-132, 3.2606565873532544e-132, 1.6303282936766272e-132, 8.151641468383136e-133, 4.075820734191568e-133, 2.037910367095784e-133, 1.018955183547892e-133, 5.09477591773946e-134, 2.54738795886973e-134, 1.273693979434865e-134, 6.368469897174325e-135, 3.1842349485871625e-135, 1.5921174742935813e-135, 7.960587371467906e-136, 3.980293685733953e-136, 1.9901468428669766e-136, 9.950734214334883e-137, 4.975367107167441e-137, 2.4876835535837207e-137, 1.2438417767918604e-137, 6.219208883959302e-138, 3.109604441979651e-138, 1.5548022209898255e-138, 7.774011104949127e-139, 3.887005552474564e-139, 1.943502776237282e-139, 9.71751388118641e-140, 4.858756940593205e-140, 2.4293784702966023e-140, 1.2146892351483011e-140, 6.073446175741506e-141, 3.036723087870753e-141, 1.5183615439353764e-141, 7.591807719676882e-142, 3.795903859838441e-142, 1.8979519299192205e-142, 9.489759649596103e-143, 4.744879824798051e-143, 2.3724399123990257e-143, 1.1862199561995128e-143, 5.931099780997564e-144, 2.965549890498782e-144, 1.482774945249391e-144, 7.413874726246955e-145, 3.7069373631234776e-145, 1.8534686815617388e-145, 9.267343407808694e-146, 4.633671703904347e-146, 2.3168358519521735e-146, 1.1584179259760867e-146, 5.792089629880434e-147, 2.896044814940217e-147, 1.4480224074701084e-147, 7.240112037350542e-148, 3.620056018675271e-148, 1.8100280093376355e-148, 9.050140046688178e-149, 4.525070023344089e-149, 2.2625350116720444e-149, 1.1312675058360222e-149, 5.656337529180111e-150, 2.8281687645900555e-150, 1.4140843822950278e-150, 7.070421911475139e-151, 3.5352109557375694e-151, 1.7676054778687847e-151, 8.838027389343924e-152, 4.419013694671962e-152, 2.209506847335981e-152, 1.1047534236679904e-152, 5.523767118339952e-153, 2.761883559169976e-153, 1.380941779584988e-153, 6.90470889792494e-154, 3.45235444896247e-154, 1.726177224481235e-154, 8.630886122406175e-155, 4.315443061203088e-155, 2.157721530601544e-155, 1.078860765300772e-155, 5.39430382650386e-156, 2.69715191325193e-156, 1.348575956625965e-156, 6.742879783129824e-157, 3.371439891564912e-157, 1.685719945782456e-157, 8.42859972891228e-158, 4.21429986445614e-158, 2.10714993222807e-158, 1.053574966114035e-158, 5.267874830570175e-159, 2.6339374152850877e-159, 1.3169687076425438e-159, 6.584843538212719e-160, 3.2924217691063596e-160, 1.6462108845531798e-160, 8.231054422765899e-161, 4.1155272113829495e-161, 2.0577636056914748e-161, 1.0288818028457374e-161, 5.144409014228687e-162, 2.5722045071143434e-162, 1.2861022535571717e-162, 6.430511267785859e-163, 3.215255633892929e-163, 1.6076278169464647e-163, 8.038139084732323e-164, 4.019069542366162e-164, 2.009534771183081e-164, 1.0047673855915404e-164, 5.023836927957702e-165, 2.511918463978851e-165, 1.2559592319894255e-165, 6.279796159947128e-166, 3.139898079973564e-166, 1.569949039986782e-166, 7.84974519993391e-167, 3.924872599966955e-167, 1.9624362999834774e-167, 9.812181499917387e-168, 4.906090749958693e-168, 2.4530453749793467e-168, 1.2265226874896733e-168, 6.132613437448367e-169, 3.0663067187241834e-169, 1.5331533593620917e-169, 7.665766796810458e-170, 3.832883398405229e-170, 1.9164416992026146e-170, 9.582208496013073e-171, 4.7911042480065365e-171, 2.3955521240032683e-171, 1.1977760620016341e-171, 5.988880310008171e-172, 2.9944401550040853e-172, 1.4972200775020427e-172, 7.486100387510213e-173, 3.743050193755107e-173, 1.8715250968775533e-173, 9.357625484387767e-174, 4.678812742193883e-174, 2.3394063710969417e-174, 1.1697031855484708e-174, 5.848515927742354e-175, 2.924257963871177e-175, 1.4621289819355885e-175, 7.310644909677943e-176, 3.655322454838971e-176, 1.8276612274194857e-176, 9.138306137097428e-177, 4.569153068548714e-177, 2.284576534274357e-177, 1.1422882671371785e-177, 5.711441335685893e-178, 2.8557206678429464e-178, 1.4278603339214732e-178, 7.139301669607366e-179, 3.569650834803683e-179, 1.7848254174018415e-179, 8.924127087009207e-180, 4.462063543504604e-180, 2.231031771752302e-180, 1.115515885876151e-180, 5.577579429380755e-181, 2.7887897146903773e-181, 1.3943948573451887e-181, 6.971974286725943e-182, 3.4859871433629716e-182, 1.7429935716814858e-182, 8.714967858407429e-183, 4.3574839292037145e-183, 2.1787419646018573e-183, 1.0893709823009286e-183, 5.446854911504643e-184, 2.7234274557523216e-184, 1.3617137278761608e-184, 6.808568639380804e-185, 3.404284319690402e-185, 1.702142159845201e-185, 8.510710799226005e-186, 4.2553553996130025e-186, 2.1276776998065012e-186, 1.0638388499032506e-186, 5.319194249516253e-187, 2.6595971247581266e-187, 1.3297985623790633e-187, 6.648992811895316e-188, 3.324496405947658e-188, 1.662248202973829e-188, 8.311241014869145e-189, 4.155620507434573e-189, 2.0778102537172864e-189, 1.0389051268586432e-189, 5.194525634293216e-190, 2.597262817146608e-190, 1.298631408573304e-190, 6.49315704286652e-191, 3.24657852143326e-191, 1.62328926071663e-191, 8.11644630358315e-192, 4.058223151791575e-192, 2.0291115758957875e-192, 1.0145557879478937e-192, 5.072778939739469e-193, 2.5363894698697343e-193, 1.2681947349348672e-193, 6.340973674674336e-194, 3.170486837337168e-194, 1.585243418668584e-194, 7.92621709334292e-195, 3.96310854667146e-195, 1.98155427333573e-195, 9.90777136667865e-196, 4.953885683339325e-196, 2.4769428416696624e-196, 1.2384714208348312e-196, 6.192357104174156e-197, 3.096178552087078e-197, 1.548089276043539e-197, 7.740446380217695e-198, 3.8702231901088476e-198, 1.9351115950544238e-198, 9.675557975272119e-199, 4.837778987636059e-199, 2.4188894938180297e-199, 1.2094447469090149e-199, 6.047223734545074e-200, 3.023611867272537e-200, 1.5118059336362686e-200, 7.559029668181343e-201, 3.7795148340906714e-201, 1.8897574170453357e-201, 9.448787085226679e-202, 4.724393542613339e-202, 2.3621967713066697e-202, 1.1810983856533348e-202, 5.905491928266674e-203, 2.952745964133337e-203, 1.4763729820666685e-203, 7.381864910333343e-204, 3.690932455166671e-204, 1.8454662275833357e-204, 9.227331137916678e-205, 4.613665568958339e-205, 2.3068327844791696e-205, 1.1534163922395848e-205, 5.767081961197924e-206, 2.883540980598962e-206, 1.441770490299481e-206, 7.208852451497405e-207, 3.6044262257487025e-207, 1.8022131128743512e-207, 9.011065564371756e-208, 4.505532782185878e-208, 2.252766391092939e-208, 1.1263831955464695e-208, 5.631915977732348e-209, 2.815957988866174e-209, 1.407978994433087e-209, 7.039894972165435e-210, 3.519947486082717e-210, 1.7599737430413586e-210, 8.799868715206793e-211, 4.3999343576033966e-211, 2.1999671788016983e-211, 1.0999835894008491e-211, 5.499917947004246e-212, 2.749958973502123e-212, 1.3749794867510614e-212, 6.874897433755307e-213, 3.4374487168776536e-213, 1.7187243584388268e-213, 8.593621792194134e-214, 4.296810896097067e-214, 2.1484054480485335e-214, 1.0742027240242667e-214, 5.371013620121334e-215, 2.685506810060667e-215, 1.3427534050303334e-215, 6.713767025151667e-216, 3.3568835125758336e-216, 1.6784417562879168e-216, 8.392208781439584e-217, 4.196104390719792e-217, 2.098052195359896e-217, 1.049026097679948e-217, 5.24513048839974e-218, 2.62256524419987e-218, 1.311282622099935e-218, 6.556413110499675e-219, 3.2782065552498375e-219, 1.6391032776249187e-219, 8.195516388124594e-220, 4.097758194062297e-220, 2.0488790970311484e-220, 1.0244395485155742e-220, 5.122197742577871e-221, 2.5610988712889355e-221, 1.2805494356444678e-221, 6.402747178222339e-222, 3.2013735891111694e-222, 1.6006867945555847e-222, 8.003433972777924e-223, 4.001716986388962e-223, 2.000858493194481e-223, 1.0004292465972404e-223, 5.002146232986202e-224, 2.501073116493101e-224, 1.2505365582465505e-224, 6.252682791232753e-225, 3.1263413956163764e-225, 1.5631706978081882e-225, 7.815853489040941e-226, 3.9079267445204705e-226, 1.9539633722602352e-226, 9.769816861301176e-227, 4.884908430650588e-227, 2.442454215325294e-227, 1.221227107662647e-227, 6.106135538313235e-228, 3.0530677691566175e-228, 1.5265338845783088e-228, 7.632669422891544e-229, 3.816334711445772e-229, 1.908167355722886e-229, 9.54083677861443e-230, 4.770418389307215e-230, 2.3852091946536075e-230, 1.1926045973268037e-230, 5.963022986634019e-231, 2.9815114933170093e-231, 1.4907557466585047e-231, 7.453778733292523e-232, 3.726889366646262e-232, 1.863444683323131e-232, 9.317223416615654e-233, 4.658611708307827e-233, 2.3293058541539135e-233, 1.1646529270769568e-233, 5.823264635384784e-234, 2.911632317692392e-234, 1.455816158846196e-234, 7.27908079423098e-235, 3.63954039711549e-235, 1.819770198557745e-235, 9.098850992788725e-236, 4.549425496394362e-236, 2.274712748197181e-236, 1.1373563740985906e-236, 5.686781870492953e-237, 2.8433909352464765e-237, 1.4216954676232382e-237, 7.108477338116191e-238, 3.5542386690580956e-238, 1.7771193345290478e-238, 8.885596672645239e-239, 4.4427983363226195e-239, 2.2213991681613098e-239, 1.1106995840806549e-239, 5.553497920403274e-240, 2.776748960201637e-240, 1.3883744801008186e-240, 6.941872400504093e-241, 3.4709362002520465e-241, 1.7354681001260232e-241, 8.677340500630116e-242, 4.338670250315058e-242, 2.169335125157529e-242, 1.0846675625787645e-242, 5.423337812893823e-243, 2.7116689064469113e-243, 1.3558344532234557e-243, 6.779172266117278e-244, 3.389586133058639e-244, 1.6947930665293196e-244, 8.473965332646598e-245, 4.236982666323299e-245, 2.1184913331616495e-245, 1.0592456665808247e-245, 5.296228332904124e-246, 2.648114166452062e-246, 1.324057083226031e-246, 6.620285416130155e-247, 3.310142708065077e-247, 1.6550713540325386e-247, 8.275356770162693e-248, 4.137678385081347e-248, 2.0688391925406733e-248, 1.0344195962703367e-248, 5.172097981351683e-249, 2.5860489906758416e-249, 1.2930244953379208e-249, 6.465122476689604e-250, 3.232561238344802e-250, 1.616280619172401e-250, 8.081403095862005e-251, 4.0407015479310026e-251, 2.0203507739655013e-251, 1.0101753869827506e-251, 5.050876934913753e-252, 2.5254384674568766e-252, 1.2627192337284383e-252, 6.313596168642191e-253, 3.156798084321096e-253, 1.578399042160548e-253, 7.89199521080274e-254, 3.94599760540137e-254, 1.972998802700685e-254, 9.864994013503424e-255, 4.932497006751712e-255, 2.466248503375856e-255, 1.233124251687928e-255, 6.16562125843964e-256, 3.08281062921982e-256, 1.54140531460991e-256, 7.70702657304955e-257, 3.853513286524775e-257, 1.9267566432623875e-257, 9.633783216311938e-258, 4.816891608155969e-258, 2.4084458040779844e-258, 1.2042229020389922e-258, 6.021114510194961e-259, 3.0105572550974805e-259, 1.5052786275487403e-259, 7.526393137743701e-260, 3.763196568871851e-260, 1.8815982844359253e-260, 9.407991422179627e-261, 4.703995711089813e-261, 2.3519978555449067e-261, 1.1759989277724533e-261, 5.879994638862267e-262, 2.9399973194311333e-262, 1.4699986597155667e-262, 7.349993298577833e-263, 3.674996649288917e-263, 1.8374983246444583e-263, 9.187491623222292e-264, 4.593745811611146e-264, 2.296872905805573e-264, 1.1484364529027865e-264, 5.742182264513932e-265, 2.871091132256966e-265, 1.435545566128483e-265, 7.177727830642415e-266, 3.588863915321208e-266, 1.794431957660604e-266, 8.97215978830302e-267, 4.48607989415151e-267, 2.243039947075755e-267, 1.1215199735378774e-267, 5.607599867689387e-268, 2.8037999338446935e-268, 1.4018999669223467e-268, 7.009499834611734e-269, 3.504749917305867e-269, 1.7523749586529334e-269, 8.761874793264667e-270, 4.380937396632334e-270, 2.190468698316167e-270, 1.0952343491580834e-270, 5.476171745790417e-271, 2.7380858728952085e-271, 1.3690429364476042e-271, 6.845214682238021e-272, 3.4226073411190106e-272, 1.7113036705595053e-272, 8.556518352797527e-273, 4.278259176398763e-273, 2.1391295881993816e-273, 1.0695647940996908e-273, 5.347823970498454e-274, 2.673911985249227e-274, 1.3369559926246135e-274, 6.684779963123068e-275, 3.342389981561534e-275, 1.671194990780767e-275, 8.355974953903835e-276, 4.177987476951917e-276, 2.0889937384759586e-276, 1.0444968692379793e-276, 5.222484346189897e-277, 2.6112421730949483e-277, 1.3056210865474741e-277, 6.528105432737371e-278, 3.2640527163686854e-278, 1.6320263581843427e-278, 8.160131790921713e-279, 4.080065895460857e-279, 2.0400329477304283e-279, 1.0200164738652142e-279, 5.100082369326071e-280, 2.5500411846630354e-280, 1.2750205923315177e-280, 6.375102961657589e-281, 3.187551480828794e-281, 1.593775740414397e-281, 7.968878702071986e-282, 3.984439351035993e-282, 1.9922196755179964e-282, 9.961098377589982e-283, 4.980549188794991e-283, 2.4902745943974955e-283, 1.2451372971987478e-283, 6.225686485993739e-284, 3.1128432429968694e-284, 1.5564216214984347e-284, 7.782108107492174e-285, 3.891054053746087e-285, 1.9455270268730434e-285, 9.727635134365217e-286, 4.8638175671826085e-286, 2.4319087835913042e-286, 1.2159543917956521e-286, 6.079771958978261e-287, 3.0398859794891303e-287, 1.5199429897445652e-287, 7.599714948722826e-288, 3.799857474361413e-288, 1.8999287371807064e-288, 9.499643685903532e-289, 4.749821842951766e-289, 2.374910921475883e-289, 1.1874554607379415e-289, 5.937277303689708e-290, 2.968638651844854e-290, 1.484319325922427e-290, 7.421596629612135e-291, 3.710798314806067e-291, 1.8553991574030336e-291, 9.276995787015168e-292, 4.638497893507584e-292, 2.319248946753792e-292, 1.159624473376896e-292, 5.79812236688448e-293, 2.89906118344224e-293, 1.44953059172112e-293, 7.2476529586056e-294, 3.6238264793028e-294, 1.8119132396514e-294, 9.059566198257e-295, 4.5297830991285e-295, 2.26489154956425e-295, 1.132445774782125e-295, 5.662228873910625e-296, 2.8311144369553125e-296, 1.4155572184776563e-296, 7.077786092388281e-297, 3.538893046194141e-297, 1.7694465230970703e-297, 8.847232615485352e-298, 4.423616307742676e-298, 2.211808153871338e-298, 1.105904076935669e-298, 5.529520384678345e-299, 2.7647601923391724e-299, 1.3823800961695862e-299, 6.911900480847931e-300]\n"
     ]
    }
   ],
   "source": [
    "#print('w: {}'.format(w))\n",
    "print('run_time: {}'.format(run_time))\n",
    "print('count: {}'.format(count))\n",
    "print('diff: {}'.format(diff))\n",
    "print('lambda_list: {}'.format(lambda_list))"
   ]
  },
  {
   "cell_type": "markdown",
   "metadata": {},
   "source": [
    "# Vectorization"
   ]
  },
  {
   "cell_type": "code",
   "execution_count": 74,
   "metadata": {
    "ExecuteTime": {
     "end_time": "2019-10-06T20:45:23.398650Z",
     "start_time": "2019-10-06T20:45:23.392664Z"
    }
   },
   "outputs": [],
   "source": [
    "def soft_vect(a,delta):\n",
    "        sign_a = np.sign(a)\n",
    "        pos_part = np.abs(a)-delta\n",
    "        pos_part[pos_part<0] = 0  \n",
    "        return sign_a*pos_part"
   ]
  },
  {
   "cell_type": "code",
   "execution_count": 75,
   "metadata": {
    "ExecuteTime": {
     "end_time": "2019-10-06T20:45:24.306013Z",
     "start_time": "2019-10-06T20:45:24.293050Z"
    }
   },
   "outputs": [],
   "source": [
    "def lasso_shooting_vectorize(X,y,lambda_reg=0.1,max_steps = 1000,tolerence = 1e-5):\n",
    "    start_time = time.time()\n",
    "    n = X.shape[0]\n",
    "    d = X.shape[1]\n",
    "    #initializing theta\n",
    "    w = np.linalg.inv(X.T.dot(X)+lambda_reg*np.identity(d)).dot(X.T).dot(y) # result w dimension: d\n",
    "    steps = 0\n",
    "    converge = False\n",
    "   \n",
    "    # Instead of loop calculate a c w using matrix operation\n",
    "    # Store a c w into three d-dimension vector\n",
    "    # a can be calculated using the diagonal elements of XT.X\n",
    "    while converge==False and steps<max_steps:\n",
    "        steps+=1\n",
    "        old_w = w\n",
    "        a = 2*X.T.dot(X).diagonal()\n",
    "        # steps for calculating c\n",
    "        # duplicate y-wx d times\n",
    "        y_wx = np.tile(y-X.dot(w),(d,1))\n",
    "        # duplicate w n times\n",
    "        w_n = np.tile(w,(n,1))\n",
    "        # elementwise multiplication of w_n and x\n",
    "        wjxij =w_n*X\n",
    "        # elementwise addition \n",
    "        right = y_wx.T + wjxij\n",
    "        # return c\n",
    "        c = 2*(X.T.dot(right).diagonal())\n",
    "        w = soft_vect(a/c,lambda_reg/a)\n",
    "        convergence = np.sum(np.abs(w-old_w))<tolerence\n",
    "        run_time = time.time()-start_time\n",
    "    print('lambda:',lambda_reg,'run_time:',run_time,'steps_taken:',steps)\n",
    "    return w"
   ]
  },
  {
   "cell_type": "code",
   "execution_count": 76,
   "metadata": {
    "ExecuteTime": {
     "end_time": "2019-10-06T20:45:27.291631Z",
     "start_time": "2019-10-06T20:45:27.027324Z"
    }
   },
   "outputs": [
    {
     "name": "stdout",
     "output_type": "stream",
     "text": [
      "lambda: 0.1 run_time: 0.2553393840789795 steps_taken: 1000\n"
     ]
    }
   ],
   "source": [
    "w = lasso_shooting_vectorize(X_train,y_train)"
   ]
  }
 ],
 "metadata": {
  "kernelspec": {
   "display_name": "Python 3",
   "language": "python",
   "name": "python3"
  },
  "language_info": {
   "codemirror_mode": {
    "name": "ipython",
    "version": 3
   },
   "file_extension": ".py",
   "mimetype": "text/x-python",
   "name": "python",
   "nbconvert_exporter": "python",
   "pygments_lexer": "ipython3",
   "version": "3.7.1"
  },
  "toc": {
   "base_numbering": 1,
   "nav_menu": {},
   "number_sections": true,
   "sideBar": true,
   "skip_h1_title": false,
   "title_cell": "Table of Contents",
   "title_sidebar": "Contents",
   "toc_cell": false,
   "toc_position": {},
   "toc_section_display": true,
   "toc_window_display": false
  },
  "varInspector": {
   "cols": {
    "lenName": 16,
    "lenType": 16,
    "lenVar": 40
   },
   "kernels_config": {
    "python": {
     "delete_cmd_postfix": "",
     "delete_cmd_prefix": "del ",
     "library": "var_list.py",
     "varRefreshCmd": "print(var_dic_list())"
    },
    "r": {
     "delete_cmd_postfix": ") ",
     "delete_cmd_prefix": "rm(",
     "library": "var_list.r",
     "varRefreshCmd": "cat(var_dic_list()) "
    }
   },
   "types_to_exclude": [
    "module",
    "function",
    "builtin_function_or_method",
    "instance",
    "_Feature"
   ],
   "window_display": false
  }
 },
 "nbformat": 4,
 "nbformat_minor": 2
}
