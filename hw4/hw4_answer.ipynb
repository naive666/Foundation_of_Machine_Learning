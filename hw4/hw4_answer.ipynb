{
 "cells": [
  {
   "cell_type": "markdown",
   "metadata": {},
   "source": [
    "# Kernel Matrices   \n",
    "$$X=\\left(\\begin{array}{c}\n",
    "-x_{1}^T- \\\\\n",
    "\\vdots \\\\\n",
    "-x_{n}^T- \n",
    "\\end{array}\\right)$$  \n",
    "\n",
    "$$K=X X^T=\\left[\\begin{array}{c}\n",
    "x_{1}^T \\\\\n",
    "\\vdots \\\\\n",
    "x_{n}^T\n",
    "\\end{array}\\right]\\left[x_{1} \\cdots x_{n}\\right]$$  \n",
    "$$=\\left[\\begin{array}{c}\n",
    "x_{1}^T x_{1} \\cdots x_{1}^{\\top} x_{n} \\\\\n",
    "x_{n}^{T} x_{1} \\cdots \\cdot x_{n}^{T} x_{n}\n",
    "\\end{array}\\right]$$  \n",
    "Therefore, we need to calculate the distance between any two vectors.  \n"
   ]
  },
  {
   "cell_type": "markdown",
   "metadata": {},
   "source": [
    "# Kernel Ridge Regression   \n",
    "(1)  \n",
    "- Just calculate the derevative of $J(w)$, it is easy to get the result  \n",
    "- Since $X^TX$ is psd, and $\\lambda I$ is positive definite, then $X^TX + \\lambda I$ is positively definited, then it is invertible (determinant is larger than 0).  \n",
    "  \n",
    "(2)\n",
    "$\\alpha = \\frac{1}{\\lambda} y -\\frac{1}{\\lambda}Xw$  \n",
    "\n",
    "(3)  \n",
    "$$\\alpha = \\left(\\begin{array}{c}\n",
    "\\alpha_1 \\\\\n",
    "\\vdots \\\\\n",
    "\\alpha_n \n",
    "\\end{array}\\right)$$  \n",
    "$$X^T = \\left[x_{1} \\cdots x_{n}\\right]$$  \n",
    "$$X^T\\alpha = \\sum_i^{n}\\alpha_i x_i$$  \n",
    "Hence, $w$ lies in the span space of $X$  \n",
    "\n",
    "(4)  \n",
    "$$\\lambda \\alpha = y - XX^T\\alpha$$  \n",
    "then we have  \n",
    "$$\\alpha = (\\lambda I + XX^T)^{-1}y$$  \n",
    "\n",
    "(5)  \n",
    "$$Xw = XX^T\\alpha = K\\alpha$$  \n",
    "\n",
    "(6)  \n",
    "$$\\begin{aligned}\n",
    "f(x) &= x^Tw  \\\\\n",
    "&= xX^T\\alpha^*  \\\\\n",
    "&= x[x_1 \\cdots x_n]\\alpha^*  \\\\\n",
    "&=[x^Tx_1 \\cdots x^Tx_n]\\alpha^*  \\\\  \n",
    "&=k_x^T\\alpha^*\n",
    "\\end{aligned}$$"
   ]
  },
  {
   "cell_type": "markdown",
   "metadata": {},
   "source": [
    "# [Optional] Pegasos and SSGD for $l_2$-regularized ERM  \n",
    "(1)  \n",
    "$g_i(w) = \\lambda w + v_i(w)$  \n",
    "\n",
    "(2)\n",
    "$$\n",
    "\\begin{aligned}\n",
    "\\partial J_i(w) &= g_i(w)  \\\\  \n",
    "\\partial \\frac{1}{n} \\sum J_i(w) &= \\frac{1}{n}\\sum g_i(w) \\quad (additivity)\\\\   \n",
    "\\partial J(w) &= \\mathbb{E} g_i(w)\n",
    "\\end{aligned}\n",
    "$$  \n",
    "\n",
    "(3)  \n",
    "Proof by deduction  \n",
    "we first verify $w^{(2)}$ is correct  \n",
    "$$\n",
    "\\begin{aligned}\n",
    "w^{(2)} &= w^{(1)} - \\eta^{(1)}g_i(w^{(1)}) \\\\  \n",
    "&= 0 - \\frac{1}{\\lambda}g_i(w^{(0)})  \\\\ \n",
    "&= -\\frac{1}{\\lambda}v_i(w^{(0)})\n",
    "\\end{aligned}\n",
    "$$  \n",
    "suppose it is true at $k \\in \\mathbb{N}$, then  \n",
    "$$\n",
    "\\begin{aligned}\n",
    "w^{(k+1)} &= w^{(k)} - \\eta^{(k)}g_i(w^{(k)}) \\\\  \n",
    "&= w^{(k)} - \\frac{1}{\\lambda k}(\\lambda w^{(k)} + v_i (w^{(k)}))\\\\  \n",
    "&= (1 - \\frac{1}{k})(-\\frac{1}{\\lambda (k-1)} \\sum_{t = 1}^{k-1} v_i (w^{(t)}))\\\\  \n",
    "&= -\\frac{1}{\\lambda k}\\sum_{i=1}^{k - 1}v_i (w^{(t)}) -\\frac{1}{\\lambda k}v_i(w^{(k)})\\\\  \n",
    "&= -\\frac{1}{\\lambda k}\\sum_{t = 1}^k v_i(w^{(t)})\n",
    "\\end{aligned}\n",
    "$$  \n"
   ]
  },
  {
   "cell_type": "markdown",
   "metadata": {},
   "source": [
    "# Kernelized Pegasos\n",
    "<div align=\"center\"><img src = \"./kernelized pegasos.jpg\" width = '500' height = '100' align = center /></div>  \n",
    "\n",
    "(1)  \n",
    "$$\n",
    "\\begin{aligned}\n",
    "y_jw_{t}^Tx_j &= y_j (\\sum_{i=1}^n \\alpha_i^{(t)}x_i)^Tx_j \\\\  \n",
    "&= y_j (\\sum_{i=1}^n \\alpha_i^{(t)}k(x_i,x_j)) \\\\  \n",
    "&= y_jK_j\\alpha^{(t)}\n",
    "\\end{aligned}\n",
    "$$  \n",
    "\n",
    "(2)  \n",
    "$$\n",
    "\\begin{aligned}\n",
    "w^{(t+1)} &= (1 - \\eta^{(t)}\\lambda)w^{(t)}\\\\  \n",
    "&= (1 - \\frac{1}{t})w^{(t)}\\\\  \n",
    "&= (1 - \\frac{1}{t})\\sum_{i = 1}^n\\alpha_i^{(t)}x_i\\\\  \n",
    "&= \\sum_{i=1}^n (1 - \\frac{1}{t})\\alpha_i^{(t)}x_i\n",
    "\\end{aligned}\n",
    "$$  \n",
    "therefore  \n",
    "$$\n",
    "\\alpha^{(t+1)} = (1 - \\frac{1}{t})\\alpha^{(t)}\n",
    "$$  \n",
    "\n",
    "(3)  \n",
    "<div align=\"center\"><img src = \"./algorithm.jpg\" width = '500' height = '100' align = center /></div>  "
   ]
  },
  {
   "cell_type": "markdown",
   "metadata": {},
   "source": [
    "# Kernel Methods: Let's implement  \n",
    "##  \n"
   ]
  },
  {
   "cell_type": "code",
   "execution_count": 1,
   "metadata": {
    "ExecuteTime": {
     "end_time": "2020-09-13T02:51:00.677212Z",
     "start_time": "2020-09-13T02:50:59.557892Z"
    }
   },
   "outputs": [],
   "source": [
    "import numpy as np\n",
    "import matplotlib.pyplot as plt\n",
    "import sklearn\n",
    "import scipy.spatial\n",
    "import functools"
   ]
  },
  {
   "cell_type": "code",
   "execution_count": 2,
   "metadata": {
    "ExecuteTime": {
     "end_time": "2020-09-13T02:51:00.900194Z",
     "start_time": "2020-09-13T02:51:00.894212Z"
    }
   },
   "outputs": [],
   "source": [
    "### Kernel function generators\n",
    "def linear_kernel(X1, X2):\n",
    "    \"\"\"\n",
    "    Computes the linear kernel between two sets of vectors.\n",
    "    Args:\n",
    "        X1 - an n1xd matrix with vectors x1_1,...,x1_n1 in the rows\n",
    "        X2 - an n2xd matrix with vectors x2_1,...,x2_n2 in the rows\n",
    "    Returns:\n",
    "        matrix of size n1xn2, with x1_i^T x2_j in position i,j\n",
    "    \"\"\"\n",
    "    return np.dot(X1,np.transpose(X2))"
   ]
  },
  {
   "cell_type": "code",
   "execution_count": 3,
   "metadata": {
    "ExecuteTime": {
     "end_time": "2020-09-13T02:51:01.838888Z",
     "start_time": "2020-09-13T02:51:01.832902Z"
    }
   },
   "outputs": [],
   "source": [
    "# (1)\n",
    "def RBF_kernel(X1,X2,sigma):\n",
    "    \"\"\"\n",
    "    Computes the RBF kernel between two sets of vectors   \n",
    "    Args:\n",
    "        X1 - an n1xd matrix with vectors x1_1,...,x1_n1 in the rows\n",
    "        X2 - an n2xd matrix with vectors x2_1,...,x2_n2 in the rows\n",
    "        sigma - the bandwidth (i.e. standard deviation) for the RBF/Gaussian kernel\n",
    "    Returns:\n",
    "        matrix of size n1xn2, with exp(-||x1_i-x2_j||^2/(2 sigma^2)) in position i,j\n",
    "    \"\"\"\n",
    "    kernel=np.exp(-scipy.spatial.distance.cdist(X1,X2,'sqeuclidean')/(2*sigma**2))\n",
    "    return kernel\n"
   ]
  },
  {
   "cell_type": "code",
   "execution_count": 4,
   "metadata": {
    "ExecuteTime": {
     "end_time": "2020-09-13T02:51:03.914634Z",
     "start_time": "2020-09-13T02:51:03.908653Z"
    }
   },
   "outputs": [],
   "source": [
    "def polynomial_kernel(X1, X2, offset, degree):\n",
    "    \"\"\"\n",
    "    Computes the inhomogeneous polynomial kernel between two sets of vectors\n",
    "    Args:\n",
    "        X1 - an n1xd matrix with vectors x1_1,...,x1_n1 in the rows\n",
    "        X2 - an n2xd matrix with vectors x2_1,...,x2_n2 in the rows\n",
    "        offset, degree - two parameters for the kernel\n",
    "    Returns:\n",
    "        matrix of size n1xn2, with (offset + <x1_i,x2_j>)^degree in position i,j\n",
    "    \"\"\"\n",
    "    kernel=np.power((offset+np.dot(X1,np.transpose(X2))),degree)\n",
    "    return kernel"
   ]
  },
  {
   "cell_type": "code",
   "execution_count": 5,
   "metadata": {
    "ExecuteTime": {
     "end_time": "2020-09-12T05:39:30.012481Z",
     "start_time": "2020-09-12T05:39:29.999521Z"
    }
   },
   "outputs": [
    {
     "data": {
      "text/plain": [
       "array([[16,  4,  0, -8],\n",
       "       [ 4,  1,  0, -2],\n",
       "       [ 0,  0,  0,  0],\n",
       "       [-8, -2,  0,  4]])"
      ]
     },
     "execution_count": 5,
     "metadata": {},
     "output_type": "execute_result"
    }
   ],
   "source": [
    "input_data = np.array([-4,-1,0,2]).reshape(4,1)\n",
    "linear_kernel(input_data, input_data)"
   ]
  },
  {
   "cell_type": "code",
   "execution_count": 6,
   "metadata": {
    "ExecuteTime": {
     "end_time": "2020-09-12T05:41:18.505875Z",
     "start_time": "2020-09-12T05:41:18.335496Z"
    }
   },
   "outputs": [
    {
     "data": {
      "image/png": "[encoded data removed]",
      "text/plain": [
       "<Figure size 432x288 with 1 Axes>"
      ]
     },
     "metadata": {
      "needs_background": "light"
     },
     "output_type": "display_data"
    }
   ],
   "source": [
    "data = np.arange(-6,6.1,0.1)\n",
    "x0 = [-4,-1,0,2]\n",
    "for i in x0:\n",
    "    kernel_matrix = [linear_kernel(i,x) for x in data]\n",
    "    plt.plot(data,kernel_matrix,label='X0={}'.format(i))\n",
    "plt.legend(loc='best')\n",
    "plt.show()"
   ]
  },
  {
   "cell_type": "code",
   "execution_count": 7,
   "metadata": {
    "ExecuteTime": {
     "end_time": "2020-09-12T05:41:33.333035Z",
     "start_time": "2020-09-12T05:41:33.176265Z"
    }
   },
   "outputs": [
    {
     "data": {
      "image/png": "[encoded data removed]",
      "text/plain": [
       "<Figure size 432x288 with 1 Axes>"
      ]
     },
     "metadata": {
      "needs_background": "light"
     },
     "output_type": "display_data"
    }
   ],
   "source": [
    "data=np.arange(-6,6.1,0.1)\n",
    "x0=[-4,-1,0,2]\n",
    "for i in x0:\n",
    "    kernel_matrix=[RBF_kernel(np.array([i]).reshape(-1,1),np.array([x]).reshape(-1,1),1) for x in data]\n",
    "    kernel_matrix=[x[0][0] for x in kernel_matrix]\n",
    "    plt.plot(data,kernel_matrix,label='X0={}'.format(i))\n",
    "plt.legend(loc='best')\n",
    "plt.show()"
   ]
  },
  {
   "cell_type": "code",
   "execution_count": 8,
   "metadata": {
    "ExecuteTime": {
     "end_time": "2020-09-12T05:41:34.664041Z",
     "start_time": "2020-09-12T05:41:34.523771Z"
    }
   },
   "outputs": [
    {
     "data": {
      "image/png": "[encoded data removed]",
      "text/plain": [
       "<Figure size 432x288 with 1 Axes>"
      ]
     },
     "metadata": {
      "needs_background": "light"
     },
     "output_type": "display_data"
    }
   ],
   "source": [
    "data=np.arange(-6,6.1,0.1)\n",
    "x0=[-4,-1,0,2]\n",
    "for i in x0:\n",
    "    kernel_matrix=[polynomial_kernel(np.array([i]).reshape(-1,1),np.array([x]).reshape(-1,1),1,3) for x in data]\n",
    "    kernel_matrix=[x[0][0] for x in kernel_matrix]\n",
    "    plt.plot(data,kernel_matrix,label='X0={}'.format(i))\n",
    "plt.legend(loc='best')\n",
    "plt.show()"
   ]
  },
  {
   "cell_type": "code",
   "execution_count": 9,
   "metadata": {
    "ExecuteTime": {
     "end_time": "2020-09-12T05:41:42.699303Z",
     "start_time": "2020-09-12T05:41:42.558128Z"
    }
   },
   "outputs": [
    {
     "data": {
      "image/png": "[encoded data removed]",
      "text/plain": [
       "<Figure size 432x288 with 1 Axes>"
      ]
     },
     "metadata": {
      "needs_background": "light"
     },
     "output_type": "display_data"
    }
   ],
   "source": [
    "# PLot kernel machine functions\n",
    "\n",
    "plot_step = .01\n",
    "xpts = np.arange(-5.0, 6, plot_step).reshape(-1,1)\n",
    "prototypes = np.array([-4,-1,0,2]).reshape(-1,1)\n",
    "\n",
    "# Linear kernel\n",
    "y = linear_kernel(prototypes, xpts) \n",
    "for i in range(len(prototypes)):\n",
    "    label = \"Linear@\"+str(prototypes[i,:])\n",
    "    plt.plot(xpts, y[i,:], label=label)\n",
    "plt.legend(loc = 'best')\n",
    "plt.show() \n",
    " "
   ]
  },
  {
   "cell_type": "code",
   "execution_count": 5,
   "metadata": {
    "ExecuteTime": {
     "end_time": "2020-09-13T02:51:10.433029Z",
     "start_time": "2020-09-13T02:51:10.427044Z"
    }
   },
   "outputs": [],
   "source": [
    "class Kernel_Machine(object):\n",
    "    def __init__(self, kernel, prototype_points, weights):\n",
    "        \"\"\"\n",
    "        Args:\n",
    "            kernel(X1,X2) - a function return the cross-kernel matrix between rows of X1 and rows of X2 for kernel k\n",
    "            prototype_points - an Rxd matrix with rows mu_1,...,mu_R\n",
    "            weights - a vector of length R with entries w_1,...,w_R\n",
    "        \"\"\"\n",
    "\n",
    "        self.kernel = kernel\n",
    "        self.prototype_points = prototype_points\n",
    "        self.weights = weights\n",
    "        \n",
    "    def predict(self, X):\n",
    "        \"\"\"\n",
    "        Evaluates the kernel machine on the points given by the rows of X\n",
    "        Args:\n",
    "            X - an nxd matrix with inputs x_1,...,x_n in the rows\n",
    "        Returns:\n",
    "            Vector of kernel machine evaluations on the n points in X.  Specifically, jth entry of return vector is\n",
    "                Sum_{i=1}^R w_i k(x_j, mu_i)\n",
    "        \"\"\"\n",
    "        return np.dot(self.kernel(X,self.prototype_points),self.weights)"
   ]
  },
  {
   "cell_type": "code",
   "execution_count": 6,
   "metadata": {
    "ExecuteTime": {
     "end_time": "2020-09-13T02:51:11.619880Z",
     "start_time": "2020-09-13T02:51:11.606915Z"
    }
   },
   "outputs": [
    {
     "data": {
      "text/plain": [
       "array([[0.01077726],\n",
       "       [0.52880462],\n",
       "       [0.21306132],\n",
       "       [0.48230437]])"
      ]
     },
     "execution_count": 6,
     "metadata": {},
     "output_type": "execute_result"
    }
   ],
   "source": [
    "from functools import partial\n",
    "prototype_points = np.array([-1,0,1]).reshape(-1,1) \n",
    "weights = np.array([1,-1,1]).reshape(-1,1) \n",
    "x=np.array([-4,-1,0,2]).reshape(-1,1)\n",
    "k_rbf=partial(RBF_kernel,sigma=1)\n",
    "machine=Kernel_Machine(k_rbf,prototype_points,weights)\n",
    "machine.predict(x)"
   ]
  },
  {
   "cell_type": "code",
   "execution_count": 7,
   "metadata": {
    "ExecuteTime": {
     "end_time": "2020-09-13T02:51:14.459834Z",
     "start_time": "2020-09-13T02:51:14.455806Z"
    }
   },
   "outputs": [],
   "source": [
    "xpt=np.arange(-6,6,0.01).reshape(-1,1)\n",
    "result=[x[0] for x in machine.predict(xpt)]"
   ]
  },
  {
   "cell_type": "code",
   "execution_count": 8,
   "metadata": {
    "ExecuteTime": {
     "end_time": "2020-09-13T02:51:15.575014Z",
     "start_time": "2020-09-13T02:51:15.416743Z"
    }
   },
   "outputs": [
    {
     "data": {
      "text/plain": [
       "Text(0.5, 1.0, 'RBF_KERNEL MACHINE')"
      ]
     },
     "execution_count": 8,
     "metadata": {},
     "output_type": "execute_result"
    },
    {
     "data": {
      "image/png": "[encoded data removed]",
      "text/plain": [
       "<Figure size 432x288 with 1 Axes>"
      ]
     },
     "metadata": {
      "needs_background": "light"
     },
     "output_type": "display_data"
    }
   ],
   "source": [
    "x_axis=np.arange(-6,6,0.01)\n",
    "plt.plot(x_axis,result)\n",
    "plt.title('RBF_KERNEL MACHINE')"
   ]
  },
  {
   "cell_type": "code",
   "execution_count": 9,
   "metadata": {
    "ExecuteTime": {
     "end_time": "2020-09-13T02:51:47.472405Z",
     "start_time": "2020-09-13T02:51:47.347826Z"
    }
   },
   "outputs": [],
   "source": [
    "data_train,data_test = np.loadtxt(\"krr-train.txt\"),np.loadtxt(\"krr-test.txt\")\n",
    "x_train, y_train = data_train[:,0].reshape(-1,1),data_train[:,1].reshape(-1,1)\n",
    "x_test, y_test = data_test[:,0].reshape(-1,1),data_test[:,1].reshape(-1,1)"
   ]
  },
  {
   "cell_type": "code",
   "execution_count": 10,
   "metadata": {
    "ExecuteTime": {
     "end_time": "2020-09-13T02:51:48.499866Z",
     "start_time": "2020-09-13T02:51:48.359795Z"
    }
   },
   "outputs": [
    {
     "data": {
      "text/plain": [
       "Text(0, 0.5, 'y')"
      ]
     },
     "execution_count": 10,
     "metadata": {},
     "output_type": "execute_result"
    },
    {
     "data": {
      "image/png": "[encoded data removed]",
      "text/plain": [
       "<Figure size 432x288 with 1 Axes>"
      ]
     },
     "metadata": {
      "needs_background": "light"
     },
     "output_type": "display_data"
    }
   ],
   "source": [
    "x=data_train[:,0]\n",
    "y=data_train[:,1]\n",
    "plt.scatter(x,y)\n",
    "plt.xlabel('x')\n",
    "plt.ylabel('y')"
   ]
  },
  {
   "cell_type": "code",
   "execution_count": 11,
   "metadata": {
    "ExecuteTime": {
     "end_time": "2020-09-13T02:54:30.111676Z",
     "start_time": "2020-09-13T02:54:30.105692Z"
    }
   },
   "outputs": [],
   "source": [
    "def train_kernel_ridge_regression(X, y, kernel, l2reg):\n",
    "    #Aiming to calculate alpha\n",
    "    #we get this formula from the previous homework\n",
    "    #Essentially, this function is the \"fit()\" function in Class\n",
    "    n=X.shape[0]\n",
    "    alpha=np.linalg.inv(l2reg*np.identity(n)+kernel(X,X)).dot(y)\n",
    "    \n",
    "    return Kernel_Machine(kernel, X, alpha)"
   ]
  },
  {
   "cell_type": "code",
   "execution_count": 12,
   "metadata": {
    "ExecuteTime": {
     "end_time": "2020-09-13T02:55:10.451149Z",
     "start_time": "2020-09-13T02:55:10.281931Z"
    }
   },
   "outputs": [
    {
     "data": {
      "image/png": "[encoded data removed]",
      "text/plain": [
       "<Figure size 432x288 with 1 Axes>"
      ]
     },
     "metadata": {
      "needs_background": "light"
     },
     "output_type": "display_data"
    }
   ],
   "source": [
    "plot_step = .01\n",
    "xpts = np.arange(0 , 1, plot_step).reshape(-1,1)\n",
    "plt.plot(x_train,y_train,'o')\n",
    "l2reg = 0.0001\n",
    "for sigma in [0.01,0.1,1]:\n",
    "    k = functools.partial(RBF_kernel, sigma=sigma)\n",
    "    f = train_kernel_ridge_regression(x_train, y_train, k, l2reg=l2reg)\n",
    "    label = \"Sigma=\"+str(sigma)+\",L2Reg=\"+str(l2reg)\n",
    "    plt.plot(xpts, f.predict(xpts), label=label)\n",
    "    \n",
    "\n",
    "plt.legend(loc = 'best')\n",
    "plt.ylim(-2,2)\n",
    "plt.show()"
   ]
  },
  {
   "cell_type": "code",
   "execution_count": 13,
   "metadata": {
    "ExecuteTime": {
     "end_time": "2020-09-13T02:57:06.184322Z",
     "start_time": "2020-09-13T02:57:05.985345Z"
    }
   },
   "outputs": [
    {
     "data": {
      "image/png": "[encoded data removed]",
      "text/plain": [
       "<Figure size 432x288 with 1 Axes>"
      ]
     },
     "metadata": {
      "needs_background": "light"
     },
     "output_type": "display_data"
    }
   ],
   "source": [
    "#Fix sigma and move l2reg\n",
    "plot_step = .001\n",
    "xpts = np.arange(0 , 1, plot_step).reshape(-1,1)\n",
    "plt.plot(x_train,y_train,'o')\n",
    "sigma= .02\n",
    "for l2reg in [.0001,.01,.1,2]:\n",
    "    k = functools.partial(RBF_kernel, sigma=sigma)\n",
    "    f = train_kernel_ridge_regression(x_train, y_train, k, l2reg=l2reg)\n",
    "    label = \"Sigma=\"+str(sigma)+\",L2Reg=\"+str(l2reg)\n",
    "    plt.plot(xpts, f.predict(xpts), label=label)\n",
    "plt.legend(loc = 'best')\n",
    "plt.ylim(-1,1.5)\n",
    "plt.show()"
   ]
  },
  {
   "cell_type": "code",
   "execution_count": 14,
   "metadata": {
    "ExecuteTime": {
     "end_time": "2020-09-13T03:02:14.324984Z",
     "start_time": "2020-09-13T03:02:14.320996Z"
    }
   },
   "outputs": [],
   "source": [
    "from sklearn.base import BaseEstimator, RegressorMixin"
   ]
  },
  {
   "cell_type": "code",
   "execution_count": 21,
   "metadata": {
    "ExecuteTime": {
     "end_time": "2020-09-13T03:21:30.358008Z",
     "start_time": "2020-09-13T03:21:30.347000Z"
    }
   },
   "outputs": [],
   "source": [
    "class myKernelRidgeRegression(BaseEstimator, RegressorMixin):\n",
    "    def __init__(self, kernel = \"RBF\", sigma = 1, degree = 2, offset = 1, l2reg = 1):\n",
    "        self.kernel = kernel\n",
    "        self.sigma = sigma\n",
    "        self.degree = degree\n",
    "        self.offset = offset\n",
    "        self.l2reg = l2reg\n",
    "        \n",
    "    def fit(self, X, y = None):\n",
    "        if (self.kernel == \"linear\"):\n",
    "            self.k = linear_kernel\n",
    "        elif (self.kernel == \"RBF\"):\n",
    "            self.k = partial(RBF_kernel, sigma = self.sigma)\n",
    "        elif (self.kernel == \"polynomial\"):\n",
    "            self.k = partial(polynomial_kernel, offset = self.offset, degree = self.degree)\n",
    "        else:\n",
    "            raise ValueError('Unrecognized Kernel type requested')\n",
    "        self.machine = train_kernel_ridge_regression(X, y, self.k, self.l2reg)\n",
    "        return self\n",
    "    \n",
    "    def predict(self, X, y = None):\n",
    "        try:\n",
    "            getattr(self, \"machine\")\n",
    "        except AttributeError:\n",
    "            raise RuntimeError('You have to train your data before predict')\n",
    "        return self.machine.predict(X)\n",
    "        "
   ]
  },
  {
   "cell_type": "code",
   "execution_count": 15,
   "metadata": {
    "ExecuteTime": {
     "end_time": "2020-09-13T03:19:00.645011Z",
     "start_time": "2020-09-13T03:18:58.208103Z"
    }
   },
   "outputs": [],
   "source": [
    "from sklearn.model_selection import GridSearchCV,PredefinedSplit\n",
    "from sklearn.model_selection import ParameterGrid\n",
    "from sklearn.metrics import mean_squared_error,make_scorer\n",
    "import pandas as pd\n",
    "    \n",
    "test_fold = [-1]*len(x_train) + [0]*len(x_test)   #0 corresponds to test, -1 to train\n",
    "predefined_split = PredefinedSplit(test_fold=test_fold)"
   ]
  },
  {
   "cell_type": "code",
   "execution_count": 22,
   "metadata": {
    "ExecuteTime": {
     "end_time": "2020-09-13T03:21:32.804211Z",
     "start_time": "2020-09-13T03:21:32.537966Z"
    }
   },
   "outputs": [
    {
     "data": {
      "text/plain": [
       "GridSearchCV(cv=PredefinedSplit(test_fold=array([-1, -1, ...,  0,  0])),\n",
       "       error_score='raise-deprecating',\n",
       "       estimator=myKernelRidgeRegression(degree=2, kernel='RBF', l2reg=1, offset=1, sigma=1),\n",
       "       fit_params=None, iid='warn', n_jobs=None,\n",
       "       param_grid=[{'kernel': ['RBF'], 'sigma': [0.1, 1, 10], 'l2reg': array([32.    , 16.    ,  8.    ,  4.    ,  2.    ,  1.    ,  0.5   ,\n",
       "        0.25  ,  0.125 ,  0.0625])}, {'kernel': ['polynomial'], 'offset': [-1, 0, 1], 'degree': [2, 3, 4], 'l2reg': [10, 0.1, 0.01]}, {'kernel': ['linear'], 'l2reg': [10, 1, 0.01]}],\n",
       "       pre_dispatch='2*n_jobs', refit=True, return_train_score='warn',\n",
       "       scoring=make_scorer(mean_squared_error, greater_is_better=False),\n",
       "       verbose=0)"
      ]
     },
     "execution_count": 22,
     "metadata": {},
     "output_type": "execute_result"
    }
   ],
   "source": [
    "param_grid = [{'kernel': ['RBF'],'sigma':[.1,1,10], 'l2reg': np.exp2(-np.arange(-5,5,1))},\n",
    "              {'kernel':['polynomial'],'offset':[-1,0,1], 'degree':[2,3,4],'l2reg':[10, .1, .01] },\n",
    "              {'kernel':['linear'],'l2reg': [10,1,.01]}]\n",
    "kernel_ridge_regression_estimator = myKernelRidgeRegression()\n",
    "grid = GridSearchCV(kernel_ridge_regression_estimator, \n",
    "                    param_grid,\n",
    "                    cv = predefined_split,\n",
    "                    scoring = make_scorer(mean_squared_error,greater_is_better = False)\n",
    "                  # n_jobs = -1  #should allow parallelism, but crashes Python on my machine\n",
    "                   )\n",
    "grid.fit(np.vstack((x_train,x_test)),np.vstack((y_train,y_test))) "
   ]
  },
  {
   "cell_type": "code",
   "execution_count": 23,
   "metadata": {
    "ExecuteTime": {
     "end_time": "2020-09-13T03:22:02.270220Z",
     "start_time": "2020-09-13T03:22:02.228333Z"
    }
   },
   "outputs": [
    {
     "name": "stderr",
     "output_type": "stream",
     "text": [
      "C:\\Users\\naive\\Anaconda3\\lib\\site-packages\\sklearn\\utils\\deprecation.py:125: FutureWarning: You are accessing a training score ('split0_train_score'), which will not be available by default any more in 0.21. If you need training scores, please set return_train_score=True\n",
      "  warnings.warn(*warn_args, **warn_kwargs)\n",
      "C:\\Users\\naive\\Anaconda3\\lib\\site-packages\\sklearn\\utils\\deprecation.py:125: FutureWarning: You are accessing a training score ('mean_train_score'), which will not be available by default any more in 0.21. If you need training scores, please set return_train_score=True\n",
      "  warnings.warn(*warn_args, **warn_kwargs)\n",
      "C:\\Users\\naive\\Anaconda3\\lib\\site-packages\\sklearn\\utils\\deprecation.py:125: FutureWarning: You are accessing a training score ('std_train_score'), which will not be available by default any more in 0.21. If you need training scores, please set return_train_score=True\n",
      "  warnings.warn(*warn_args, **warn_kwargs)\n"
     ]
    },
    {
     "data": {
      "text/html": [
       "<div>\n",
       "<style scoped>\n",
       "    .dataframe tbody tr th:only-of-type {\n",
       "        vertical-align: middle;\n",
       "    }\n",
       "\n",
       "    .dataframe tbody tr th {\n",
       "        vertical-align: top;\n",
       "    }\n",
       "\n",
       "    .dataframe thead th {\n",
       "        text-align: right;\n",
       "    }\n",
       "</style>\n",
       "<table border=\"1\" class=\"dataframe\">\n",
       "  <thead>\n",
       "    <tr style=\"text-align: right;\">\n",
       "      <th></th>\n",
       "      <th>param_degree</th>\n",
       "      <th>param_kernel</th>\n",
       "      <th>param_l2reg</th>\n",
       "      <th>param_offset</th>\n",
       "      <th>param_sigma</th>\n",
       "      <th>mean_test_score</th>\n",
       "      <th>mean_train_score</th>\n",
       "    </tr>\n",
       "  </thead>\n",
       "  <tbody>\n",
       "    <tr>\n",
       "      <th>27</th>\n",
       "      <td>-</td>\n",
       "      <td>RBF</td>\n",
       "      <td>0.0625</td>\n",
       "      <td>-</td>\n",
       "      <td>0.1</td>\n",
       "      <td>0.021270</td>\n",
       "      <td>0.023245</td>\n",
       "    </tr>\n",
       "    <tr>\n",
       "      <th>24</th>\n",
       "      <td>-</td>\n",
       "      <td>RBF</td>\n",
       "      <td>0.1250</td>\n",
       "      <td>-</td>\n",
       "      <td>0.1</td>\n",
       "      <td>0.022885</td>\n",
       "      <td>0.024608</td>\n",
       "    </tr>\n",
       "    <tr>\n",
       "      <th>21</th>\n",
       "      <td>-</td>\n",
       "      <td>RBF</td>\n",
       "      <td>0.2500</td>\n",
       "      <td>-</td>\n",
       "      <td>0.1</td>\n",
       "      <td>0.024845</td>\n",
       "      <td>0.026226</td>\n",
       "    </tr>\n",
       "    <tr>\n",
       "      <th>18</th>\n",
       "      <td>-</td>\n",
       "      <td>RBF</td>\n",
       "      <td>0.5000</td>\n",
       "      <td>-</td>\n",
       "      <td>0.1</td>\n",
       "      <td>0.026609</td>\n",
       "      <td>0.028110</td>\n",
       "    </tr>\n",
       "    <tr>\n",
       "      <th>15</th>\n",
       "      <td>-</td>\n",
       "      <td>RBF</td>\n",
       "      <td>1.0000</td>\n",
       "      <td>-</td>\n",
       "      <td>0.1</td>\n",
       "      <td>0.027562</td>\n",
       "      <td>0.030319</td>\n",
       "    </tr>\n",
       "    <tr>\n",
       "      <th>12</th>\n",
       "      <td>-</td>\n",
       "      <td>RBF</td>\n",
       "      <td>2.0000</td>\n",
       "      <td>-</td>\n",
       "      <td>0.1</td>\n",
       "      <td>0.028041</td>\n",
       "      <td>0.033539</td>\n",
       "    </tr>\n",
       "    <tr>\n",
       "      <th>9</th>\n",
       "      <td>-</td>\n",
       "      <td>RBF</td>\n",
       "      <td>4.0000</td>\n",
       "      <td>-</td>\n",
       "      <td>0.1</td>\n",
       "      <td>0.030082</td>\n",
       "      <td>0.039685</td>\n",
       "    </tr>\n",
       "    <tr>\n",
       "      <th>6</th>\n",
       "      <td>-</td>\n",
       "      <td>RBF</td>\n",
       "      <td>8.0000</td>\n",
       "      <td>-</td>\n",
       "      <td>0.1</td>\n",
       "      <td>0.037650</td>\n",
       "      <td>0.052373</td>\n",
       "    </tr>\n",
       "    <tr>\n",
       "      <th>54</th>\n",
       "      <td>4</td>\n",
       "      <td>polynomial</td>\n",
       "      <td>0.0100</td>\n",
       "      <td>-1</td>\n",
       "      <td>-</td>\n",
       "      <td>0.043454</td>\n",
       "      <td>0.060135</td>\n",
       "    </tr>\n",
       "    <tr>\n",
       "      <th>3</th>\n",
       "      <td>-</td>\n",
       "      <td>RBF</td>\n",
       "      <td>16.0000</td>\n",
       "      <td>-</td>\n",
       "      <td>0.1</td>\n",
       "      <td>0.055006</td>\n",
       "      <td>0.075591</td>\n",
       "    </tr>\n",
       "    <tr>\n",
       "      <th>...</th>\n",
       "      <td>...</td>\n",
       "      <td>...</td>\n",
       "      <td>...</td>\n",
       "      <td>...</td>\n",
       "      <td>...</td>\n",
       "      <td>...</td>\n",
       "      <td>...</td>\n",
       "    </tr>\n",
       "    <tr>\n",
       "      <th>20</th>\n",
       "      <td>-</td>\n",
       "      <td>RBF</td>\n",
       "      <td>0.5000</td>\n",
       "      <td>-</td>\n",
       "      <td>10</td>\n",
       "      <td>0.164975</td>\n",
       "      <td>0.207698</td>\n",
       "    </tr>\n",
       "    <tr>\n",
       "      <th>17</th>\n",
       "      <td>-</td>\n",
       "      <td>RBF</td>\n",
       "      <td>1.0000</td>\n",
       "      <td>-</td>\n",
       "      <td>10</td>\n",
       "      <td>0.166360</td>\n",
       "      <td>0.209110</td>\n",
       "    </tr>\n",
       "    <tr>\n",
       "      <th>14</th>\n",
       "      <td>-</td>\n",
       "      <td>RBF</td>\n",
       "      <td>2.0000</td>\n",
       "      <td>-</td>\n",
       "      <td>10</td>\n",
       "      <td>0.167174</td>\n",
       "      <td>0.209937</td>\n",
       "    </tr>\n",
       "    <tr>\n",
       "      <th>11</th>\n",
       "      <td>-</td>\n",
       "      <td>RBF</td>\n",
       "      <td>4.0000</td>\n",
       "      <td>-</td>\n",
       "      <td>10</td>\n",
       "      <td>0.167614</td>\n",
       "      <td>0.210387</td>\n",
       "    </tr>\n",
       "    <tr>\n",
       "      <th>8</th>\n",
       "      <td>-</td>\n",
       "      <td>RBF</td>\n",
       "      <td>8.0000</td>\n",
       "      <td>-</td>\n",
       "      <td>10</td>\n",
       "      <td>0.167840</td>\n",
       "      <td>0.210621</td>\n",
       "    </tr>\n",
       "    <tr>\n",
       "      <th>5</th>\n",
       "      <td>-</td>\n",
       "      <td>RBF</td>\n",
       "      <td>16.0000</td>\n",
       "      <td>-</td>\n",
       "      <td>10</td>\n",
       "      <td>0.167949</td>\n",
       "      <td>0.210743</td>\n",
       "    </tr>\n",
       "    <tr>\n",
       "      <th>2</th>\n",
       "      <td>-</td>\n",
       "      <td>RBF</td>\n",
       "      <td>32.0000</td>\n",
       "      <td>-</td>\n",
       "      <td>10</td>\n",
       "      <td>0.167995</td>\n",
       "      <td>0.210809</td>\n",
       "    </tr>\n",
       "    <tr>\n",
       "      <th>51</th>\n",
       "      <td>4</td>\n",
       "      <td>polynomial</td>\n",
       "      <td>0.1000</td>\n",
       "      <td>-1</td>\n",
       "      <td>-</td>\n",
       "      <td>0.188090</td>\n",
       "      <td>0.148359</td>\n",
       "    </tr>\n",
       "    <tr>\n",
       "      <th>30</th>\n",
       "      <td>2</td>\n",
       "      <td>polynomial</td>\n",
       "      <td>10.0000</td>\n",
       "      <td>-1</td>\n",
       "      <td>-</td>\n",
       "      <td>0.202746</td>\n",
       "      <td>0.239150</td>\n",
       "    </tr>\n",
       "    <tr>\n",
       "      <th>39</th>\n",
       "      <td>3</td>\n",
       "      <td>polynomial</td>\n",
       "      <td>10.0000</td>\n",
       "      <td>-1</td>\n",
       "      <td>-</td>\n",
       "      <td>0.214186</td>\n",
       "      <td>0.256200</td>\n",
       "    </tr>\n",
       "  </tbody>\n",
       "</table>\n",
       "<p>60 rows × 7 columns</p>\n",
       "</div>"
      ],
      "text/plain": [
       "   param_degree param_kernel  param_l2reg param_offset param_sigma  \\\n",
       "27            -          RBF       0.0625            -         0.1   \n",
       "24            -          RBF       0.1250            -         0.1   \n",
       "21            -          RBF       0.2500            -         0.1   \n",
       "18            -          RBF       0.5000            -         0.1   \n",
       "15            -          RBF       1.0000            -         0.1   \n",
       "12            -          RBF       2.0000            -         0.1   \n",
       "9             -          RBF       4.0000            -         0.1   \n",
       "6             -          RBF       8.0000            -         0.1   \n",
       "54            4   polynomial       0.0100           -1           -   \n",
       "3             -          RBF      16.0000            -         0.1   \n",
       "..          ...          ...          ...          ...         ...   \n",
       "20            -          RBF       0.5000            -          10   \n",
       "17            -          RBF       1.0000            -          10   \n",
       "14            -          RBF       2.0000            -          10   \n",
       "11            -          RBF       4.0000            -          10   \n",
       "8             -          RBF       8.0000            -          10   \n",
       "5             -          RBF      16.0000            -          10   \n",
       "2             -          RBF      32.0000            -          10   \n",
       "51            4   polynomial       0.1000           -1           -   \n",
       "30            2   polynomial      10.0000           -1           -   \n",
       "39            3   polynomial      10.0000           -1           -   \n",
       "\n",
       "    mean_test_score  mean_train_score  \n",
       "27         0.021270          0.023245  \n",
       "24         0.022885          0.024608  \n",
       "21         0.024845          0.026226  \n",
       "18         0.026609          0.028110  \n",
       "15         0.027562          0.030319  \n",
       "12         0.028041          0.033539  \n",
       "9          0.030082          0.039685  \n",
       "6          0.037650          0.052373  \n",
       "54         0.043454          0.060135  \n",
       "3          0.055006          0.075591  \n",
       "..              ...               ...  \n",
       "20         0.164975          0.207698  \n",
       "17         0.166360          0.209110  \n",
       "14         0.167174          0.209937  \n",
       "11         0.167614          0.210387  \n",
       "8          0.167840          0.210621  \n",
       "5          0.167949          0.210743  \n",
       "2          0.167995          0.210809  \n",
       "51         0.188090          0.148359  \n",
       "30         0.202746          0.239150  \n",
       "39         0.214186          0.256200  \n",
       "\n",
       "[60 rows x 7 columns]"
      ]
     },
     "execution_count": 23,
     "metadata": {},
     "output_type": "execute_result"
    }
   ],
   "source": [
    "pd.set_option('display.max_rows', 20)\n",
    "df = pd.DataFrame(grid.cv_results_)\n",
    "# Flip sign of score back, because GridSearchCV likes to maximize,\n",
    "# so it flips the sign of the score if \"greater_is_better=FALSE\"\n",
    "df['mean_test_score'] = -df['mean_test_score']\n",
    "df['mean_train_score'] = -df['mean_train_score']\n",
    "cols_to_keep = [\"param_degree\", \"param_kernel\",\"param_l2reg\" ,\"param_offset\",\"param_sigma\",\n",
    "        \"mean_test_score\",\"mean_train_score\"]\n",
    "df_toshow = df[cols_to_keep].fillna('-')\n",
    "df_toshow.sort_values(by=[\"mean_test_score\"])"
   ]
  },
  {
   "cell_type": "code",
   "execution_count": null,
   "metadata": {},
   "outputs": [],
   "source": [
    "# Load and plot the SVM data\n",
    "#load the training and test sets\n",
    "data_train,data_test = np.loadtxt(\"svm-train.txt\"),np.loadtxt(\"svm-test.txt\")\n",
    "x_train, y_train = data_train[:,0:2], data_train[:,2].reshape(-1,1)\n",
    "x_test, y_test = data_test[:,0:2], data_test[:,2].reshape(-1,1)\n",
    "\n",
    "#determine predictions for the training set\n",
    "yplus = np.ma.masked_where(y_train[:,0]<=0, y_train[:,0])\n",
    "xplus = x_train[~np.array(yplus.mask)]\n",
    "yminus = np.ma.masked_where(y_train[:,0]>0, y_train[:,0])\n",
    "xminus = x_train[~np.array(yminus.mask)]\n",
    "\n",
    "#plot the predictions for the training set\n",
    "figsize = plt.figaspect(1)\n",
    "f, (ax) = plt.subplots(1, 1, figsize=figsize) \n",
    "\n",
    "pluses = ax.scatter (xplus[:,0], xplus[:,1], marker='+', c='r', label = '+1 labels for training set')\n",
    "minuses = ax.scatter (xminus[:,0], xminus[:,1], marker=r'$-$', c='b', label = '-1 labels for training set')\n",
    "\n",
    "ax.set_ylabel(r\"$x_2$\", fontsize=11)\n",
    "ax.set_xlabel(r\"$x_1$\", fontsize=11)\n",
    "ax.set_title('Training set size = %s'% len(data_train), fontsize=9)  \n",
    "ax.axis('tight')\n",
    "ax.legend(handles=[pluses, minuses], fontsize=9)\n",
    "plt.show()"
   ]
  },
  {
   "cell_type": "code",
   "execution_count": null,
   "metadata": {},
   "outputs": [],
   "source": [
    "# Code to help plot the decision regions\n",
    "# (Note: This ode isn't necessarily entirely appropriate for the questions asked. So think about what you are doing.)\n",
    " \n",
    "sigma=1\n",
    "k = functools.partial(RBF_kernel, sigma=sigma)\n",
    "f = train_soft_svm(x_train, y_train, k, ...)\n",
    "\n",
    "#determine the decision regions for the predictions\n",
    "x1_min = min(x_test[:,0])\n",
    "x1_max= max(x_test[:,0])\n",
    "x2_min = min(x_test[:,1])\n",
    "x2_max= max(x_test[:,1])\n",
    "h=0.1\n",
    "xx, yy = np.meshgrid(np.arange(x1_min, x1_max, h),\n",
    "                     np.arange(x2_min, x2_max, h))\n",
    "\n",
    "Z = f.predict(np.c_[xx.ravel(), yy.ravel()])\n",
    "Z = Z.reshape(xx.shape)\n",
    "\n",
    "#determine the predictions for the test set\n",
    "y_bar = f.predict (x_test) \n",
    "yplus = np.ma.masked_where(y_bar<=0, y_bar)\n",
    "xplus = x_test[~np.array(yplus.mask)]\n",
    "yminus = np.ma.masked_where(y_bar>0, y_bar)\n",
    "xminus = x_test[~np.array(yminus.mask)]\n",
    "\n",
    "#plot the learned boundary and the predictions for the test set\n",
    "figsize = plt.figaspect(1)\n",
    "f, (ax) = plt.subplots(1, 1, figsize=figsize) \n",
    "decision =ax.contourf(xx, yy, Z, cmap=plt.cm.coolwarm, alpha=0.8)\n",
    "pluses = ax.scatter (xplus[:,0], xplus[:,1], marker='+', c='b', label = '+1 prediction for test set')\n",
    "minuses = ax.scatter (xminus[:,0], xminus[:,1], marker=r'$-$', c='b', label = '-1 prediction for test set')\n",
    "ax.set_ylabel(r\"$x_2$\", fontsize=11)\n",
    "ax.set_xlabel(r\"$x_1$\", fontsize=11)\n",
    "ax.set_title('SVM with RBF Kernel: training set size = %s'% len(data_train), fontsize=9)  \n",
    "ax.axis('tight')\n",
    "ax.legend(handles=[pluses, minuses], fontsize=9)\n",
    "plt.show()"
   ]
  },
  {
   "cell_type": "markdown",
   "metadata": {},
   "source": [
    "# Representer Theorem  \n",
    "(1)  \n",
    "Since  \n",
    "$$\\|x\\|^{2}=\\left\\|m_{0}\\right\\|^{2}+\\left\\|x-m_{0}\\right\\|^{2}$$  \n",
    "and \n",
    "$$\\|m_0\\| = \\|x\\|$$  \n",
    "$$\\|x-m_0\\|^2 = \\langle x-m_0,x-m_0\\rangle \\geq 0 \\text{, and }\\quad \\langle x-m_0,x-m_0 \\rangle = 0  $$  \n",
    "then  \n",
    "$$x-m_0 = 0 \\quad \\Rightarrow x = m_0$$  \n"
   ]
  },
  {
   "cell_type": "markdown",
   "metadata": {},
   "source": [
    "(2)  \n",
    "**proof**  \n",
    "We consider if $w^*$ does not lie in the span space of $\\{\\psi(x_i)\\}$, then its projection on that span space is also a minimizer, and we therefore get contradiction  \n",
    "Let $w^*$ be the minimizer, and $M = span(\\psi(x_1),..,\\psi(x_n))$ --- the span of data. Let $w = Proj_Mw^*$, so $\\exists w = \\sum_{i = 1}^n \\alpha_i \\psi(x_i)$, then $$w^{\\perp}:=w^{*}-w$$ is orthogonal to $M$.  \n",
    "Projections decrease norms, then $\\|w\\| \\leqslant \\|w^*\\|$, and since $R$ is strict increasing, we have $R(\\|w\\|) \\leqslant R(\\|w^*\\|)$, if $\\|w\\| = \\|w^*\\|$, then $w^* = w$, and $w^*$ also lies in the span space; if $\\|w\\| < \\|w^*\\|$, then $J(w) < J(w^*)$, which means $w$ is the minimizer, and it lies in the span space   \n",
    "and we have $\\left\\langle w^{*}, \\psi\\left(x_{i}\\right)\\right\\rangle=\\left\\langle w+w^{\\perp}, \\psi\\left(x_{i}\\right)\\right\\rangle=\\left\\langle w, \\psi\\left(x_{i}\\right)\\right\\rangle$  "
   ]
  },
  {
   "cell_type": "markdown",
   "metadata": {},
   "source": [
    "# Ivanov and Tikhonov Regularization  \n",
    "## Tikhonov optimal implies Ivanov optimal "
   ]
  },
  {
   "cell_type": "markdown",
   "metadata": {},
   "source": [
    "**proof**  \n",
    "let $f^*$ be the solution of Tikhonov, let $r = \\Omega(f^*)$, we want to show $f^*$ is also the solution of Ivanov form. Suppose it is not, i.e. there exists $f'$, that is Ivanov optimal. Then we have $\\phi(f') < \\phi(f^*)$, and $\\Omega(f') \\leq r =\\Omega(f^*)$, then $\\phi(f') + \\lambda\\Omega(f') < \\phi(f^*) + \\lambda \\Omega(f^*)$, which contradicts that $f^*$ is the optimal of Tikhonov form."
   ]
  },
  {
   "cell_type": "markdown",
   "metadata": {},
   "source": [
    "## [Optional] Ivanov optimal implies Tikhonov optimal (when we have Strong Duality) "
   ]
  },
  {
   "cell_type": "markdown",
   "metadata": {},
   "source": [
    "(1)  \n",
    "$$L(w,\\lambda) = \\phi(w) + \\lambda(\\Omega(w) - r)$$  \n",
    "(2)  \n",
    "- Then we can write the primal and dual form  \n",
    "$$\\begin{aligned}\n",
    "p^{*} &=\\inf _{w\\in R^d} \\sup _{\\lambda\\geq  0} L(w, \\lambda) \\\\\n",
    "& \\geqslant \\sup _{ \\lambda \\geq 0} \\inf _{w\\in R^d} L(w,\\lambda)=d^{*}\n",
    "\\end{aligned}$$  \n",
    "$$g(\\lambda) = \\inf_{w\\in R^d}L(w,\\lambda)$$"
   ]
  },
  {
   "cell_type": "markdown",
   "metadata": {},
   "source": [
    "(3)  \n",
    "Strong duality inplies complementary slackness:  \n",
    "$$\\lambda^*(\\Omega(w^*) - r) = 0$$  \n",
    "we have  \n",
    "$$\\phi(w^*) = \\sup_{\\lambda \\geq 0}L(w^*, \\lambda) = g(\\lambda^*) = \\inf_{w\\in R^d}L(w, \\lambda^*)$$"
   ]
  },
  {
   "cell_type": "markdown",
   "metadata": {},
   "source": [
    "# Positive Semidefinite Matrix"
   ]
  },
  {
   "cell_type": "markdown",
   "metadata": {},
   "source": [
    "(1)  \n",
    "$$M = Q\\Sigma Q^T$$  \n",
    "since $M$ is psd, for any $x\\in R^d$  \n",
    "$$(Q^Tx)^T\\Sigma(Q^Tx) \\geq 0$$  \n",
    "since $Q^Tx \\in R^d$, $\\Sigma$ is psd,  \n",
    "then the eigenvalues of $M$ is all non-negative"
   ]
  },
  {
   "cell_type": "markdown",
   "metadata": {},
   "source": [
    "(2)  \n",
    "First we proof $M = BB^T \\qquad \\Rightarrow M$ is psd  \n",
    "choose any $x \\in R^d$, $x^TBB^Tx = (B^Tx)^TB^Tx \\geq 0$, since $B^T x \\in R^d$  \n",
    "then we proof $M$ is psd implies $M=BB^T$  \n",
    "let $B = Q\\sqrt{\\Sigma}$, where $\\sqrt{\\Sigma}$ means elementwise square root"
   ]
  },
  {
   "cell_type": "markdown",
   "metadata": {},
   "source": [
    "# Positive Definite Matrix"
   ]
  },
  {
   "cell_type": "markdown",
   "metadata": {},
   "source": [
    "(2)  \n",
    "Since $Q$ is orthogonal, $Q^T = Q^{-1}$, it is easy to show the result  \n",
    "(3)  \n",
    "$$x^T(X+\\lambda I)x =x^TMx+\\lambda x^TIx > 0$$"
   ]
  },
  {
   "cell_type": "markdown",
   "metadata": {},
   "source": [
    "(4)  \n",
    "For any $x \\ne 0$, if $x \\in \\text{ Null}(M + N)$, then $x^T(M+N)x= x^T 0 =0$,which contradicts the assumption, thus $\\text{Null}(M+N) = \\emptyset $, thus $M + N$ is invertible "
   ]
  }
 ],
 "metadata": {
  "kernelspec": {
   "display_name": "Python 3",
   "language": "python",
   "name": "python3"
  },
  "language_info": {
   "codemirror_mode": {
    "name": "ipython",
    "version": 3
   },
   "file_extension": ".py",
   "mimetype": "text/x-python",
   "name": "python",
   "nbconvert_exporter": "python",
   "pygments_lexer": "ipython3",
   "version": "3.7.1"
  },
  "latex_envs": {
   "LaTeX_envs_menu_present": true,
   "autoclose": false,
   "autocomplete": true,
   "bibliofile": "biblio.bib",
   "cite_by": "apalike",
   "current_citInitial": 1,
   "eqLabelWithNumbers": true,
   "eqNumInitial": 1,
   "hotkeys": {
    "equation": "Ctrl-E",
    "itemize": "Ctrl-I"
   },
   "labels_anchors": false,
   "latex_user_defs": false,
   "report_style_numbering": false,
   "user_envs_cfg": false
  },
  "toc": {
   "base_numbering": 1,
   "nav_menu": {},
   "number_sections": true,
   "sideBar": true,
   "skip_h1_title": false,
   "title_cell": "Table of Contents",
   "title_sidebar": "Contents",
   "toc_cell": false,
   "toc_position": {},
   "toc_section_display": true,
   "toc_window_display": false
  },
  "varInspector": {
   "cols": {
    "lenName": 16,
    "lenType": 16,
    "lenVar": 40
   },
   "kernels_config": {
    "python": {
     "delete_cmd_postfix": "",
     "delete_cmd_prefix": "del ",
     "library": "var_list.py",
     "varRefreshCmd": "print(var_dic_list())"
    },
    "r": {
     "delete_cmd_postfix": ") ",
     "delete_cmd_prefix": "rm(",
     "library": "var_list.r",
     "varRefreshCmd": "cat(var_dic_list()) "
    }
   },
   "position": {
    "height": "285.667px",
    "left": "910px",
    "right": "20px",
    "top": "120px",
    "width": "350px"
   },
   "types_to_exclude": [
    "module",
    "function",
    "builtin_function_or_method",
    "instance",
    "_Feature"
   ],
   "window_display": false
  }
 },
 "nbformat": 4,
 "nbformat_minor": 2
}
