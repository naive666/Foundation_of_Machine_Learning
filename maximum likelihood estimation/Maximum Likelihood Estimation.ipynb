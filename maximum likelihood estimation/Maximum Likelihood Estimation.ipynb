{
 "cells": [
  {
   "cell_type": "markdown",
   "metadata": {},
   "source": [
    "# Likelihood of an Estimated Probability Distribution  \n",
    "## Setting  \n",
    "- let $p(y)$ be a probablility distribution on $y$\n",
    "- $p(y)$ is unknown, and we want to estimate it  \n",
    "- assume $p(y)$ is either a\n",
    "  - probablility density function on a continuous space $y$, or  \n",
    "  - probability mass function on a discrete space $y$  \n",
    "- Typically $y$ is   \n",
    "  - $y = R$, $y = R^d$  \n",
    "  - $y = \\{-1,1\\}$, $\\{0,1,2,...,K\\}$  \n",
    "  \n",
    "## Evaluating a Probability Distribution Estimate\n",
    "Somebody gives us an estimate of the probability distribution $\\hat{p}(y)$, How can we evaluate how good it is?   \n",
    "\n",
    "## Likelihood of a Predicted Distribution\n",
    "- Suppose we have  \n",
    "$$D = (y_1,...,y_n)$$  \n",
    "sampled i.i.d. from true distribution $p(y)$.  \n",
    "- Then the **likelihood** of $\\hat{p}$ for Data $D$ is defined to be:  \n",
    "$$\\hat{p}(\\mathcal{D})=\\prod_{i=1}^{n} \\hat{p}\\left(y_{i}\\right)$$  \n",
    "- If $\\hat{p}$ is a probability mass function, then likelihood is probability\n",
    "\n",
    "\n",
    "  \n"
   ]
  },
  {
   "cell_type": "markdown",
   "metadata": {},
   "source": [
    "# Parametric Families of Distribution  \n",
    "## Parametric Function  \n",
    "A **parametric model** is a set of probability distributions indexed by a parameter $\\theta \\in \\Theta$. We denote this as  \n",
    "$$\\{p(y ; \\theta) \\mid \\theta \\in \\Theta\\}$$  \n",
    "where $\\theta$ is the parameter and $\\Theta$ is the parameter space  \n",
    "## Poisson Family\n",
    "- Support $Y = \\{0,1,2,3,...\\}$.  \n",
    "- Parameter space: $\\{\\lambda \\in R | \\lambda > 0\\}$  \n",
    "- Probability mass function on $ k \\in Y$  \n",
    "$$p(k ; \\lambda)=\\lambda^{k} e^{-\\lambda} /(k !)$$\n",
    "\n",
    "## Beta Family  \n",
    "- Support $Y = (0,1)$ [The unit interval.]   \n",
    "- Parameter space: $\\{\\theta = (\\alpha,\\beta) | \\alpha,\\beta > 0\\}$   \n",
    "- Probability density function on $y \\in Y$:  \n",
    "$$p(y ; a, b)=\\frac{y^{\\alpha-1}(1-y)^{\\beta-1}}{B(\\alpha, \\beta)}$$  \n",
    "\n",
    "## Gamma Family  \n",
    "- Support $Y = (0,\\infty)$ [Positive real numbers]   \n",
    "- Parameter space: $\\{\\theta = (k,\\theta) | k > 0,\\theta > 0\\}$  \n",
    "- Probability density function on $y \\in Y$:  \n",
    "$$p(y ; k, \\theta)=\\frac{1}{\\Gamma(k) \\theta^{k}} x^{k-1} e^{-y / \\theta}$$\n",
    "\n",
    "\n"
   ]
  },
  {
   "cell_type": "markdown",
   "metadata": {},
   "source": [
    "# Maximum Likelihood Estimation  \n",
    "## Likelihood in a Parametric Model\n",
    "Suppose we have a parametric model $\\{p(y;\\theta) | \\theta \\in \\Theta \\}$ and a sample $D = \\{y_1,...,y_n\\}$.  \n",
    "- The **likelihood** of parameter estimate $\\hat{\\theta}$ for sample $D$ is  \n",
    "$$p(\\mathcal{D} ; \\hat{\\theta})=\\prod_{i=1}^{n} p\\left(y_{i} ; \\hat{\\theta}\\right)$$  \n",
    "- In practice, we prefer to work with the log-likelihood. Same maximum but\n",
    "$$\\log p(\\mathcal{D} ; \\hat{\\theta})=\\sum_{i=1}^{n} \\log p\\left(y_{i} ; \\theta\\right)$$  \n",
    "easier to work with sum  \n",
    "\n",
    "## Maximum Likelihood Estimation\n",
    "The maximum likelihood estimator (MLE) for $\\theta$ in the model $\\{p(y,\\theta) | \\theta \\in \\Theta\\}$ is  \n",
    "$$\\begin{aligned}\n",
    "\\hat{\\theta} &=\\underset{\\theta \\in \\Theta}{\\arg \\max } \\log p(\\mathcal{D}, \\hat{\\theta}) \\\\\n",
    "&=\\underset{\\theta \\in \\Theta}{\\arg \\max } \\sum_{i=1}^{n} \\log p\\left(y_{i} ; \\theta\\right)\n",
    "\\end{aligned}$$   \n",
    "\n",
    "## MLE Existence  \n",
    "- In certain situations, the MLE may not exist.  \n",
    "- e.g. Gaussian family $\\{N(\\mu,\\sigma^2) | \\mu \\in R,\\sigma^2 > 0\\}$\t \n",
    "- We have a single observation $y$  \n",
    "- Taking $\\mu = y$ and $\\sigma^2 \\to 0$ drives likelihood to inﬁnity  \n",
    "- MLE doesn’t exist"
   ]
  },
  {
   "cell_type": "markdown",
   "metadata": {},
   "source": [
    "## Example: MLE for Poisson\n",
    "Observed counts $D = (k_1,...,k_n)$ for taxi cab pickups over $n$ weeks  \n",
    "We want to ﬁt a Poisson distribution to this data  \n",
    "The Poisson log-likelihood for a single count is  \n",
    "$$\\begin{aligned}\n",
    "\\log [p(k ; \\lambda)] &=\\log \\left[\\frac{\\lambda^{k} e^{-\\lambda}}{k !}\\right] \\\\\n",
    "&=k \\log \\lambda-\\lambda-\\log (k !)\n",
    "\\end{aligned}$$  \n",
    "The full log-likelihood is  \n",
    "$$\\log p(\\mathcal{D}, \\lambda)=\\sum_{i=1}^{n}\\left[k_{i} \\log \\lambda-\\lambda-\\log \\left(k_{i} !\\right)\\right]$$  \n",
    "First order condition gives\n",
    "$$\\begin{aligned}\n",
    "0=\\frac{\\partial}{\\partial \\lambda}[\\log p(\\mathcal{D}, \\lambda)] &=\\sum_{i=1}^{n}\\left[\\frac{k_{i}}{\\lambda}-1\\right] \\\\\n",
    "\\Longrightarrow \\lambda &=\\frac{1}{n} \\sum_{i=1}^{n} k_{i}\n",
    "\\end{aligned}$$  \n",
    "So MLE $\\hat{\\lambda}$ is just the mean of the counts  \n",
    "\n",
    "## Estimating Distributions, Overﬁtting, and Hypothesis Spaces\n",
    "- Just as in classiﬁcation and regression, MLE can overﬁt!  \n",
    "- Choose the model with the highest likelihood on validation set.\n"
   ]
  }
 ],
 "metadata": {
  "kernelspec": {
   "display_name": "Python 3",
   "language": "python",
   "name": "python3"
  },
  "language_info": {
   "codemirror_mode": {
    "name": "ipython",
    "version": 3
   },
   "file_extension": ".py",
   "mimetype": "text/x-python",
   "name": "python",
   "nbconvert_exporter": "python",
   "pygments_lexer": "ipython3",
   "version": "3.7.1"
  },
  "latex_envs": {
   "LaTeX_envs_menu_present": true,
   "autoclose": false,
   "autocomplete": false,
   "bibliofile": "biblio.bib",
   "cite_by": "apalike",
   "current_citInitial": 1,
   "eqLabelWithNumbers": true,
   "eqNumInitial": 1,
   "hotkeys": {
    "equation": "Ctrl-E",
    "itemize": "Ctrl-I"
   },
   "labels_anchors": false,
   "latex_user_defs": false,
   "report_style_numbering": false,
   "user_envs_cfg": false
  },
  "toc": {
   "base_numbering": 1,
   "nav_menu": {},
   "number_sections": true,
   "sideBar": true,
   "skip_h1_title": false,
   "title_cell": "Table of Contents",
   "title_sidebar": "Contents",
   "toc_cell": false,
   "toc_position": {},
   "toc_section_display": true,
   "toc_window_display": false
  },
  "varInspector": {
   "cols": {
    "lenName": 16,
    "lenType": 16,
    "lenVar": 40
   },
   "kernels_config": {
    "python": {
     "delete_cmd_postfix": "",
     "delete_cmd_prefix": "del ",
     "library": "var_list.py",
     "varRefreshCmd": "print(var_dic_list())"
    },
    "r": {
     "delete_cmd_postfix": ") ",
     "delete_cmd_prefix": "rm(",
     "library": "var_list.r",
     "varRefreshCmd": "cat(var_dic_list()) "
    }
   },
   "types_to_exclude": [
    "module",
    "function",
    "builtin_function_or_method",
    "instance",
    "_Feature"
   ],
   "window_display": false
  }
 },
 "nbformat": 4,
 "nbformat_minor": 2
}
